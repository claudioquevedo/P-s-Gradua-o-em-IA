{
  "nbformat": 4,
  "nbformat_minor": 0,
  "metadata": {
    "colab": {
      "provenance": [],
      "authorship_tag": "ABX9TyO/VsR+zPg9ns4bQbFS+PBa",
      "include_colab_link": true
    },
    "kernelspec": {
      "name": "python3",
      "display_name": "Python 3"
    },
    "language_info": {
      "name": "python"
    }
  },
  "cells": [
    {
      "cell_type": "markdown",
      "metadata": {
        "id": "view-in-github",
        "colab_type": "text"
      },
      "source": [
        "<a href=\"https://colab.research.google.com/github/claudioquevedo/Pos-Graduacao-em-IA/blob/master/Sistemas_Especialistas.ipynb\" target=\"_parent\"><img src=\"https://colab.research.google.com/assets/colab-badge.svg\" alt=\"Open In Colab\"/></a>"
      ]
    },
    {
      "cell_type": "markdown",
      "source": [
        "# **Avaliação de Conhecimentos Fotográficos**"
      ],
      "metadata": {
        "id": "p5KNTjBLF7nm"
      }
    },
    {
      "cell_type": "code",
      "source": [
        "# @title Instalação e importação de frameworks\n",
        "#!pip install tensorflow\n",
        "\n",
        "# Realiza as importações dos frameworks necessários\n",
        "import IPython\n",
        "import numpy as np\n",
        "import tensorflow as tf\n",
        "import os\n",
        "import warnings\n",
        "import logging\n",
        "import sys\n",
        "\n",
        "from IPython.display import display\n",
        "from IPython.display import HTML\n",
        "from enum import Enum\n",
        "from keras.preprocessing import sequence\n",
        "\n",
        "warnings.filterwarnings('ignore')"
      ],
      "metadata": {
        "id": "5bch7PwidYwt",
        "collapsed": true
      },
      "execution_count": 55,
      "outputs": []
    },
    {
      "cell_type": "code",
      "source": [
        "# @title Classe de exibição de textos formatados\n",
        "# Classe para escrever texto formatado\n",
        "class MessageType(Enum):\n",
        "  mtTitulo    = \"font-size:18px; font-weight:bold; color:#C6E5FF; text-decoration: underline; line-height: 3;\"\n",
        "  mtCabecalho = \"font-size:16px; font-weight:bold; color:#C6E5FF; text-decoration: underline; line-height: 2;\"\n",
        "  mtPergunta  = \"color: #AAD3FF; line-height: 1.5;\"\n",
        "  mtErro      = \"color:#EB564B; \"\n",
        "  mtNormal    = \"\"\n",
        "\n",
        "class Display:\n",
        "  @staticmethod\n",
        "  def ShowMessage(Message: str, MessageType: MessageType):\n",
        "    if MessageType == MessageType.mtNormal:\n",
        "      print(Message)\n",
        "    else:\n",
        "      display(HTML(f'<span style=\"{MessageType.value}\">{Message}</span>'))"
      ],
      "metadata": {
        "id": "3I6qvIPci3Vz",
        "cellView": "form"
      },
      "execution_count": 3,
      "outputs": []
    },
    {
      "cell_type": "code",
      "source": [
        "# @title Classes Data Transfer\n",
        "# Classe de tipo de questionário\n",
        "class Questionario:\n",
        "  def __init__(self, titulo: str, introducao: str):\n",
        "    self.Titulo = titulo\n",
        "    self.Introducao = introducao\n",
        "\n",
        "  def __repr__(self):\n",
        "    return f\"Questionario(Titulo={self.Titulo}, Introducao={self.Introducao})\"\n",
        "#------------------------------------------------------------------------\n",
        "\n",
        "# Classe que conterá as respostas dadas pelo usuário\n",
        "class RespostaParaAnalise:\n",
        "  def __init__(self, categoria: int, CaptionCategoria: str, pesoCategoria: float, maximoPontos: float, ponto: float):\n",
        "    self.Categoria = categoria\n",
        "    self.CaptionCategoria = CaptionCategoria\n",
        "    self.PesoCategoria = pesoCategoria\n",
        "    self.MaximoPontos = maximoPontos\n",
        "    self.Ponto = ponto\n",
        "\n",
        "  def __repr__(self):\n",
        "    return f\"RespostaParaAnalise(Categoria={self.Categoria}, CaptionCategoria={self.CaptionCategoria}, PesoCategoria={self.PesoCategoria}, MaximoPontos={self.MaximoPontos}, Ponto={self.Ponto})\"\n",
        "#------------------------------------------------------------------------\n",
        "\n",
        "# Classe que conterá o resumo da pontuação do usuário, agregado por categoria\n",
        "class CategoriaParaAnalise:\n",
        "  def __init__(self, categoria: int,  captionCategoria: str, pesoCategoria: float, maximoPontos: float, pontosObtidos: float, percentual: float):\n",
        "    self.Categoria = categoria\n",
        "    self.CaptionCategoria = captionCategoria\n",
        "    self.PesoCategoria = pesoCategoria\n",
        "    self.MaximoPontos = maximoPontos\n",
        "    self.PontosObtidos = pontosObtidos\n",
        "    self.Percentual = percentual\n",
        "\n",
        "  @property\n",
        "  def PercentualAcerto(self):\n",
        "    if self.MaximoPontos == 0:\n",
        "      return self.Percentual\n",
        "    else:\n",
        "      return self.PontosObtidos * 100 / self.MaximoPontos\n",
        "\n",
        "  def __repr__(self):\n",
        "    return f\"CategoriaParaAnalise(CaptionCategoria={self.CaptionCategoria}, categoria={self.Categoria}, pesoCategoria={self.PesoCategoria}, máximo de pontos={self.MaximoPontos}, pontos obtidos: {self.PontosObtidos})\"\n",
        "#------------------------------------------------------------------------\n",
        "\n",
        "class AnaliseRespostaCategoria:\n",
        "  def __init__(self,indice: int, categoria: int, minimo: float, maximo: float, resposta: str):\n",
        "    self.Indice = indice\n",
        "    self.Categoria = categoria\n",
        "    self.Minimo = minimo\n",
        "    self.Maximo = maximo\n",
        "    self.Resposta = resposta\n",
        "\n",
        "  def __repr__(self):\n",
        "    return f\"AnaliseRespostaCategoria(Categoria={self.Categoria}, Minimo={self.Minimo}, maximo={self.Maximo}, Resposta={self.Resposta})\"\n",
        "#------------------------------------------------------------------------\n",
        "\n",
        "\n",
        "class RespostaItem:\n",
        "  def __init__(self, index: int, caption: str, grade: float):\n",
        "    self.Index = index\n",
        "    self.Caption = caption\n",
        "    self.Grade = grade\n",
        "\n",
        "  def __repr__(self):\n",
        "    return f\"RespostaItem(Index={self.Index}, Caption={self.Caption}, Grade={self.Grade})\"\n",
        "#------------------------------------------------------------------------\n",
        "\n",
        "class PerguntaItem:\n",
        "  def __init__(self, index: int, caption: str, respostas: list[RespostaItem]):\n",
        "    self.Index = index\n",
        "    self.Caption = caption\n",
        "    self.Respostas = respostas\n",
        "\n",
        "  def __repr__(self):\n",
        "    return f\"PerguntaItem(Index={self.Index}, Caption={self.Caption}, Respostas={self.Respostas})\"\n",
        "#------------------------------------------------------------------------\n",
        "\n",
        "class CategoriaPergunteItem:\n",
        "  def __init__(self, index: int, caption: str, peso: float, perguntas: list[PerguntaItem]):\n",
        "    self.Index = index\n",
        "    self.Caption = caption\n",
        "    self.Peso = peso\n",
        "    self.Perguntas = perguntas\n",
        "\n",
        "  def __repr__(self):\n",
        "    return f\"CategoriaPergunteItem(Index={self.Index}, Caption={self.Caption}, Peso={self.Peso}, Perguntas={self.Perguntas})\"\n",
        "#------------------------------------------------------------------------"
      ],
      "metadata": {
        "id": "if93qXqZLrZ2",
        "cellView": "form"
      },
      "execution_count": 4,
      "outputs": []
    },
    {
      "cell_type": "code",
      "source": [
        "# @title Monta questionário e avaliação final\n",
        "#Builder para criar o título e a descrição do questionário\n",
        "class QuestionarioBuilder:\n",
        "  @staticmethod\n",
        "  def Build(self):\n",
        "    self.DescicaoQuestionario = Questionario(\"Avaliação de Conhecimentos Básicos de Fotografia\",\n",
        "                                             \"Com o intuito de avaliar suas capacidades fotográficas e o que conseguiu apreender durante\\n\" +\n",
        "                                             \"o curso básico de fotografia, além de guiá-lo no desenvolvimento de suas capacidades e ajudá-lo\\n\" +\n",
        "                                             \"a identificar seus pontos fortes e fracos, apresentamos a avaliação abaixo.\\n\\n\" +\n",
        "                                             \"Leia atentamente as perguntas e as respostas e indique a que melhor responde às questões propostas.\\n\" +\n",
        "                                             \"Em tempo, não pense que todas as questões são feitas de \"\"certo/errado\"\", pois em alguns casos podem \\n\" +\n",
        "                                             \"existir várias respostas certas, de acordo com o seu nível de conhecimento. Nesse caso, escolha a que\\n\" +\n",
        "                                             \"achar a mais completa ou mais correta.\\n\\n\" +\n",
        "                                             \"Vamos começar.\")\n",
        "\n",
        "    return self.DescicaoQuestionario\n",
        "#------------------------------------------------------------------------\n",
        "\n",
        "# Builder para criar a estrutura de perguntas\n",
        "class PerguntasBuilder:\n",
        "  @staticmethod\n",
        "  def Build():\n",
        "    listaPeguntas = [\n",
        "        CategoriaPergunteItem(1, \"Conceitos Básicos\", 3,\n",
        "                              [PerguntaItem(1, \"Sobre o foco em fotografias de pessoas, qual das opções você considera a mais pertinente?\",\n",
        "                                            [RespostaItem(1, \"Deve sempre abranger todo o rosto da pessoa\", 2),\n",
        "                                             RespostaItem(2, \"Deve estar sempre cravado nos olhos da pessoa\", 3),\n",
        "                                             RespostaItem(3, \"Deve estar sempre na região mais próxima da câmera, evidenciando a profundidade de campo\", 1),\n",
        "                                             RespostaItem(4, \"Pode estar em qualquer lugar da foto\", 0)]),\n",
        "                              PerguntaItem(2, \"Sobre profundidade de campo, qual das opções é a correta?\",\n",
        "                                            [RespostaItem(1, \"Quanto mais aberto o diafragma, maior a profundidade de campo\", 0),\n",
        "                                             RespostaItem(2, \"Quanto maior a velocidade do obturador, maior a profundidade de campo\", 0),\n",
        "                                             RespostaItem(3, \"Quanto mais fechado o diafragma, maior a profundidade de campo\", 3),\n",
        "                                             RespostaItem(4, \"Quanto maior o ISO, maior a profundidade de campo\", 0)]),\n",
        "                              PerguntaItem(3, \"Sobre ISO, qual das opções é a correta?\",\n",
        "                                            [RespostaItem(1, \"Determina a sensibilidade do sensor à luz que chega até ele\", 3),\n",
        "                                             RespostaItem(2, \"Determina a quantidade de luz que chega ao sensor\", 0),\n",
        "                                             RespostaItem(3, \"Determina a velocidade com que o obturador abre e fecha\", 0),\n",
        "                                             RespostaItem(4, \"Determina se a fotografia ficará ou não no foco\", 0)]),\n",
        "                               PerguntaItem(7, \"Sobre os efeitos da velocidade do obturador no resultado da foto, pode-se afirmar que:\",\n",
        "                                            [RespostaItem(1, \"Permite que o sensor \"\"perceba\"\" mais ou menos luz\", 0),\n",
        "                                             RespostaItem(2, \"Aumenta a profundidade de campo da cena\", 0),\n",
        "                                             RespostaItem(3, \"Possui como unidade de medida a letra \"\"f\"\" e quanto maior o valor, maior a quantidade de luz que chega ao sensor\", 0),\n",
        "                                             RespostaItem(4, \"É representada em segundos e suas frações e tem a capacidade de \"\"congelar\"\" a cena quando alta o suficiente\", 3)]),\n",
        "                               PerguntaItem(8, \"Sobre a abertura do diafragma, qual das opções é a mais completa?\",\n",
        "                                            [RespostaItem(1, \"Permite que o sensor \"\"perceba\"\" mais ou menos luz\", 1),\n",
        "                                             RespostaItem(2, \"Pode interferir no foco da foto, uma vez que que influencia a profundidade de campo\", 2),\n",
        "                                             RespostaItem(3, \"Além da opção anterior, possui como unidade de medida a letra \"\"f\"\" e quanto menor seu valor, mais luz chega ao sensor\", 3),\n",
        "                                             RespostaItem(4, \"Está intimamente ligada à câmera e ao tamanho do sensor\", 0)])\n",
        "                              ]),\n",
        "        CategoriaPergunteItem(2, \"Composição\", 2,\n",
        "                              [PerguntaItem(4, \"Sobre a regra dos terços, qual das opções você considera a mais pertinente?\",\n",
        "                                            [RespostaItem(1, \"É a melhor forma de posicionar os componentes da foto no quadro\", 1),\n",
        "                                             RespostaItem(2, \"Não deve ser usada, de forma alguma, por fotógrafos com conhecimentos avançados ou profissionais\", 0),\n",
        "                                             RespostaItem(3, \"É mais usada em fotografias de paisagem\", 0),\n",
        "                                             RespostaItem(4, \"É uma entre muitas formas que o fotógrafo tem para compor a cena\", 3)]),\n",
        "                               PerguntaItem(5, \"Sobre a técnica de composição utilizando \"\"linhas guia\"\", escolha a melhor opção:\",\n",
        "                                            [RespostaItem(1, \"São linhas na cena onde os pontos de atenção devem estar posicionados\", 1),\n",
        "                                             RespostaItem(2, \"São linhas imaginárias na cena que dão simetria à composição\", 2),\n",
        "                                             RespostaItem(3, \"São representadas pelos contornos dos objetos da cena\", 0),\n",
        "                                             RespostaItem(4, \"São melhor utilizadas quando sugerem inconscientemente ao observador o caminho que leva ao ponto de interesse da foto\", 3)]),\n",
        "                               PerguntaItem(6, \"Indique a melhor descrição para o uso da técnica da simetria:\",\n",
        "                                            [RespostaItem(1, \"O assunto da foto deve sempre estar centralizado e o formato da foto deve ser quadrado\", 1),\n",
        "                                             RespostaItem(2, \"Pelo menos dois lados da foto devem ser simétricos, não importando a orientação e nem o formato da foto\", 3),\n",
        "                                             RespostaItem(3, \"Os resultados de fotografias simétricas não são muito agradáveis aos olhos do observador\", 0),\n",
        "                                             RespostaItem(4, \"Nunca pode ser utilizado em fotos de retrato porque o rosto humano nunca é simétrico\", 0)])\n",
        "                              ])\n",
        "    ]\n",
        "    return listaPeguntas\n",
        "#------------------------------------------------------------------------\n",
        "\n",
        "# Builder para criar a estrutura de análise de respostas\n",
        "class ResultadosAnaliseBuilder:\n",
        "  @staticmethod\n",
        "  def Build():\n",
        "    listaResultadoAnaliseCategoria = [AnaliseRespostaCategoria(1, 1, 0, 30,   \"Você ainda precisa estudar muito. Todas as suas boas fotos são, de uma forma geral, \\n\" +\n",
        "                                                                                   \"obra da sorte.\"),\n",
        "                                           AnaliseRespostaCategoria(2, 1, 31, 50,  \"Você já tem um conhecimento básico e pode tirar boas fotos, mas ainda conta muito \\n\" +\n",
        "                                                                                   \"com o fator \"\"sorte\"\" para conseguir fotos com alguma qualidade.\"),\n",
        "                                           AnaliseRespostaCategoria(3, 1, 51, 80,  \"Você possui um bom conhecimento dos conceitos básicos de fotografia, o que lhe permite \\n\" +\n",
        "                                                                                   \"um bom aproveitamento das fotos tiradas.\"),\n",
        "                                           AnaliseRespostaCategoria(4, 1, 81, 100, \"Você possui todos os conhecimentos básicos necessários para garantir uma boa fotografia, \\n\" +\n",
        "                                                                                   \"embora somente esses conhecimentos não garantam uma foto sem as técnicas de composição \\n\" +\n",
        "                                                                                   \"adequadas.\"),\n",
        "                                           AnaliseRespostaCategoria(5, 2, 0, 30,   \"Você não consegue, de forma consciente, obter boas fotografias. Ainda depende muito da sorte.\"),\n",
        "                                           AnaliseRespostaCategoria(6, 2, 31, 50,  \"Você consegue fazer boas fotos, mas mais estudo pode garantir a sua independência da sorte.\"),\n",
        "                                           AnaliseRespostaCategoria(7, 2, 51, 80,  \"Você já consegue ótimas fotos e de forma consciente. Com esse nível de conhecimento,o fator \\n\" +\n",
        "                                                                                   \"sorte já está quase eliminado.\"),\n",
        "                                           AnaliseRespostaCategoria(8, 2, 81, 100, \"Você já é capaz de fazer excelentes fotografias e, embora a sorte seja uma grande aliada \\n\" +\n",
        "                                                                                   \"do fotógrafo e não deva ser desprezada, suas fotos já têm o potencial de impactar somente \\n\" +\n",
        "                                                                                   \"pelos seus conhecimentos.\")]\n",
        "\n",
        "    return listaResultadoAnaliseCategoria"
      ],
      "metadata": {
        "id": "UYY2vL1YBKfk",
        "cellView": "form"
      },
      "execution_count": 5,
      "outputs": []
    },
    {
      "cell_type": "code",
      "source": [
        "# @title Estrutura de classes para criar base de conhecimento\n",
        "## a estrutura de resultados das análises das categorias deverá ser um array de array\n",
        "\n",
        "class KnowledgeBase:\n",
        "\n",
        "  def __init__ (self):\n",
        "    self.__respostas = []\n",
        "    self.__resultados = []\n",
        "    self.Entradas = []\n",
        "    self.Saidas = []\n",
        "\n",
        "  def Clear(self):\n",
        "    self.__respostas.clear()\n",
        "    self.__resultados.clear()\n",
        "    return self\n",
        "\n",
        "  def Add (self, entradas, saidas):\n",
        "    self.__respostas.append(entradas)\n",
        "    self.__resultados.append(saidas)\n",
        "    return self\n",
        "\n",
        "  def Finalize (self):\n",
        "    # Preencher as sublistas com \"0\"\n",
        "    max_length = max(map(len, self.__respostas), default=0)\n",
        "    vetor_preenchido = [sublista + [0] * (max_length - len(sublista)) for sublista in self.__respostas]\n",
        "\n",
        "    vetor_normalizado = sequence.pad_sequences(self.__respostas, value=0, padding=\"post\", maxlen=len(self.__respostas[0]))\n",
        "\n",
        "    self.Entradas = (vetor_preenchido - np.min(vetor_normalizado)) / (np.max(vetor_normalizado) - np.min(vetor_normalizado))\n",
        "\n",
        "    #self.Entradas = np.array(self.__respostas)\n",
        "    self.Saidas = np.array(self.__resultados)\n",
        "    return self"
      ],
      "metadata": {
        "id": "3YvotRQgPDsK",
        "cellView": "form"
      },
      "execution_count": 6,
      "outputs": []
    },
    {
      "cell_type": "code",
      "source": [
        "# @title Cria e configura a rede neural para análise das respostas e faz seu treinamento\n",
        "class RedeNeural:\n",
        "\n",
        "  def Compile (self, respostasTreino, resultadoTreino, epochNumber = 1500, loss_method = 'binary_crossentropy', SaveData = True, UseSavedData = True, ForceTraining = True):\n",
        "    __learning_rate = 0.001\n",
        "    __l2_regularization = 0.001\n",
        "    __filePath = \"Questionario_Forografia.h5\"\n",
        "    __lerRede = UseSavedData and os.path.exists(__filePath)\n",
        "\n",
        "    original_stdout = sys.stdout\n",
        "    sys.stdout = open(os.devnull, 'w')\n",
        "\n",
        "    if __lerRede:\n",
        "      self.model = tf.keras.models.load_model(__filePath)\n",
        "    else:\n",
        "      # Construindo o modelo\n",
        "      self.model = tf.keras.Sequential([\n",
        "          tf.keras.layers.Dense(len(respostasTreino[0]), activation='relu', use_bias=False, kernel_regularizer=tf.keras.regularizers.l2(__l2_regularization)),\n",
        "          #tf.keras.layers.Conv2D(32, kernel_size=(1, 2), activation='relu', input_shape=(-1, 4, 1)),\n",
        "          tf.keras.layers.Flatten(),\n",
        "          tf.keras.layers.Dense(128, activation='relu', use_bias=False, kernel_regularizer=tf.keras.regularizers.l2(__l2_regularization)),\n",
        "          #tf.keras.layers.Dense(15, activation='relu', use_bias=False, kernel_regularizer=tf.keras.regularizers.l2(__l2_regularization)),\n",
        "          #tf.keras.layers.Dense(8, activation='relu', use_bias=False, kernel_regularizer=tf.keras.regularizers.l2(__l2_regularization)),\n",
        "          #tf.keras.layers.Dense(4, activation='relu', use_bias=False, kernel_regularizer=tf.keras.regularizers.l2(__l2_regularization)),\n",
        "          tf.keras.layers.Dense(len(resultadoTreino[0]), activation='sigmoid', kernel_regularizer=tf.keras.regularizers.l2(__l2_regularization))\n",
        "      ])\n",
        "\n",
        "      # Compilando o modelo\n",
        "      self.model.compile(optimizer=tf.keras.optimizers.Adam(learning_rate=__learning_rate), loss=loss_method, metrics=[\"accuracy\"])\n",
        "\n",
        "    # Treinando o modelo\n",
        "    if ForceTraining:\n",
        "      self.model.fit(respostasTreino, resultadoTreino, epochs = epochNumber)\n",
        "\n",
        "    # Avaliar o modelo\n",
        "    self.loss, self.accuracy = self.model.evaluate(respostasTreino, resultadoTreino)\n",
        "\n",
        "    if SaveData:\n",
        "      self.model.save(__filePath)\n",
        "\n",
        "    sys.stdout = original_stdout\n",
        "\n",
        "    return self"
      ],
      "metadata": {
        "id": "JWYdtEp-MOgz",
        "cellView": "form"
      },
      "execution_count": 54,
      "outputs": []
    },
    {
      "cell_type": "code",
      "source": [
        "# @title Cria matrizes de treinamento da rede neural e executa o treinamento\n",
        "class KnowledgeBaseBuilder:\n",
        "  @staticmethod\n",
        "  def Build(categoriasList: list, epochs = 1500, SaveData = True, UseSavedData = True, ForceTraining = True, loss_method = 'binary_crossentropy'):\n",
        "    knowledgeBase = KnowledgeBase()\n",
        "    redeNeural = RedeNeural()\n",
        "\n",
        "    # Adiciona os dados de treinamento\n",
        "    knowledgeBase.Clear() \\\n",
        "                 .Add([1, 3, 3, 3, 3, 3], [1]) \\\n",
        "                 .Add([1, 3, 3, 3, 3, 2], [0.93]) \\\n",
        "                 .Add([1, 3, 3, 3, 3, 1], [0.87]) \\\n",
        "                 .Add([1, 3, 3, 3, 3, 0], [0.8]) \\\n",
        "                 .Add([1, 3, 0, 3, 3, 3], [0.8]) \\\n",
        "                 .Add([1, 3, 0, 3, 3, 2], [0.73]) \\\n",
        "                 .Add([1, 3, 0, 3, 3, 1], [0.67]) \\\n",
        "                 .Add([1, 3, 0, 3, 3, 0], [0.6]) \\\n",
        "                 .Add([1, 3, 3, 0, 3, 3], [0.8]) \\\n",
        "                 .Add([1, 3, 3, 0, 3, 2], [0.73]) \\\n",
        "                 .Add([1, 3, 3, 0, 3, 1], [0.67]) \\\n",
        "                 .Add([1, 3, 3, 0, 3, 0], [0.6]) \\\n",
        "                 .Add([1, 3, 3, 3, 0, 3], [0.8]) \\\n",
        "                 .Add([1, 3, 3, 3, 0, 2], [0.73]) \\\n",
        "                 .Add([1, 3, 3, 3, 0, 1], [0.67]) \\\n",
        "                 .Add([1, 3, 3, 3, 0, 0], [0.6]) \\\n",
        "                 .Add([1, 3, 0, 0, 3, 3], [0.6]) \\\n",
        "                 .Add([1, 3, 0, 0, 3, 2], [0.53]) \\\n",
        "                 .Add([1, 3, 0, 0, 3, 1], [0.47]) \\\n",
        "                 .Add([1, 3, 0, 0, 3, 0], [0.4]) \\\n",
        "                 .Add([1, 3, 3, 0, 0, 3], [0.6]) \\\n",
        "                 .Add([1, 3, 3, 0, 0, 2], [0.53]) \\\n",
        "                 .Add([1, 3, 3, 0, 0, 1], [0.47]) \\\n",
        "                 .Add([1, 3, 3, 0, 0, 0], [0.4]) \\\n",
        "                 .Add([1, 3, 0, 3, 0, 3], [0.6]) \\\n",
        "                 .Add([1, 3, 0, 3, 0, 2], [0.53]) \\\n",
        "                 .Add([1, 3, 0, 3, 0, 1], [0.47]) \\\n",
        "                 .Add([1, 3, 0, 3, 0, 0], [0.4]) \\\n",
        "                 .Add([1, 2, 3, 3, 3, 3], [0.93]) \\\n",
        "                 .Add([1, 2, 3, 3, 3, 2], [0.87]) \\\n",
        "                 .Add([1, 2, 3, 3, 3, 0], [0.73]) \\\n",
        "                 .Add([1, 2, 0, 3, 3, 3], [0.73]) \\\n",
        "                 .Add([1, 2, 0, 3, 3, 2], [0.67]) \\\n",
        "                 .Add([1, 2, 0, 3, 3, 1], [0.6]) \\\n",
        "                 .Add([1, 2, 0, 3, 3, 0], [0.53]) \\\n",
        "                 .Add([1, 2, 3, 0, 3, 3], [0.73]) \\\n",
        "                 .Add([1, 0, 3, 0, 0, 0], [0.2]) \\\n",
        "                 .Add([1, 0, 0, 3, 0, 3], [0.4]) \\\n",
        "                 .Add([1, 0, 0, 3, 0, 2], [0.33]) \\\n",
        "                 .Add([1, 0, 0, 3, 0, 1], [0.27]) \\\n",
        "                 .Add([1, 0, 0, 3, 0, 0], [0.2]) \\\n",
        "                 .Add([2, 3, 3, 3, 0, 0], [1]) \\\n",
        "                 .Add([2, 3, 2, 3, 0, 0], [0.89]) \\\n",
        "                 .Add([2, 3, 1, 3, 0, 0], [0.78]) \\\n",
        "                 .Add([2, 3, 0, 3, 0, 0], [0.67]) \\\n",
        "                 .Add([2, 3, 3, 1, 0, 0], [0.78]) \\\n",
        "                 .Add([2, 3, 2, 1, 0, 0], [0.67]) \\\n",
        "                 .Add([2, 3, 1, 1, 0, 0], [0.56]) \\\n",
        "                 .Add([2, 3, 0, 1, 0, 0], [0.44]) \\\n",
        "                 .Add([2, 3, 3, 0, 0, 0], [0.67]) \\\n",
        "                 .Add([2, 3, 2, 0, 0, 0], [0.56]) \\\n",
        "                 .Add([2, 3, 1, 0, 0, 0], [0.44]) \\\n",
        "                 .Add([2, 3, 0, 0, 0, 0], [0.33]) \\\n",
        "                 .Add([2, 2, 3, 3, 0, 0], [0.89]) \\\n",
        "                 .Add([2, 2, 2, 3, 0, 0], [0.78]) \\\n",
        "                 .Add([2, 2, 1, 3, 0, 0], [0.67]) \\\n",
        "                 .Add([2, 2, 0, 3, 0, 0], [0.56]) \\\n",
        "                 .Add([2, 2, 3, 1, 0, 0], [0.67]) \\\n",
        "                 .Add([2, 2, 2, 1, 0, 0], [0.56]) \\\n",
        "                 .Add([2, 2, 1, 1, 0, 0], [0.44]) \\\n",
        "                 .Add([2, 0, 0, 0, 0, 0], [0]) \\\n",
        "                 .Add([2, 0, 3, 3, 0, 0], [0.67]) \\\n",
        "                 .Finalize()\n",
        "\n",
        "    # Compila dos dados de treinamento\n",
        "    return redeNeural.Compile(knowledgeBase.Entradas, knowledgeBase.Saidas, epochs, loss_method, SaveData, UseSavedData, ForceTraining)"
      ],
      "metadata": {
        "id": "T6x199sTM-bS",
        "cellView": "form"
      },
      "execution_count": 8,
      "outputs": []
    },
    {
      "cell_type": "code",
      "source": [
        "# @title Encapsula a classe que utiliza a rede neural numa estrutura que controla a existência ou não de um dataset já criado\n",
        "class RedeNeuralBuilder:\n",
        "  def __init__(self, listaPerguntas):\n",
        "    self.__listaPerguntas = listaPerguntas\n",
        "    self.__saveData = True\n",
        "    self.__useSavedData = True\n",
        "    self.__forceTraining = True\n",
        "    self.__epochs = 500\n",
        "    self.__lossMethod = 'binary_crossentropy'\n",
        "\n",
        "  def SaveData(self):\n",
        "    self.__saveData = True\n",
        "    return self\n",
        "\n",
        "  def DontSaveData(self):\n",
        "    self.__saveData = False\n",
        "    return self\n",
        "\n",
        "  def UseSavedData(self):\n",
        "    self.__useSavedData = True\n",
        "    return self\n",
        "\n",
        "  def DontUseSavedData(self):\n",
        "    self.__useSavedData = False\n",
        "    return self\n",
        "\n",
        "  def ForceTrainingModel(self):\n",
        "    self.__forceTraining = True\n",
        "    return self\n",
        "\n",
        "  def DontTrainModel(self):\n",
        "    self.__forceTraining = False\n",
        "    return self\n",
        "\n",
        "  def UseEpochs(self, epochs):\n",
        "    self.__epochs = epochs\n",
        "    return self\n",
        "\n",
        "  def WithLossMethod(self, loss_method):\n",
        "    self.__lossMethod = loss_method\n",
        "    return self\n",
        "\n",
        "  def Create(self):\n",
        "    if len(self.__listaPerguntas) == 0:\n",
        "      self.__listaPerguntas = PerguntasBuilder.Build()\n",
        "\n",
        "    knowledgeBaseModel = KnowledgeBaseBuilder.Build(self.__listaPerguntas, self.__epochs, self.__saveData, self.__useSavedData, self.__forceTraining, self.__lossMethod)\n",
        "    self.loss = knowledgeBaseModel.loss\n",
        "    self.accuracy = knowledgeBaseModel.accuracy\n",
        "\n",
        "    return knowledgeBaseModel.model"
      ],
      "metadata": {
        "id": "QSn-ZNg_2DFf",
        "cellView": "form"
      },
      "execution_count": 9,
      "outputs": []
    },
    {
      "cell_type": "code",
      "source": [
        "# @title Classe para ler opções de resposta\n",
        "class Keyboard:\n",
        "  @staticmethod\n",
        "  def input(opcoes_disponiveis):\n",
        "    retorno = input(\"Digite sua resposta (ou 'S' para sair): \").upper()\n",
        "\n",
        "    if (retorno != \"S\") and (retorno not in opcoes_disponiveis):\n",
        "      Display.ShowMessage(\"\", MessageType.mtNormal)\n",
        "      Display.ShowMessage(f\"A sua resposta deve estar entre as opções {opcoes_disponiveis} ou \"\"S\"\" para sair\", MessageType.mtErro)\n",
        "      Display.ShowMessage(\"\", MessageType.mtNormal)\n",
        "\n",
        "      retorno = Keyboard.input(opcoes_disponiveis)\n",
        "\n",
        "    return retorno"
      ],
      "metadata": {
        "id": "RAJMDxs-tVUa",
        "cellView": "form"
      },
      "execution_count": 10,
      "outputs": []
    },
    {
      "cell_type": "code",
      "source": [
        "# @title Classe para análise das respostas, no formato procedural, dadas em cada categoria\n",
        "class AnaliseRespostasProcedural:\n",
        "  @staticmethod\n",
        "  def AnalisarRespostas(Respostas: list[RespostaParaAnalise]):\n",
        "    listaCategoriaParaAnalises = []\n",
        "\n",
        "    if len(Respostas) > 0:\n",
        "      categoriaControle = 0\n",
        "\n",
        "      for resposta in Respostas:\n",
        "        if resposta.Categoria != categoriaControle:\n",
        "          categoriaControle = resposta.Categoria\n",
        "          listaCategoriaParaAnalises.append(CategoriaParaAnalise(resposta.Categoria,\n",
        "                                                                 resposta.CaptionCategoria,\n",
        "                                                                 resposta.PesoCategoria,\n",
        "                                                                 sum(resposta.MaximoPontos for resposta in Respostas if resposta.Categoria == categoriaControle),\n",
        "                                                                 sum(resposta.Ponto for resposta in Respostas if resposta.Categoria == categoriaControle),\n",
        "                                                                 0))\n",
        "\n",
        "    return listaCategoriaParaAnalises"
      ],
      "metadata": {
        "id": "gR7Jwv_oRq-2",
        "cellView": "form"
      },
      "execution_count": 11,
      "outputs": []
    },
    {
      "cell_type": "code",
      "source": [
        "# @title Classe para análise das respostas, usando a rede neural, dadas em cada categoria\n",
        "class AnaliseRespostasIA:\n",
        "  @staticmethod\n",
        "  def AnalisarRespostas(Respostas: list[RespostaParaAnalise]):\n",
        "\n",
        "    #-----------------------------------------------------------\n",
        "    def SortCategoria(respostaParaAnalise: RespostaParaAnalise):\n",
        "      return respostaParaAnalise.Categoria\n",
        "    #-----------------------------------------------------------\n",
        "\n",
        "\n",
        "    original_stdout = sys.stdout\n",
        "    sys.stdout = open(os.devnull, 'w')\n",
        "\n",
        "    listaCategoriaParaAnalises = []\n",
        "\n",
        "    if len(Respostas) > 0:\n",
        "      Respostas.sort(key=SortCategoria)\n",
        "      knowledgeBase = KnowledgeBase()\n",
        "\n",
        "      categoriaControle = Respostas[0].Categoria\n",
        "\n",
        "      respostas = [categoriaControle]\n",
        "\n",
        "      for resposta in Respostas:\n",
        "        if resposta.Categoria == categoriaControle:\n",
        "          respostas.append(resposta.Ponto)\n",
        "        else:\n",
        "          knowledgeBase.Add(respostas, [])\n",
        "          categoriaControle = resposta.Categoria\n",
        "          respostas = [categoriaControle]\n",
        "          respostas.append(resposta.Ponto)\n",
        "\n",
        "      knowledgeBase.Add(respostas, []) \\\n",
        "                   .Finalize()\n",
        "\n",
        "      redeNeuralBuilder = RedeNeuralBuilder([])\n",
        "      predictions = redeNeuralBuilder.DontSaveData() \\\n",
        "                                     .DontTrainModel() \\\n",
        "                                     .UseSavedData() \\\n",
        "                                     .Create() \\\n",
        "                                     .predict(knowledgeBase.Entradas)\n",
        "\n",
        "      listaPerguntas = PerguntasBuilder.Build()\n",
        "\n",
        "      for i in range(len(predictions)):\n",
        "        resposta = round(float(predictions[i]), 2)*100\n",
        "        categoria = next((categoria for categoria in listaPerguntas if categoria.Index == i + 1))\n",
        "        listaCategoriaParaAnalises.append(CategoriaParaAnalise(i + 1,\n",
        "                                                               categoria.Caption,\n",
        "                                                               categoria.Peso,\n",
        "                                                               0,\n",
        "                                                               0,\n",
        "                                                               predictions[i][0]))\n",
        "\n",
        "    sys.stdout = original_stdout"
      ],
      "metadata": {
        "id": "FflEjchm3kIQ",
        "cellView": "form"
      },
      "execution_count": 58,
      "outputs": []
    },
    {
      "cell_type": "code",
      "source": [
        "# @title Classe para exibir os resultados da análise final\n",
        "class ResultadosAnalise:\n",
        "\n",
        "  @staticmethod\n",
        "  def Exibir(self, listaCategoriaParaAnalises, tipoAnalise: str):\n",
        "    Display.ShowMessage(\"\", MessageType.mtNormal)\n",
        "\n",
        "    if len(listaCategoriaParaAnalises) > 0:\n",
        "      Display.ShowMessage(f\"Análise das Respostas Dadas ({tipoAnalise})\", MessageType.mtCabecalho)\n",
        "\n",
        "\n",
        "      listaRespostas = ResultadosAnaliseBuilder.Build();\n",
        "\n",
        "      #TO DO: Criar uma classe para respostas de considerações finais, baseadas no peso e pontuação em cada categoria\n",
        "\n",
        "      for categoriaParaAnalise in listaCategoriaParaAnalises:\n",
        "        Display.ShowMessage(categoriaParaAnalise.CaptionCategoria, MessageType.mtPergunta)\n",
        "        resposta = next((itemResposta.Resposta for itemResposta in listaRespostas if (itemResposta.Minimo <= categoriaParaAnalise.PercentualAcerto <= itemResposta.Maximo) and itemResposta.Categoria == categoriaParaAnalise.Categoria), \"<não identificado>\")\n",
        "        Display.ShowMessage(resposta, MessageType.mtNormal)\n",
        "        Display.ShowMessage(\"\", MessageType.mtNormal)\n",
        "\n",
        "      Display.ShowMessage(\"\", MessageType.mtNormal)\n",
        "    else:\n",
        "      Display.ShowMessage(\"Nenhuma resposta foi fornecida para análise!\", MessageType.mtErro)"
      ],
      "metadata": {
        "id": "82KvezL5yvNI",
        "cellView": "form"
      },
      "execution_count": 28,
      "outputs": []
    },
    {
      "cell_type": "code",
      "source": [
        "# @title Classe que exibe o questionário e recolhe as respostas a cada pergunta\n",
        "\n",
        "class AvaliacaoFotografo:\n",
        "  def __init__(self):\n",
        "    self.finalizarExecucao = False;\n",
        "    self.respostasAnalise = []\n",
        "    self.listaPerguntas = PerguntasBuilder.Build()\n",
        "    self.Introducao = QuestionarioBuilder.Build(self)\n",
        "\n",
        "  #-----------------------------------------------------------------------------\n",
        "  def Le_Resposta(self, opcoes_disponiveis):\n",
        "    if self.finalizarExecucao:\n",
        "      return\n",
        "\n",
        "    retorno = Keyboard.input(opcoes_disponiveis)\n",
        "\n",
        "    if retorno == \"S\":\n",
        "      self.finalizarExecucao = True\n",
        "\n",
        "    return retorno\n",
        "  #-----------------------------------------------------------------------------\n",
        "\n",
        "  def IniciarAvaliacao(self):\n",
        "    #Introdução\n",
        "    Display.ShowMessage(self.Introducao.Titulo, MessageType.mtTitulo)\n",
        "    Display.ShowMessage(\"Introdução\", MessageType.mtCabecalho)\n",
        "    Display.ShowMessage(self.Introducao.Introducao, MessageType.mtNormal)\n",
        "    Display.ShowMessage(\"\", MessageType.mtNormal)\n",
        "\n",
        "    # Mostra a categoria da pergunta\n",
        "    for categoria in self.listaPerguntas:\n",
        "      Display.ShowMessage(categoria.Caption, MessageType.mtCabecalho)\n",
        "\n",
        "      # Mostra a pergunta da vez\n",
        "      for pergunta in categoria.Perguntas:\n",
        "        Display.ShowMessage(pergunta.Caption, MessageType.mtPergunta)\n",
        "\n",
        "        # Mostra as opções de resposta à pergunta da vez\n",
        "        for resposta in pergunta.Respostas:\n",
        "          Display.ShowMessage(f\"\\t{resposta.Index} - {resposta.Caption}\", MessageType.mtNormal)\n",
        "\n",
        "        # Espera que o usuário responda\n",
        "        resposta_dada = self.Le_Resposta([\"1\", \"2\", \"3\", \"4\"])\n",
        "\n",
        "        Display.ShowMessage(chr(175) * 45, MessageType.mtPergunta)\n",
        "\n",
        "        # Sai da aplicação caso o usuário decida\n",
        "        if self.finalizarExecucao:\n",
        "          break\n",
        "        else:\n",
        "          Display.ShowMessage(\"\", MessageType.mtNormal)\n",
        "\n",
        "        # Valida e pega o peso da resposta dada\n",
        "        for resposta in pergunta.Respostas:\n",
        "           if int(resposta_dada) == resposta.Index:\n",
        "              self.respostasAnalise.append(RespostaParaAnalise(categoria.Index, categoria.Caption, categoria.Peso, max(resposta.Grade for resposta in pergunta.Respostas), resposta.Grade))\n",
        "              break\n",
        "\n",
        "      if self.finalizarExecucao:\n",
        "        break\n",
        "      else:\n",
        "        Display.ShowMessage(\"\", MessageType.mtNormal)\n",
        "\n",
        "    if self.finalizarExecucao:\n",
        "      Display.ShowMessage(\"\", MessageType.mtNormal)\n",
        "      Display.ShowMessage(\"O usuário solicitou a finalização da avaliação!\", MessageType.mtErro)\n",
        "\n",
        "    resultadosAnalise = AnaliseRespostasProcedural.AnalisarRespostas(self.respostasAnalise)\n",
        "    ResultadosAnalise.Exibir(self, resultadosAnalise, \"análise procedural\")\n",
        "    Display.ShowMessage(\"\", MessageType.mtTitulo)\n",
        "    Display.ShowMessage(\"\", MessageType.mtTitulo)\n",
        "    AnaliseRespostasIA.AnalisarRespostas(self.respostasAnalise)\n",
        "    ResultadosAnalise.Exibir(self, resultadosAnalise, \"análise por Rede Neural\")"
      ],
      "metadata": {
        "id": "EOE1Iwa3OB0Z",
        "cellView": "form"
      },
      "execution_count": 29,
      "outputs": []
    },
    {
      "cell_type": "code",
      "source": [
        "# @title Executa a aplicação de questionário sobre conhecimentos fotográficos\n",
        "#\n",
        "AvaliacaoFotografo().IniciarAvaliacao()\n",
        "\n",
        "#TO DO: Gerar respostas em arquivo texto\n",
        "#TO DO: Criar um método"
      ],
      "metadata": {
        "id": "x_xM-6TYySDg",
        "cellView": "form",
        "colab": {
          "base_uri": "https://localhost:8080/",
          "height": 1000
        },
        "outputId": "0a702c38-e9f6-4f32-fdd2-5847037a3d33"
      },
      "execution_count": 59,
      "outputs": [
        {
          "output_type": "display_data",
          "data": {
            "text/plain": [
              "<IPython.core.display.HTML object>"
            ],
            "text/html": [
              "<span style=\"font-size:18px; font-weight:bold; color:#C6E5FF; text-decoration: underline; line-height: 3;\">Avaliação de Conhecimentos Básicos de Fotografia</span>"
            ]
          },
          "metadata": {}
        },
        {
          "output_type": "display_data",
          "data": {
            "text/plain": [
              "<IPython.core.display.HTML object>"
            ],
            "text/html": [
              "<span style=\"font-size:16px; font-weight:bold; color:#C6E5FF; text-decoration: underline; line-height: 2;\">Introdução</span>"
            ]
          },
          "metadata": {}
        },
        {
          "output_type": "stream",
          "name": "stdout",
          "text": [
            "Com o intuito de avaliar suas capacidades fotográficas e o que conseguiu apreender durante\n",
            "o curso básico de fotografia, além de guiá-lo no desenvolvimento de suas capacidades e ajudá-lo\n",
            "a identificar seus pontos fortes e fracos, apresentamos a avaliação abaixo.\n",
            "\n",
            "Leia atentamente as perguntas e as respostas e indique a que melhor responde às questões propostas.\n",
            "Em tempo, não pense que todas as questões são feitas de certo/errado, pois em alguns casos podem \n",
            "existir várias respostas certas, de acordo com o seu nível de conhecimento. Nesse caso, escolha a que\n",
            "achar a mais completa ou mais correta.\n",
            "\n",
            "Vamos começar.\n",
            "\n"
          ]
        },
        {
          "output_type": "display_data",
          "data": {
            "text/plain": [
              "<IPython.core.display.HTML object>"
            ],
            "text/html": [
              "<span style=\"font-size:16px; font-weight:bold; color:#C6E5FF; text-decoration: underline; line-height: 2;\">Conceitos Básicos</span>"
            ]
          },
          "metadata": {}
        },
        {
          "output_type": "display_data",
          "data": {
            "text/plain": [
              "<IPython.core.display.HTML object>"
            ],
            "text/html": [
              "<span style=\"color: #AAD3FF; line-height: 1.5;\">Sobre o foco em fotografias de pessoas, qual das opções você considera a mais pertinente?</span>"
            ]
          },
          "metadata": {}
        },
        {
          "name": "stdout",
          "output_type": "stream",
          "text": [
            "\t1 - Deve sempre abranger todo o rosto da pessoa\n",
            "\t2 - Deve estar sempre cravado nos olhos da pessoa\n",
            "\t3 - Deve estar sempre na região mais próxima da câmera, evidenciando a profundidade de campo\n",
            "\t4 - Pode estar em qualquer lugar da foto\n",
            "Digite sua resposta (ou 'S' para sair): 1\n"
          ]
        },
        {
          "output_type": "display_data",
          "data": {
            "text/plain": [
              "<IPython.core.display.HTML object>"
            ],
            "text/html": [
              "<span style=\"color: #AAD3FF; line-height: 1.5;\">¯¯¯¯¯¯¯¯¯¯¯¯¯¯¯¯¯¯¯¯¯¯¯¯¯¯¯¯¯¯¯¯¯¯¯¯¯¯¯¯¯¯¯¯¯</span>"
            ]
          },
          "metadata": {}
        },
        {
          "output_type": "stream",
          "name": "stdout",
          "text": [
            "\n"
          ]
        },
        {
          "output_type": "display_data",
          "data": {
            "text/plain": [
              "<IPython.core.display.HTML object>"
            ],
            "text/html": [
              "<span style=\"color: #AAD3FF; line-height: 1.5;\">Sobre profundidade de campo, qual das opções é a correta?</span>"
            ]
          },
          "metadata": {}
        },
        {
          "name": "stdout",
          "output_type": "stream",
          "text": [
            "\t1 - Quanto mais aberto o diafragma, maior a profundidade de campo\n",
            "\t2 - Quanto maior a velocidade do obturador, maior a profundidade de campo\n",
            "\t3 - Quanto mais fechado o diafragma, maior a profundidade de campo\n",
            "\t4 - Quanto maior o ISO, maior a profundidade de campo\n",
            "Digite sua resposta (ou 'S' para sair): 1\n"
          ]
        },
        {
          "output_type": "display_data",
          "data": {
            "text/plain": [
              "<IPython.core.display.HTML object>"
            ],
            "text/html": [
              "<span style=\"color: #AAD3FF; line-height: 1.5;\">¯¯¯¯¯¯¯¯¯¯¯¯¯¯¯¯¯¯¯¯¯¯¯¯¯¯¯¯¯¯¯¯¯¯¯¯¯¯¯¯¯¯¯¯¯</span>"
            ]
          },
          "metadata": {}
        },
        {
          "output_type": "stream",
          "name": "stdout",
          "text": [
            "\n"
          ]
        },
        {
          "output_type": "display_data",
          "data": {
            "text/plain": [
              "<IPython.core.display.HTML object>"
            ],
            "text/html": [
              "<span style=\"color: #AAD3FF; line-height: 1.5;\">Sobre ISO, qual das opções é a correta?</span>"
            ]
          },
          "metadata": {}
        },
        {
          "name": "stdout",
          "output_type": "stream",
          "text": [
            "\t1 - Determina a sensibilidade do sensor à luz que chega até ele\n",
            "\t2 - Determina a quantidade de luz que chega ao sensor\n",
            "\t3 - Determina a velocidade com que o obturador abre e fecha\n",
            "\t4 - Determina se a fotografia ficará ou não no foco\n",
            "Digite sua resposta (ou 'S' para sair): 1\n"
          ]
        },
        {
          "output_type": "display_data",
          "data": {
            "text/plain": [
              "<IPython.core.display.HTML object>"
            ],
            "text/html": [
              "<span style=\"color: #AAD3FF; line-height: 1.5;\">¯¯¯¯¯¯¯¯¯¯¯¯¯¯¯¯¯¯¯¯¯¯¯¯¯¯¯¯¯¯¯¯¯¯¯¯¯¯¯¯¯¯¯¯¯</span>"
            ]
          },
          "metadata": {}
        },
        {
          "output_type": "stream",
          "name": "stdout",
          "text": [
            "\n"
          ]
        },
        {
          "output_type": "display_data",
          "data": {
            "text/plain": [
              "<IPython.core.display.HTML object>"
            ],
            "text/html": [
              "<span style=\"color: #AAD3FF; line-height: 1.5;\">Sobre os efeitos da velocidade do obturador no resultado da foto, pode-se afirmar que:</span>"
            ]
          },
          "metadata": {}
        },
        {
          "name": "stdout",
          "output_type": "stream",
          "text": [
            "\t1 - Permite que o sensor perceba mais ou menos luz\n",
            "\t2 - Aumenta a profundidade de campo da cena\n",
            "\t3 - Possui como unidade de medida a letra f e quanto maior o valor, maior a quantidade de luz que chega ao sensor\n",
            "\t4 - É representada em segundos e suas frações e tem a capacidade de congelar a cena quando alta o suficiente\n",
            "Digite sua resposta (ou 'S' para sair): 1\n"
          ]
        },
        {
          "output_type": "display_data",
          "data": {
            "text/plain": [
              "<IPython.core.display.HTML object>"
            ],
            "text/html": [
              "<span style=\"color: #AAD3FF; line-height: 1.5;\">¯¯¯¯¯¯¯¯¯¯¯¯¯¯¯¯¯¯¯¯¯¯¯¯¯¯¯¯¯¯¯¯¯¯¯¯¯¯¯¯¯¯¯¯¯</span>"
            ]
          },
          "metadata": {}
        },
        {
          "output_type": "stream",
          "name": "stdout",
          "text": [
            "\n"
          ]
        },
        {
          "output_type": "display_data",
          "data": {
            "text/plain": [
              "<IPython.core.display.HTML object>"
            ],
            "text/html": [
              "<span style=\"color: #AAD3FF; line-height: 1.5;\">Sobre a abertura do diafragma, qual das opções é a mais completa?</span>"
            ]
          },
          "metadata": {}
        },
        {
          "name": "stdout",
          "output_type": "stream",
          "text": [
            "\t1 - Permite que o sensor perceba mais ou menos luz\n",
            "\t2 - Pode interferir no foco da foto, uma vez que que influencia a profundidade de campo\n",
            "\t3 - Além da opção anterior, possui como unidade de medida a letra f e quanto menor seu valor, mais luz chega ao sensor\n",
            "\t4 - Está intimamente ligada à câmera e ao tamanho do sensor\n",
            "Digite sua resposta (ou 'S' para sair): 1\n"
          ]
        },
        {
          "output_type": "display_data",
          "data": {
            "text/plain": [
              "<IPython.core.display.HTML object>"
            ],
            "text/html": [
              "<span style=\"color: #AAD3FF; line-height: 1.5;\">¯¯¯¯¯¯¯¯¯¯¯¯¯¯¯¯¯¯¯¯¯¯¯¯¯¯¯¯¯¯¯¯¯¯¯¯¯¯¯¯¯¯¯¯¯</span>"
            ]
          },
          "metadata": {}
        },
        {
          "output_type": "stream",
          "name": "stdout",
          "text": [
            "\n",
            "\n"
          ]
        },
        {
          "output_type": "display_data",
          "data": {
            "text/plain": [
              "<IPython.core.display.HTML object>"
            ],
            "text/html": [
              "<span style=\"font-size:16px; font-weight:bold; color:#C6E5FF; text-decoration: underline; line-height: 2;\">Composição</span>"
            ]
          },
          "metadata": {}
        },
        {
          "output_type": "display_data",
          "data": {
            "text/plain": [
              "<IPython.core.display.HTML object>"
            ],
            "text/html": [
              "<span style=\"color: #AAD3FF; line-height: 1.5;\">Sobre a regra dos terços, qual das opções você considera a mais pertinente?</span>"
            ]
          },
          "metadata": {}
        },
        {
          "name": "stdout",
          "output_type": "stream",
          "text": [
            "\t1 - É a melhor forma de posicionar os componentes da foto no quadro\n",
            "\t2 - Não deve ser usada, de forma alguma, por fotógrafos com conhecimentos avançados ou profissionais\n",
            "\t3 - É mais usada em fotografias de paisagem\n",
            "\t4 - É uma entre muitas formas que o fotógrafo tem para compor a cena\n",
            "Digite sua resposta (ou 'S' para sair): 1\n"
          ]
        },
        {
          "output_type": "display_data",
          "data": {
            "text/plain": [
              "<IPython.core.display.HTML object>"
            ],
            "text/html": [
              "<span style=\"color: #AAD3FF; line-height: 1.5;\">¯¯¯¯¯¯¯¯¯¯¯¯¯¯¯¯¯¯¯¯¯¯¯¯¯¯¯¯¯¯¯¯¯¯¯¯¯¯¯¯¯¯¯¯¯</span>"
            ]
          },
          "metadata": {}
        },
        {
          "output_type": "stream",
          "name": "stdout",
          "text": [
            "\n"
          ]
        },
        {
          "output_type": "display_data",
          "data": {
            "text/plain": [
              "<IPython.core.display.HTML object>"
            ],
            "text/html": [
              "<span style=\"color: #AAD3FF; line-height: 1.5;\">Sobre a técnica de composição utilizando linhas guia, escolha a melhor opção:</span>"
            ]
          },
          "metadata": {}
        },
        {
          "name": "stdout",
          "output_type": "stream",
          "text": [
            "\t1 - São linhas na cena onde os pontos de atenção devem estar posicionados\n",
            "\t2 - São linhas imaginárias na cena que dão simetria à composição\n",
            "\t3 - São representadas pelos contornos dos objetos da cena\n",
            "\t4 - São melhor utilizadas quando sugerem inconscientemente ao observador o caminho que leva ao ponto de interesse da foto\n",
            "Digite sua resposta (ou 'S' para sair): 1\n"
          ]
        },
        {
          "output_type": "display_data",
          "data": {
            "text/plain": [
              "<IPython.core.display.HTML object>"
            ],
            "text/html": [
              "<span style=\"color: #AAD3FF; line-height: 1.5;\">¯¯¯¯¯¯¯¯¯¯¯¯¯¯¯¯¯¯¯¯¯¯¯¯¯¯¯¯¯¯¯¯¯¯¯¯¯¯¯¯¯¯¯¯¯</span>"
            ]
          },
          "metadata": {}
        },
        {
          "output_type": "stream",
          "name": "stdout",
          "text": [
            "\n"
          ]
        },
        {
          "output_type": "display_data",
          "data": {
            "text/plain": [
              "<IPython.core.display.HTML object>"
            ],
            "text/html": [
              "<span style=\"color: #AAD3FF; line-height: 1.5;\">Indique a melhor descrição para o uso da técnica da simetria:</span>"
            ]
          },
          "metadata": {}
        },
        {
          "name": "stdout",
          "output_type": "stream",
          "text": [
            "\t1 - O assunto da foto deve sempre estar centralizado e o formato da foto deve ser quadrado\n",
            "\t2 - Pelo menos dois lados da foto devem ser simétricos, não importando a orientação e nem o formato da foto\n",
            "\t3 - Os resultados de fotografias simétricas não são muito agradáveis aos olhos do observador\n",
            "\t4 - Nunca pode ser utilizado em fotos de retrato porque o rosto humano nunca é simétrico\n",
            "Digite sua resposta (ou 'S' para sair): 1\n"
          ]
        },
        {
          "output_type": "display_data",
          "data": {
            "text/plain": [
              "<IPython.core.display.HTML object>"
            ],
            "text/html": [
              "<span style=\"color: #AAD3FF; line-height: 1.5;\">¯¯¯¯¯¯¯¯¯¯¯¯¯¯¯¯¯¯¯¯¯¯¯¯¯¯¯¯¯¯¯¯¯¯¯¯¯¯¯¯¯¯¯¯¯</span>"
            ]
          },
          "metadata": {}
        },
        {
          "output_type": "stream",
          "name": "stdout",
          "text": [
            "\n",
            "\n",
            "\n"
          ]
        },
        {
          "output_type": "display_data",
          "data": {
            "text/plain": [
              "<IPython.core.display.HTML object>"
            ],
            "text/html": [
              "<span style=\"font-size:16px; font-weight:bold; color:#C6E5FF; text-decoration: underline; line-height: 2;\">Análise das Respostas Dadas (análise procedural)</span>"
            ]
          },
          "metadata": {}
        },
        {
          "output_type": "display_data",
          "data": {
            "text/plain": [
              "<IPython.core.display.HTML object>"
            ],
            "text/html": [
              "<span style=\"color: #AAD3FF; line-height: 1.5;\">Conceitos Básicos</span>"
            ]
          },
          "metadata": {}
        },
        {
          "output_type": "stream",
          "name": "stdout",
          "text": [
            "Você já tem um conhecimento básico e pode tirar boas fotos, mas ainda conta muito \n",
            "com o fator sorte para conseguir fotos com alguma qualidade.\n",
            "\n"
          ]
        },
        {
          "output_type": "display_data",
          "data": {
            "text/plain": [
              "<IPython.core.display.HTML object>"
            ],
            "text/html": [
              "<span style=\"color: #AAD3FF; line-height: 1.5;\">Composição</span>"
            ]
          },
          "metadata": {}
        },
        {
          "output_type": "stream",
          "name": "stdout",
          "text": [
            "Você consegue fazer boas fotos, mas mais estudo pode garantir a sua independência da sorte.\n",
            "\n",
            "\n"
          ]
        },
        {
          "output_type": "display_data",
          "data": {
            "text/plain": [
              "<IPython.core.display.HTML object>"
            ],
            "text/html": [
              "<span style=\"font-size:18px; font-weight:bold; color:#C6E5FF; text-decoration: underline; line-height: 3;\"></span>"
            ]
          },
          "metadata": {}
        },
        {
          "output_type": "display_data",
          "data": {
            "text/plain": [
              "<IPython.core.display.HTML object>"
            ],
            "text/html": [
              "<span style=\"font-size:18px; font-weight:bold; color:#C6E5FF; text-decoration: underline; line-height: 3;\"></span>"
            ]
          },
          "metadata": {}
        },
        {
          "output_type": "stream",
          "name": "stdout",
          "text": [
            "\n"
          ]
        },
        {
          "output_type": "display_data",
          "data": {
            "text/plain": [
              "<IPython.core.display.HTML object>"
            ],
            "text/html": [
              "<span style=\"font-size:16px; font-weight:bold; color:#C6E5FF; text-decoration: underline; line-height: 2;\">Análise das Respostas Dadas (análise por Rede Neural)</span>"
            ]
          },
          "metadata": {}
        },
        {
          "output_type": "display_data",
          "data": {
            "text/plain": [
              "<IPython.core.display.HTML object>"
            ],
            "text/html": [
              "<span style=\"color: #AAD3FF; line-height: 1.5;\">Conceitos Básicos</span>"
            ]
          },
          "metadata": {}
        },
        {
          "output_type": "stream",
          "name": "stdout",
          "text": [
            "Você já tem um conhecimento básico e pode tirar boas fotos, mas ainda conta muito \n",
            "com o fator sorte para conseguir fotos com alguma qualidade.\n",
            "\n"
          ]
        },
        {
          "output_type": "display_data",
          "data": {
            "text/plain": [
              "<IPython.core.display.HTML object>"
            ],
            "text/html": [
              "<span style=\"color: #AAD3FF; line-height: 1.5;\">Composição</span>"
            ]
          },
          "metadata": {}
        },
        {
          "output_type": "stream",
          "name": "stdout",
          "text": [
            "Você consegue fazer boas fotos, mas mais estudo pode garantir a sua independência da sorte.\n",
            "\n",
            "\n"
          ]
        }
      ]
    },
    {
      "cell_type": "code",
      "source": [
        "# @title Testes de criação, aprendizado e utilização da rede neural\n",
        "\n",
        "class TesteRedeNeural:\n",
        "  @staticmethod\n",
        "  def Testar():\n",
        "    knowledgeBase = KnowledgeBase().Add([1, 2, 3, 3, 3, 1], []) \\\n",
        "                                  .Add([2, 2, 2, 0], []) \\\n",
        "                                  .Finalize()\n",
        "    print(knowledgeBase.Entradas)\n",
        "    #raise Exception(\"Interrupção do código\")\n",
        "\n",
        "    analiseRespostasCategoria = ResultadosAnaliseBuilder.Build()\n",
        "    listaPerguntas = PerguntasBuilder.Build()\n",
        "\n",
        "    redeNeuralBuilder = RedeNeuralBuilder(listaPerguntas)\n",
        "    #--------------------------------------------------------------------------\n",
        "    loss = 0\n",
        "    accuracy = 1\n",
        "    evaluateResults = []\n",
        "    lossAnterior = 1\n",
        "    lossAtual = 0\n",
        "\n",
        "    while lossAtual < lossAnterior:\n",
        "      model = redeNeuralBuilder.SaveData() \\\n",
        "                              .UseSavedData() \\\n",
        "                              .ForceTrainingModel() \\\n",
        "                              .UseEpochs(1500) \\\n",
        "                              .WithLossMethod('binary_crossentropy') \\\n",
        "                              .Create()\n",
        "\n",
        "      if lossAtual != 0:\n",
        "        lossAnterior = lossAtual\n",
        "\n",
        "      lossAtual = redeNeuralBuilder.loss\n",
        "      evaluateResults.append([redeNeuralBuilder.loss,\n",
        "                              redeNeuralBuilder.accuracy])\n",
        "\n",
        "    print()\n",
        "    for evaluateResult in evaluateResults:\n",
        "      print(f\"loss: {evaluateResult[loss]}\")\n",
        "      print(f\"accuracy: {evaluateResult[accuracy]}\")\n",
        "    print()\n",
        "    print()\n",
        "\n",
        "    predictions = model.predict(knowledgeBase.Entradas)\n",
        "\n",
        "    print(predictions)\n",
        "\n",
        "    for i in range(len(knowledgeBase.Entradas)):\n",
        "      resposta = round(float(predictions[i]), 2)*100\n",
        "      categoria = next((categoria for categoria in listaPerguntas if categoria.Index == i + 1))\n",
        "      analise = next((analise for analise in analiseRespostasCategoria if (resposta >= analise.Minimo and resposta <= analise.Maximo) and (analise.Categoria == i + 1)))\n",
        "\n",
        "      print(f\"As análises para a categoria {categoria.Caption} foi: {resposta}%\")\n",
        "      print()\n",
        "      print(categoria.Caption)\n",
        "      print(analise.Resposta)\n",
        "      print()\n",
        "\n",
        "#TesteRedeNeural.Testar()"
      ],
      "metadata": {
        "id": "l2zdIdxYkqjb",
        "cellView": "form"
      },
      "execution_count": 60,
      "outputs": []
    }
  ]
}