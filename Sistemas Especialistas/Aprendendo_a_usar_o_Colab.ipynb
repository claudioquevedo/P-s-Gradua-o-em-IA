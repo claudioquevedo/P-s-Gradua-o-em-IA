{
  "nbformat": 4,
  "nbformat_minor": 0,
  "metadata": {
    "colab": {
      "provenance": [],
      "collapsed_sections": [
        "H0G1LJU79Eck"
      ],
      "authorship_tag": "ABX9TyP9aQUJC1f8L4BCv5cvOIFo",
      "include_colab_link": true
    },
    "kernelspec": {
      "name": "python3",
      "display_name": "Python 3"
    },
    "language_info": {
      "name": "python"
    }
  },
  "cells": [
    {
      "cell_type": "markdown",
      "metadata": {
        "id": "view-in-github",
        "colab_type": "text"
      },
      "source": [
        "<a href=\"https://colab.research.google.com/github/claudioquevedo/Pos-Graduacao-em-IA/blob/master/Sistemas%20Especialistas/Aprendendo_a_usar_o_Colab.ipynb\" target=\"_parent\"><img src=\"https://colab.research.google.com/assets/colab-badge.svg\" alt=\"Open In Colab\"/></a>"
      ]
    },
    {
      "cell_type": "code",
      "execution_count": null,
      "metadata": {
        "id": "1_tNN6dl6_Ak"
      },
      "outputs": [],
      "source": []
    },
    {
      "cell_type": "markdown",
      "source": [
        "# **Teste de arrumação de código**\n",
        "\n",
        "*   Item da lista\n",
        "*   Item da lista\n",
        "\n"
      ],
      "metadata": {
        "id": "H0G1LJU79Eck"
      }
    },
    {
      "cell_type": "markdown",
      "source": [],
      "metadata": {
        "id": "xorLRItz9st6"
      }
    },
    {
      "cell_type": "code",
      "source": [
        "# Declaração de variáveis\n",
        "x = 10.0\n",
        "y = 20.0\n",
        "resultado = 0.0"
      ],
      "metadata": {
        "id": "I0heox519OQj"
      },
      "execution_count": null,
      "outputs": []
    },
    {
      "cell_type": "code",
      "source": [
        "# Fazendo atribuição de valores\n",
        "resultado = x + y"
      ],
      "metadata": {
        "id": "C2acb4AYFicr"
      },
      "execution_count": null,
      "outputs": []
    },
    {
      "cell_type": "code",
      "source": [
        "# Exibindo o resultado\n",
        "print(resultado)"
      ],
      "metadata": {
        "colab": {
          "base_uri": "https://localhost:8080/"
        },
        "id": "KHu32wg0Fqns",
        "outputId": "09cbb738-4d21-4b29-bb8d-36a2941c981e"
      },
      "execution_count": null,
      "outputs": [
        {
          "output_type": "stream",
          "name": "stdout",
          "text": [
            "30.0\n"
          ]
        }
      ]
    },
    {
      "cell_type": "markdown",
      "source": [
        "# **Avaliação de Conhecimentos Fotográficos**"
      ],
      "metadata": {
        "id": "p5KNTjBLF7nm"
      }
    },
    {
      "cell_type": "code",
      "source": [
        "# Instala os frtameworks necessários\n",
        "!pip install IPython\n",
        "!pip install --upgrade IPython\n",
        "\n",
        "# Realiza as importações dos frameworks necessários\n",
        "import IPython\n",
        "from IPython.display import display\n",
        "from IPython.display import HTML\n"
      ],
      "metadata": {
        "colab": {
          "base_uri": "https://localhost:8080/"
        },
        "id": "5bch7PwidYwt",
        "outputId": "1977583d-4d0d-4915-d29f-67703a718d98"
      },
      "execution_count": 117,
      "outputs": [
        {
          "output_type": "stream",
          "name": "stdout",
          "text": [
            "Requirement already satisfied: IPython in /usr/local/lib/python3.10/dist-packages (8.21.0)\n",
            "Requirement already satisfied: decorator in /usr/local/lib/python3.10/dist-packages (from IPython) (4.4.2)\n",
            "Requirement already satisfied: jedi>=0.16 in /usr/local/lib/python3.10/dist-packages (from IPython) (0.19.1)\n",
            "Requirement already satisfied: matplotlib-inline in /usr/local/lib/python3.10/dist-packages (from IPython) (0.1.6)\n",
            "Requirement already satisfied: prompt-toolkit<3.1.0,>=3.0.41 in /usr/local/lib/python3.10/dist-packages (from IPython) (3.0.43)\n",
            "Requirement already satisfied: pygments>=2.4.0 in /usr/local/lib/python3.10/dist-packages (from IPython) (2.16.1)\n",
            "Requirement already satisfied: stack-data in /usr/local/lib/python3.10/dist-packages (from IPython) (0.6.3)\n",
            "Requirement already satisfied: traitlets>=5 in /usr/local/lib/python3.10/dist-packages (from IPython) (5.7.1)\n",
            "Requirement already satisfied: exceptiongroup in /usr/local/lib/python3.10/dist-packages (from IPython) (1.2.0)\n",
            "Requirement already satisfied: pexpect>4.3 in /usr/local/lib/python3.10/dist-packages (from IPython) (4.9.0)\n",
            "Requirement already satisfied: parso<0.9.0,>=0.8.3 in /usr/local/lib/python3.10/dist-packages (from jedi>=0.16->IPython) (0.8.3)\n",
            "Requirement already satisfied: ptyprocess>=0.5 in /usr/local/lib/python3.10/dist-packages (from pexpect>4.3->IPython) (0.7.0)\n",
            "Requirement already satisfied: wcwidth in /usr/local/lib/python3.10/dist-packages (from prompt-toolkit<3.1.0,>=3.0.41->IPython) (0.2.13)\n",
            "Requirement already satisfied: executing>=1.2.0 in /usr/local/lib/python3.10/dist-packages (from stack-data->IPython) (2.0.1)\n",
            "Requirement already satisfied: asttokens>=2.1.0 in /usr/local/lib/python3.10/dist-packages (from stack-data->IPython) (2.4.1)\n",
            "Requirement already satisfied: pure-eval in /usr/local/lib/python3.10/dist-packages (from stack-data->IPython) (0.2.2)\n",
            "Requirement already satisfied: six>=1.12.0 in /usr/local/lib/python3.10/dist-packages (from asttokens>=2.1.0->stack-data->IPython) (1.16.0)\n",
            "Requirement already satisfied: IPython in /usr/local/lib/python3.10/dist-packages (8.21.0)\n",
            "Requirement already satisfied: decorator in /usr/local/lib/python3.10/dist-packages (from IPython) (4.4.2)\n",
            "Requirement already satisfied: jedi>=0.16 in /usr/local/lib/python3.10/dist-packages (from IPython) (0.19.1)\n",
            "Requirement already satisfied: matplotlib-inline in /usr/local/lib/python3.10/dist-packages (from IPython) (0.1.6)\n",
            "Requirement already satisfied: prompt-toolkit<3.1.0,>=3.0.41 in /usr/local/lib/python3.10/dist-packages (from IPython) (3.0.43)\n",
            "Requirement already satisfied: pygments>=2.4.0 in /usr/local/lib/python3.10/dist-packages (from IPython) (2.16.1)\n",
            "Requirement already satisfied: stack-data in /usr/local/lib/python3.10/dist-packages (from IPython) (0.6.3)\n",
            "Requirement already satisfied: traitlets>=5 in /usr/local/lib/python3.10/dist-packages (from IPython) (5.7.1)\n",
            "Requirement already satisfied: exceptiongroup in /usr/local/lib/python3.10/dist-packages (from IPython) (1.2.0)\n",
            "Requirement already satisfied: pexpect>4.3 in /usr/local/lib/python3.10/dist-packages (from IPython) (4.9.0)\n",
            "Requirement already satisfied: parso<0.9.0,>=0.8.3 in /usr/local/lib/python3.10/dist-packages (from jedi>=0.16->IPython) (0.8.3)\n",
            "Requirement already satisfied: ptyprocess>=0.5 in /usr/local/lib/python3.10/dist-packages (from pexpect>4.3->IPython) (0.7.0)\n",
            "Requirement already satisfied: wcwidth in /usr/local/lib/python3.10/dist-packages (from prompt-toolkit<3.1.0,>=3.0.41->IPython) (0.2.13)\n",
            "Requirement already satisfied: executing>=1.2.0 in /usr/local/lib/python3.10/dist-packages (from stack-data->IPython) (2.0.1)\n",
            "Requirement already satisfied: asttokens>=2.1.0 in /usr/local/lib/python3.10/dist-packages (from stack-data->IPython) (2.4.1)\n",
            "Requirement already satisfied: pure-eval in /usr/local/lib/python3.10/dist-packages (from stack-data->IPython) (0.2.2)\n",
            "Requirement already satisfied: six>=1.12.0 in /usr/local/lib/python3.10/dist-packages (from asttokens>=2.1.0->stack-data->IPython) (1.16.0)\n"
          ]
        }
      ]
    },
    {
      "cell_type": "code",
      "source": [
        "# Define as cores dos cabeçalhos e mensagens de erro\n",
        "formatacao_cabecalho = \"font-size:16px; font-weight:bold; color:#C6E5FF; text-decoration: underline; line-height: 2;\"\n",
        "formatacao_pergunta = \"color: #AAD3FF; line-height: 1.5;\"\n",
        "formatacao_erro = \"color:#EB564B; \""
      ],
      "metadata": {
        "id": "3I6qvIPci3Vz"
      },
      "execution_count": 174,
      "outputs": []
    },
    {
      "cell_type": "code",
      "source": [
        "# Definição das perguntas\n",
        "perguntas_array = [\n",
        "                    [\"Conceitos Básicos\", 3,\n",
        "                      [\n",
        "                          \"Sobre o foco em fotografias de pessoas, qual das opções você considera a mais pertinente?\", 1,\n",
        "                            [\n",
        "                                [1, \"\\t1 - Deve sempre abranger todo o rosto da pessoa\", 2],\n",
        "                                [2, \"\\t2 - Deve estar sempre cravado nos olhos da pessoa\", 3],\n",
        "                                [3, \"\\t3 - Deve estar sempre na região mais próxima da câmera, evidenciando a profundidade de campo\", 1],\n",
        "                                [4, \"\\t4 - Pode estar em qualquer lugar da foto\", 0]\n",
        "                            ]\n",
        "                      ],\n",
        "                      [\"Sobre profundidade de campo, qual das opções é a correta?\", 2,\n",
        "                            [\n",
        "                                [1, \"\\t1 - Quanto mais aberto o diafragma, maior a profundidade de campo\", 0],\n",
        "                                [2, \"\\t2 - Quanto maior a velocidade do obturador, maior a profundidade de campo\", 0],\n",
        "                                [3, \"\\t3 - Quanto mais fechado o diafragma, maior a profundidade de campo\", 3],\n",
        "                                [4, \"\\t4 - Quanto maior o ISO, maior a profundidade de campo\", 0]\n",
        "                            ]\n",
        "                      ],\n",
        "                      [\"Sobre ISO, qual das opções é a correta?\", 3,\n",
        "                            [\n",
        "                                [1, \"\\t1 - Determina a sensibilidade do sensor à luz que chega até ele\", 3],\n",
        "                                [2, \"\\t2 - Determina a quantidade de luz que chega ao sensor\", 0],\n",
        "                                [3, \"\\t3 - Determina a velocidade com que o obturador abre e fecha\", 0],\n",
        "                                [4, \"\\t4 - Determina se a fotografia ficará ou não no foco\", 0]\n",
        "                            ]\n",
        "                      ]\n",
        "                   ],\n",
        "                   [\"Composição\", 1,\n",
        "                      [\"Sobre a regra dos terços, qual das opções você considera a mais pertinente?\", 4,\n",
        "                            [\n",
        "                                [1, \"\\t1 - É a melhor forma de posicionar os componentes da foto no quadro\", 1],\n",
        "                                [2, \"\\t2 - Não deve ser usada, de forma alguma, por fotógrafos com conhecimentos avançados ou profissionais\", 0],\n",
        "                                [3, \"\\t3 - É mais usada em fotografias de paisagem\", 0],\n",
        "                                [4, \"\\t4 - É uma entre muitas formas que o fotógrafo tem para compor a cena\", 0]\n",
        "                            ]\n",
        "                      ]\n",
        "                    ]\n",
        "                  ]"
      ],
      "metadata": {
        "id": "cWmuvLflGN50"
      },
      "execution_count": 149,
      "outputs": []
    },
    {
      "cell_type": "code",
      "source": [
        "# Classes utilizadas pela classe principal AvaliacaoFotografo\n",
        "class RespostaParaAnalise:\n",
        "  def __init__(self, categoria: str, peso: float):\n",
        "    self.categoria = categoria\n",
        "    self.peso = peso\n",
        "\n",
        "  def __repr__(self):\n",
        "    return f\"Resposta(categoria={self.categoria}, peso={self.peso})\"\n",
        "\n",
        "#------------------------------------------------------------------------"
      ],
      "metadata": {
        "id": "lNln7VjFLEyN"
      },
      "execution_count": 136,
      "outputs": []
    },
    {
      "cell_type": "code",
      "source": [
        "# Classe para análise das respostas dadas em cada categoria\n",
        "class AnaliseRespostas:\n",
        "  def AnalisarRespostas(self, Respostas):\n",
        "    print()\n",
        "    display(HTML(f'<span style=\"{formatacao_cabecalho}\">Análise das Respostas</span>'))\n",
        "    print()\n",
        "\n",
        "    # Identificar quantos pontos cada categoria suporta\n",
        "\n",
        "    # Definir os intervalos de grupos de sugestões para cada categoria segundo o peso das respostas dessa categoria\n",
        "\n",
        "    # Definir O resultado geral baseado no peso de cada categoria (ainda falta dizer o peso na definição de cada categoria)\n",
        "\n",
        "    # Apresentar o resultado de cada categoria\n",
        "\n",
        "    # Apresentar o resultado final da análise\n",
        "\n",
        "    for resposta in Respostas:\n",
        "      print(f\"Categoria: {resposta.categoria}, Peso da Resposta: {resposta.peso}\")"
      ],
      "metadata": {
        "id": "gR7Jwv_oRq-2"
      },
      "execution_count": 167,
      "outputs": []
    },
    {
      "cell_type": "code",
      "source": [
        "# Exibe o questionário e recolhe as respostas a cada pergunta\n",
        "\n",
        "class AvaliacaoFotografo:\n",
        "  def __init__(self):\n",
        "    self.finalizarExecucao = False;\n",
        "    self.respostasAnalise = []\n",
        "\n",
        "    display(HTML(f'<span style=\"{formatacao_cabecalho}\">Introdução</span>'))\n",
        "    print(\"Você está prestes a fazer uma avaliação dos seus conhecimentos sobre fotografia.\")\n",
        "    print(\"Leia atentamente as perguntas e as respostas e indique a que melhor responde às questões propostas.\")\n",
        "    print()\n",
        "    print(\"Vamos começar.\")\n",
        "    print()\n",
        "\n",
        "  #-----------------------------------------------------------------------------\n",
        "  def Le_Resposta(self, opcoes_disponiveis):\n",
        "    if self.finalizarExecucao:\n",
        "      return\n",
        "\n",
        "    #resposta = input(\"Digite sua resposta (ou 'S' para sair): \").upper()\n",
        "    retorno = input(\"Digite sua resposta (ou 'S' para sair): \").upper()\n",
        "\n",
        "    if (retorno != \"S\") and (retorno not in opcoes_disponiveis):\n",
        "      print()\n",
        "      display(HTML(f'<span style=\"{formatacao_erro}\">A sua resposta deve estar entre as opções {opcoes_disponiveis} ou \"S\" para sair</span>'))\n",
        "      print()\n",
        "      retorno = self.Le_Resposta(opcoes_disponiveis)\n",
        "\n",
        "    if retorno == \"S\":\n",
        "      self.finalizarExecucao = True\n",
        "\n",
        "    return retorno\n",
        "  #-----------------------------------------------------------------------------\n",
        "\n",
        "  def IniciarAvaliacao(self):\n",
        "    # Mostra a categoria da pergunta\n",
        "    for categoria in perguntas_array:\n",
        "      display(HTML(f'<span style=\"{formatacao_cabecalho}\">{categoria[0]}</span>'))\n",
        "\n",
        "      # Mostra a pergunta da vez\n",
        "      for pergunta in categoria[2:]:\n",
        "        display(HTML(f'<span style=\"{formatacao_pergunta}\">{pergunta[0]}</span>'))\n",
        "\n",
        "        # Mostra as opções de resposta à pergunta da vez\n",
        "        for respostas in pergunta[2:]:\n",
        "          for resposta in respostas:\n",
        "            print(resposta[1])\n",
        "\n",
        "        # Espera que o usuário responda\n",
        "        resposta_dada = self.Le_Resposta([\"1\", \"2\", \"3\", \"4\"])\n",
        "\n",
        "        # Sai da aplicação caso o usuário decida\n",
        "        if self.finalizarExecucao:\n",
        "          break\n",
        "        else:\n",
        "          print()\n",
        "\n",
        "        # Valida e pega o peso da resposta dada\n",
        "        for respostas in pergunta[2:]:\n",
        "          for resposta in respostas:\n",
        "            if float(resposta_dada) == resposta[0]:\n",
        "              self.respostasAnalise.append(RespostaParaAnalise(categoria[1], resposta[2]))\n",
        "\n",
        "      if self.finalizarExecucao:\n",
        "        break\n",
        "      else:\n",
        "        print()\n",
        "\n",
        "    if self.finalizarExecucao:\n",
        "      print()\n",
        "      print(\"O usuário solicitou a finalização da avaliação!\")\n",
        "\n",
        "    AnaliseRespostas().AnalisarRespostas(self.respostasAnalise)"
      ],
      "metadata": {
        "id": "A30HGC2MbiBN"
      },
      "execution_count": 177,
      "outputs": []
    },
    {
      "cell_type": "code",
      "source": [
        "# Executando a aplicação\n",
        "AvaliacaoFotografo().IniciarAvaliacao()"
      ],
      "metadata": {
        "colab": {
          "base_uri": "https://localhost:8080/",
          "height": 446
        },
        "id": "x_xM-6TYySDg",
        "outputId": "9e7419a4-9241-483c-bfa4-068f52c5141e"
      },
      "execution_count": 178,
      "outputs": [
        {
          "output_type": "display_data",
          "data": {
            "text/plain": [
              "<IPython.core.display.HTML object>"
            ],
            "text/html": [
              "<span style=\"font-size:16px; font-weight:bold; color:#C6E5FF; text-decoration: underline; line-height: 2;\">Introdução</span>"
            ]
          },
          "metadata": {}
        },
        {
          "output_type": "stream",
          "name": "stdout",
          "text": [
            "Você está prestes a fazer uma avaliação dos seus conhecimentos sobre fotografia.\n",
            "Leia atentamente as perguntas e as respostas e indique a que melhor responde às questões propostas.\n",
            "\n",
            "Vamos começar.\n",
            "\n"
          ]
        },
        {
          "output_type": "display_data",
          "data": {
            "text/plain": [
              "<IPython.core.display.HTML object>"
            ],
            "text/html": [
              "<span style=\"font-size:16px; font-weight:bold; color:#C6E5FF; text-decoration: underline; line-height: 2;\">Conceitos Básicos</span>"
            ]
          },
          "metadata": {}
        },
        {
          "output_type": "display_data",
          "data": {
            "text/plain": [
              "<IPython.core.display.HTML object>"
            ],
            "text/html": [
              "<span style=\"color: #AAD3FF; line-height: 1.5;\">Sobre o foco em fotografias de pessoas, qual das opções você considera a mais pertinente?</span>"
            ]
          },
          "metadata": {}
        },
        {
          "output_type": "stream",
          "name": "stdout",
          "text": [
            "\t1 - Deve sempre abranger todo o rosto da pessoa\n",
            "\t2 - Deve estar sempre cravado nos olhos da pessoa\n",
            "\t3 - Deve estar sempre na região mais próxima da câmera, evidenciando a profundidade de campo\n",
            "\t4 - Pode estar em qualquer lugar da foto\n",
            "Digite sua resposta (ou 'S' para sair): a\n",
            "\n"
          ]
        },
        {
          "output_type": "display_data",
          "data": {
            "text/plain": [
              "<IPython.core.display.HTML object>"
            ],
            "text/html": [
              "<span style=\"color:#EB564B; \">A sua resposta deve estar entre as opções ['1', '2', '3', '4'] ou \"S\" para sair</span>"
            ]
          },
          "metadata": {}
        },
        {
          "output_type": "stream",
          "name": "stdout",
          "text": [
            "\n",
            "Digite sua resposta (ou 'S' para sair): s\n",
            "\n",
            "O usuário solicitou a finalização da avaliação!\n",
            "\n"
          ]
        },
        {
          "output_type": "display_data",
          "data": {
            "text/plain": [
              "<IPython.core.display.HTML object>"
            ],
            "text/html": [
              "<span style=\"font-size:16px; font-weight:bold; color:#C6E5FF; text-decoration: underline; line-height: 2;\">Análise das Respostas</span>"
            ]
          },
          "metadata": {}
        },
        {
          "output_type": "stream",
          "name": "stdout",
          "text": [
            "\n"
          ]
        }
      ]
    }
  ]
}