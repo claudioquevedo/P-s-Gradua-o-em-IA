{
  "nbformat": 4,
  "nbformat_minor": 0,
  "metadata": {
    "colab": {
      "provenance": [],
      "authorship_tag": "ABX9TyMg4qC0mDHlDO7nrm/OywK3",
      "include_colab_link": true
    },
    "kernelspec": {
      "name": "python3",
      "display_name": "Python 3"
    },
    "language_info": {
      "name": "python"
    }
  },
  "cells": [
    {
      "cell_type": "markdown",
      "metadata": {
        "id": "view-in-github",
        "colab_type": "text"
      },
      "source": [
        "<a href=\"https://colab.research.google.com/github/claudioquevedo/Pos-Graduacao-em-IA/blob/master/Sistemas%20Especialistas/Sistemas_Especialistas.ipynb\" target=\"_parent\"><img src=\"https://colab.research.google.com/assets/colab-badge.svg\" alt=\"Open In Colab\"/></a>"
      ]
    },
    {
      "cell_type": "markdown",
      "source": [
        "# **Avaliação de Conhecimentos Fotográficos**"
      ],
      "metadata": {
        "id": "p5KNTjBLF7nm"
      }
    },
    {
      "cell_type": "markdown",
      "source": [],
      "metadata": {
        "id": "XMUCwssbSTI1"
      }
    },
    {
      "cell_type": "code",
      "source": [
        "# @title\n",
        "!pip install IPython\n",
        "import IPython\n",
        "from IPython.display import display, HTML, clear_output\n",
        "#from IPython.display import HTML\n",
        "from enum import Enum\n",
        "\n",
        "input(\"teste: \")\n",
        "# Display com formatação usando <span>\n",
        "formatted_text = '<span style=\"font-size: 18px; font-weight: bold; color: #C6E5FF; text-decoration: underline; line-height: 3;\">TESTE</span>'\n",
        "display(HTML(formatted_text))\n",
        "\n",
        "# Segundo input com estilo resetado\n",
        "reset_style_code = '<script>document.querySelector(\".input\").style = \"\";</script>'\n",
        "display(HTML(f\"{reset_style_code}\"))\n",
        "\n",
        "input(\"Teste: \")"
      ],
      "metadata": {
        "colab": {
          "base_uri": "https://localhost:8080/",
          "height": 772
        },
        "cellView": "form",
        "id": "iXXz7IL4Lnga",
        "outputId": "4f7ed68f-be6b-40d5-dcaf-2811fcd26f99"
      },
      "execution_count": 55,
      "outputs": [
        {
          "name": "stdout",
          "output_type": "stream",
          "text": [
            "Requirement already satisfied: IPython in /usr/local/lib/python3.10/dist-packages (8.21.0)\n",
            "Requirement already satisfied: decorator in /usr/local/lib/python3.10/dist-packages (from IPython) (4.4.2)\n",
            "Requirement already satisfied: jedi>=0.16 in /usr/local/lib/python3.10/dist-packages (from IPython) (0.19.1)\n",
            "Requirement already satisfied: matplotlib-inline in /usr/local/lib/python3.10/dist-packages (from IPython) (0.1.6)\n",
            "Requirement already satisfied: prompt-toolkit<3.1.0,>=3.0.41 in /usr/local/lib/python3.10/dist-packages (from IPython) (3.0.43)\n",
            "Requirement already satisfied: pygments>=2.4.0 in /usr/local/lib/python3.10/dist-packages (from IPython) (2.16.1)\n",
            "Requirement already satisfied: stack-data in /usr/local/lib/python3.10/dist-packages (from IPython) (0.6.3)\n",
            "Requirement already satisfied: traitlets>=5 in /usr/local/lib/python3.10/dist-packages (from IPython) (5.7.1)\n",
            "Requirement already satisfied: exceptiongroup in /usr/local/lib/python3.10/dist-packages (from IPython) (1.2.0)\n",
            "Requirement already satisfied: pexpect>4.3 in /usr/local/lib/python3.10/dist-packages (from IPython) (4.9.0)\n",
            "Requirement already satisfied: parso<0.9.0,>=0.8.3 in /usr/local/lib/python3.10/dist-packages (from jedi>=0.16->IPython) (0.8.3)\n",
            "Requirement already satisfied: ptyprocess>=0.5 in /usr/local/lib/python3.10/dist-packages (from pexpect>4.3->IPython) (0.7.0)\n",
            "Requirement already satisfied: wcwidth in /usr/local/lib/python3.10/dist-packages (from prompt-toolkit<3.1.0,>=3.0.41->IPython) (0.2.13)\n",
            "Requirement already satisfied: executing>=1.2.0 in /usr/local/lib/python3.10/dist-packages (from stack-data->IPython) (2.0.1)\n",
            "Requirement already satisfied: asttokens>=2.1.0 in /usr/local/lib/python3.10/dist-packages (from stack-data->IPython) (2.4.1)\n",
            "Requirement already satisfied: pure-eval in /usr/local/lib/python3.10/dist-packages (from stack-data->IPython) (0.2.2)\n",
            "Requirement already satisfied: six>=1.12.0 in /usr/local/lib/python3.10/dist-packages (from asttokens>=2.1.0->stack-data->IPython) (1.16.0)\n",
            "teste: a\n"
          ]
        },
        {
          "output_type": "display_data",
          "data": {
            "text/plain": [
              "<IPython.core.display.HTML object>"
            ],
            "text/html": [
              "<span style=\"font-size: 18px; font-weight: bold; color: #C6E5FF; text-decoration: underline; line-height: 3;\">TESTE</span>"
            ]
          },
          "metadata": {}
        },
        {
          "output_type": "display_data",
          "data": {
            "text/plain": [
              "<IPython.core.display.HTML object>"
            ],
            "text/html": [
              "<script>document.querySelector(\".input\").style = \"\";</script>"
            ]
          },
          "metadata": {}
        },
        {
          "output_type": "error",
          "ename": "KeyboardInterrupt",
          "evalue": "Interrupted by user",
          "traceback": [
            "\u001b[0;31m---------------------------------------------------------------------------\u001b[0m",
            "\u001b[0;31mKeyboardInterrupt\u001b[0m                         Traceback (most recent call last)",
            "\u001b[0;32m<ipython-input-55-7b04f746041e>\u001b[0m in \u001b[0;36m<cell line: 17>\u001b[0;34m()\u001b[0m\n\u001b[1;32m     15\u001b[0m \u001b[0mdisplay\u001b[0m\u001b[0;34m(\u001b[0m\u001b[0mHTML\u001b[0m\u001b[0;34m(\u001b[0m\u001b[0;34mf\"{reset_style_code}\"\u001b[0m\u001b[0;34m)\u001b[0m\u001b[0;34m)\u001b[0m\u001b[0;34m\u001b[0m\u001b[0;34m\u001b[0m\u001b[0m\n\u001b[1;32m     16\u001b[0m \u001b[0;34m\u001b[0m\u001b[0m\n\u001b[0;32m---> 17\u001b[0;31m \u001b[0minput\u001b[0m\u001b[0;34m(\u001b[0m\u001b[0;34m\"Teste: \"\u001b[0m\u001b[0;34m)\u001b[0m\u001b[0;34m\u001b[0m\u001b[0;34m\u001b[0m\u001b[0m\n\u001b[0m",
            "\u001b[0;32m/usr/local/lib/python3.10/dist-packages/ipykernel/kernelbase.py\u001b[0m in \u001b[0;36mraw_input\u001b[0;34m(self, prompt)\u001b[0m\n\u001b[1;32m    849\u001b[0m                 \u001b[0;34m\"raw_input was called, but this frontend does not support input requests.\"\u001b[0m\u001b[0;34m\u001b[0m\u001b[0;34m\u001b[0m\u001b[0m\n\u001b[1;32m    850\u001b[0m             )\n\u001b[0;32m--> 851\u001b[0;31m         return self._input_request(str(prompt),\n\u001b[0m\u001b[1;32m    852\u001b[0m             \u001b[0mself\u001b[0m\u001b[0;34m.\u001b[0m\u001b[0m_parent_ident\u001b[0m\u001b[0;34m,\u001b[0m\u001b[0;34m\u001b[0m\u001b[0;34m\u001b[0m\u001b[0m\n\u001b[1;32m    853\u001b[0m             \u001b[0mself\u001b[0m\u001b[0;34m.\u001b[0m\u001b[0m_parent_header\u001b[0m\u001b[0;34m,\u001b[0m\u001b[0;34m\u001b[0m\u001b[0;34m\u001b[0m\u001b[0m\n",
            "\u001b[0;32m/usr/local/lib/python3.10/dist-packages/ipykernel/kernelbase.py\u001b[0m in \u001b[0;36m_input_request\u001b[0;34m(self, prompt, ident, parent, password)\u001b[0m\n\u001b[1;32m    893\u001b[0m             \u001b[0;32mexcept\u001b[0m \u001b[0mKeyboardInterrupt\u001b[0m\u001b[0;34m:\u001b[0m\u001b[0;34m\u001b[0m\u001b[0;34m\u001b[0m\u001b[0m\n\u001b[1;32m    894\u001b[0m                 \u001b[0;31m# re-raise KeyboardInterrupt, to truncate traceback\u001b[0m\u001b[0;34m\u001b[0m\u001b[0;34m\u001b[0m\u001b[0m\n\u001b[0;32m--> 895\u001b[0;31m                 \u001b[0;32mraise\u001b[0m \u001b[0mKeyboardInterrupt\u001b[0m\u001b[0;34m(\u001b[0m\u001b[0;34m\"Interrupted by user\"\u001b[0m\u001b[0;34m)\u001b[0m \u001b[0;32mfrom\u001b[0m \u001b[0;32mNone\u001b[0m\u001b[0;34m\u001b[0m\u001b[0;34m\u001b[0m\u001b[0m\n\u001b[0m\u001b[1;32m    896\u001b[0m             \u001b[0;32mexcept\u001b[0m \u001b[0mException\u001b[0m \u001b[0;32mas\u001b[0m \u001b[0me\u001b[0m\u001b[0;34m:\u001b[0m\u001b[0;34m\u001b[0m\u001b[0;34m\u001b[0m\u001b[0m\n\u001b[1;32m    897\u001b[0m                 \u001b[0mself\u001b[0m\u001b[0;34m.\u001b[0m\u001b[0mlog\u001b[0m\u001b[0;34m.\u001b[0m\u001b[0mwarning\u001b[0m\u001b[0;34m(\u001b[0m\u001b[0;34m\"Invalid Message:\"\u001b[0m\u001b[0;34m,\u001b[0m \u001b[0mexc_info\u001b[0m\u001b[0;34m=\u001b[0m\u001b[0;32mTrue\u001b[0m\u001b[0;34m)\u001b[0m\u001b[0;34m\u001b[0m\u001b[0;34m\u001b[0m\u001b[0m\n",
            "\u001b[0;31mKeyboardInterrupt\u001b[0m: Interrupted by user"
          ]
        }
      ]
    },
    {
      "cell_type": "code",
      "source": [
        "# @title\n",
        "# Instala os frtameworks necessários\n",
        "!pip install IPython\n",
        "#!pip install --upgrade IPython\n",
        "\n",
        "\n",
        "# Realiza as importações dos frameworks necessários\n",
        "import IPython\n",
        "from IPython.display import display\n",
        "from IPython.display import HTML\n",
        "from enum import Enum"
      ],
      "metadata": {
        "id": "5bch7PwidYwt",
        "collapsed": true,
        "cellView": "code"
      },
      "execution_count": null,
      "outputs": []
    },
    {
      "cell_type": "code",
      "source": [
        "# Classe para escrever texto formatado\n",
        "class MessageType(Enum):\n",
        "  mtTitulo    = \"font-size:18px; font-weight:bold; color:#C6E5FF; text-decoration: underline; line-height: 3;\"\n",
        "  mtCabecalho = \"font-size:16px; font-weight:bold; color:#C6E5FF; text-decoration: underline; line-height: 2;\"\n",
        "  mtPergunta  = \"color: #AAD3FF; line-height: 1.5;\"\n",
        "  mtErro      = \"color:#EB564B; \"\n",
        "  mtNormal    = \"\"\n",
        "\n",
        "class Display:\n",
        "  @staticmethod\n",
        "  def ShowMessage(Message: str, MessageType: MessageType):\n",
        "    if MessageType == MessageType.mtNormal:\n",
        "      print(Message)\n",
        "    else:\n",
        "      display(HTML(f'<span style=\"{MessageType.value}\">{Message}</span>'))"
      ],
      "metadata": {
        "id": "3I6qvIPci3Vz"
      },
      "execution_count": 10,
      "outputs": []
    },
    {
      "cell_type": "code",
      "source": [
        "# @title Texto de título padrão\n",
        "# Classe de tipo de questionário\n",
        "class Questionario:\n",
        "  def __init__(self, titulo: str, introducao: str):\n",
        "    self.Titulo = titulo\n",
        "    self.Introducao = introducao\n",
        "\n",
        "  def __repr__(self):\n",
        "    return f\"Questionario(Titulo={self.Titulo}, Introducao={self.Introducao})\"\n",
        "#------------------------------------------------------------------------\n",
        "\n",
        "# Classe que conterá as respostas dadas pelo usuário\n",
        "class RespostaParaAnalise:\n",
        "  def __init__(self, categoria: int, CaptionCategoria: str, pesoCategoria: float, maximoPontos: float, ponto: float):\n",
        "    self.Categoria = categoria\n",
        "    self.CaptionCategoria = CaptionCategoria\n",
        "    self.PesoCategoria = pesoCategoria\n",
        "    self.MaximoPontos = maximoPontos\n",
        "    self.Ponto = ponto\n",
        "\n",
        "  def __repr__(self):\n",
        "    return f\"RespostaParaAnalise(Categoria={self.Categoria}, CaptionCategoria={self.CaptionCategoria}, PesoCategoria={self.PesoCategoria}, MaximoPontos={self.MaximoPontos}, Ponto={self.Ponto})\"\n",
        "#------------------------------------------------------------------------\n",
        "\n",
        "# Classe que conterá o resumo da pontuação do usuário, agregado por categoria\n",
        "class CategoriaParaAnalise:\n",
        "  def __init__(self, categoria: int,  captionCategoria: str, pesoCategoria: float, maximoPontos: float, pontosObtidos: float):\n",
        "    self.Categoria = categoria\n",
        "    self.CaptionCategoria = captionCategoria\n",
        "    self.PesoCategoria = pesoCategoria\n",
        "    self.MaximoPontos = maximoPontos\n",
        "    self.PontosObtidos = pontosObtidos\n",
        "\n",
        "  @property\n",
        "  def PercentualAcerto(self):\n",
        "      return self.PontosObtidos * 100 / self.MaximoPontos\n",
        "\n",
        "  def __repr__(self):\n",
        "    return f\"CategoriaParaAnalise(CaptionCategoria={self.CaptionCategoria}, categoria={self.Categoria}, pesoCategoria={self.PesoCategoria}, máximo de pontos={self.MaximoPontos}, pontos obtidos: {self.PontosObtidos})\"\n",
        "#------------------------------------------------------------------------\n",
        "\n",
        "class AnaliseRespostaCategoria:\n",
        "  def __init__(self, categoria: int, minimo: float, maximo: float, resposta: str):\n",
        "    self.Categoria = categoria\n",
        "    self.Minimo = minimo\n",
        "    self.Maximo = maximo\n",
        "    self.Resposta = resposta\n",
        "\n",
        "  def __repr__(self):\n",
        "    return f\"AnaliseRespostaCategoria(Categoria={self.Categoria}, Minimo={self.Minimo}, maximo={self.Maximo}, Resposta={self.Resposta})\"\n",
        "#------------------------------------------------------------------------\n",
        "\n",
        "\n",
        "class RespostaItem:\n",
        "  def __init__(self, index: int, caption: str, grade: float):\n",
        "    self.Index = index\n",
        "    self.Caption = caption\n",
        "    self.Grade = grade\n",
        "\n",
        "  def __repr__(self):\n",
        "    return f\"RespostaItem(Index={self.Index}, Caption={self.Caption}, Grade={self.Grade})\"\n",
        "#------------------------------------------------------------------------\n",
        "\n",
        "class PerguntaItem:\n",
        "  def __init__(self, index: int, caption: str, respostas: list[RespostaItem]):\n",
        "    self.Index = index\n",
        "    self.Caption = caption\n",
        "    self.Respostas = respostas\n",
        "\n",
        "  def __repr__(self):\n",
        "    return f\"PerguntaItem(Index={self.index}, Caption={self.Caption}, Respostas={self.Respostas})\"\n",
        "#------------------------------------------------------------------------\n",
        "\n",
        "class CategoriaPergunteItem:\n",
        "  def __init__(self, index: int, caption: str, peso: float, perguntas: list[PerguntaItem]):\n",
        "    self.Index = index\n",
        "    self.Caption = caption\n",
        "    self.Peso = peso\n",
        "    self.Perguntas = perguntas\n",
        "\n",
        "  def __repr__(self):\n",
        "    return f\"CategoriaPergunteItem(Index={self.Index}, Caption={self.Caption}, Peso={self.Peso}, Perguntas={self.Perguntas})\"\n",
        "#------------------------------------------------------------------------"
      ],
      "metadata": {
        "id": "DibQ6_f09fXu"
      },
      "execution_count": 11,
      "outputs": []
    },
    {
      "cell_type": "code",
      "source": [
        "#Builder para criar o título e a descrição do questionário\n",
        "class QuestionarioBuilder:\n",
        "  @staticmethod\n",
        "  def Build(self):\n",
        "    self.DescicaoQuestionario = Questionario(\"Avaliação de Conhecimentos Básicos de Fotografia\",\n",
        "                                             \"Com o intuito de avaliar suas capacidades fotográficas e o que conseguiu apreender durante\\n\" +\n",
        "                                             \"o curso básico de fotografia, além de guiá-lo no desenvolvimento de suas capacidades e ajudá-lo\\n\" +\n",
        "                                             \"a identificar seus pontos fortes e fracos, apresentamos a avaliação abaixo.\\n\\n\" +\n",
        "                                             \"Leia atentamente as perguntas e as respostas e indique a que melhor responde às questões propostas.\\n\" +\n",
        "                                             \"Em tempo, não pense que todas as questões são feitas de \"\"certo/errado\"\", pois em alguns casos podem \\n\" +\n",
        "                                             \"existir várias respostas certas, de acordo com o seu nível de conhecimento. Nesse caso, escolha a que\\n\" +\n",
        "                                             \"achar a mais completa ou mais correta.\\n\\n\" +\n",
        "                                             \"Vamos começar.\")\n",
        "\n",
        "    return self.DescicaoQuestionario\n",
        "#------------------------------------------------------------------------\n",
        "\n",
        "# Builder para criar a estrutura de perguntas\n",
        "class PerguntasBuilder:\n",
        "  @staticmethod\n",
        "  def Build(self):\n",
        "    self.listaPeguntas = [\n",
        "        CategoriaPergunteItem(1, \"Conceitos Básicos\", 3,\n",
        "                              [PerguntaItem(1, \"Sobre o foco em fotografias de pessoas, qual das opções você considera a mais pertinente?\",\n",
        "                                            [RespostaItem(1, \"Deve sempre abranger todo o rosto da pessoa\", 2),\n",
        "                                             RespostaItem(2, \"Deve estar sempre cravado nos olhos da pessoa\", 3),\n",
        "                                             RespostaItem(3, \"Deve estar sempre na região mais próxima da câmera, evidenciando a profundidade de campo\", 1),\n",
        "                                             RespostaItem(4, \"Pode estar em qualquer lugar da foto\", 0)]),\n",
        "                              PerguntaItem(2, \"Sobre profundidade de campo, qual das opções é a correta?\",\n",
        "                                            [RespostaItem(1, \"Quanto mais aberto o diafragma, maior a profundidade de campo\", 0),\n",
        "                                             RespostaItem(2, \"Quanto maior a velocidade do obturador, maior a profundidade de campo\", 0),\n",
        "                                             RespostaItem(3, \"Quanto mais fechado o diafragma, maior a profundidade de campo\", 3),\n",
        "                                             RespostaItem(4, \"Quanto maior o ISO, maior a profundidade de campo\", 0)]),\n",
        "                              PerguntaItem(3, \"Sobre ISO, qual das opções é a correta?\",\n",
        "                                            [RespostaItem(1, \"Determina a sensibilidade do sensor à luz que chega até ele\", 3),\n",
        "                                             RespostaItem(2, \"Determina a quantidade de luz que chega ao sensor\", 0),\n",
        "                                             RespostaItem(3, \"Determina a velocidade com que o obturador abre e fecha\", 0),\n",
        "                                             RespostaItem(4, \"Determina se a fotografia ficará ou não no foco\", 0)]),\n",
        "                               PerguntaItem(7, \"Sobre os efeitos da velocidade do obturador no resultado da foto, pode-se afirmar que:\",\n",
        "                                            [RespostaItem(1, \"Permite que o sensor \"\"perceba\"\" mais ou menos luz\", 0),\n",
        "                                             RespostaItem(2, \"Aumenta a profundidade de campo da cena\", 0),\n",
        "                                             RespostaItem(3, \"Possui como unidade de medida a letra \"\"f\"\" e quanto maior o valor, maior a quantidade de luz que chega ao sensor\", 0),\n",
        "                                             RespostaItem(4, \"É representada em segundos e suas frações e tem a capacidade de \"\"congelar\"\" a cena quando alta o suficiente\", 3)]),\n",
        "                               PerguntaItem(8, \"Sobre a abertura do diafragma, qual das opções é a mais completa?\",\n",
        "                                            [RespostaItem(1, \"Permite que o sensor \"\"perceba\"\" mais ou menos luz\", 1),\n",
        "                                             RespostaItem(2, \"Pode interferir no foco da foto, uma vez que que influencia a profundidade de campo\", 2),\n",
        "                                             RespostaItem(3, \"Além da opção anterior, possui como unidade de medida a letra \"\"f\"\" e quanto menor seu valor, mais luz chega ao sensor\", 3),\n",
        "                                             RespostaItem(4, \"Está intimamente ligada à câmera e ao tamanho do sensor\", 0)])\n",
        "                              ]),\n",
        "        CategoriaPergunteItem(2, \"Composição\", 2,\n",
        "                              [PerguntaItem(4, \"Sobre a regra dos terços, qual das opções você considera a mais pertinente?\",\n",
        "                                            [RespostaItem(1, \"É a melhor forma de posicionar os componentes da foto no quadro\", 1),\n",
        "                                             RespostaItem(2, \"Não deve ser usada, de forma alguma, por fotógrafos com conhecimentos avançados ou profissionais\", 0),\n",
        "                                             RespostaItem(3, \"É mais usada em fotografias de paisagem\", 0),\n",
        "                                             RespostaItem(4, \"É uma entre muitas formas que o fotógrafo tem para compor a cena\", 0)]),\n",
        "                               PerguntaItem(5, \"Sobre a técnica de composição utilizando \"\"linhas guia\"\", escolha a melhor opção:\",\n",
        "                                            [RespostaItem(1, \"São linhas na cena onde os pontos de atenção devem estar posicionados\", 1),\n",
        "                                             RespostaItem(2, \"São linhas imaginárias na cena que dão simetria à composição\", 2),\n",
        "                                             RespostaItem(3, \"São representadas pelos contornos dos objetos da cena\", 0),\n",
        "                                             RespostaItem(4, \"São melhor utilizadas quando sugerem inconscientemente ao observador o caminho que leva ao ponto de interesse da foto\", 3)]),\n",
        "                               PerguntaItem(6, \"Indique a melhor descrição para o uso da técnica da simetria:\",\n",
        "                                            [RespostaItem(1, \"O assunto da foto deve sempre estar centralizado e o formato da foto deve ser quadrado\", 1),\n",
        "                                             RespostaItem(2, \"Pelo menos dois lados da foto devem ser simétricos, não importando a orientação e nem o formato da foto\", 3),\n",
        "                                             RespostaItem(3, \"Os resultados de fotografias simétricas não são muito agradáveis aos olhos do observador\", 0),\n",
        "                                             RespostaItem(4, \"Nunca pode ser utilizado em fotos de retrato porque o rosto humano nunca é simétrico\", 0)])\n",
        "                              ])\n",
        "    ]\n",
        "    return self.listaPeguntas\n",
        "#------------------------------------------------------------------------\n",
        "\n",
        "# Builder para criar a estrutura de análise de respostas\n",
        "class ResultadosAnaliseBuilder:\n",
        "  @staticmethod\n",
        "  def Build(self):\n",
        "    self.listaResultadoAnaliseCategoria = [AnaliseRespostaCategoria(1, 0, 30,   \"Você ainda precisa estudar muito. Todas as suas boas fotos são, de uma forma geral, \\n\" +\n",
        "                                                                                \"obra da sorte.\"),\n",
        "                                           AnaliseRespostaCategoria(1, 31, 50,  \"Você já tem um conhecimento básico e pode tirar boas fotos, mas ainda conta muito \\n\" +\n",
        "                                                                                \"com o fator \"\"sorte\"\" para conseguir fotos com alguma qualidade.\"),\n",
        "                                           AnaliseRespostaCategoria(1, 51, 80,  \"Você possui um bom conhecimento dos conceitos básicos de fotografia, o que lhe permite \\n\" +\n",
        "                                                                                \"um bom aproveitamento das fotos tiradas.\"),\n",
        "                                           AnaliseRespostaCategoria(1, 81, 100, \"Você possui todos os conhecimentos básicos necessários para garantir uma boa fotografia, \\n\" +\n",
        "                                                                                \"embora somente esses conhecimentos não garantam uma foto sem as técnicas de composição \\n\" +\n",
        "                                                                                \"adequadas.\"),\n",
        "                                           AnaliseRespostaCategoria(2, 0, 30,   \"Você não consegue, de forma consciente, obter boas fotografias. Ainda depende muito da sorte.\"),\n",
        "                                           AnaliseRespostaCategoria(2, 31, 50,  \"Você consegue fazer boas fotos, mas mais estudo pode garantir a sua independência da sorte.\"),\n",
        "                                           AnaliseRespostaCategoria(2, 51, 80,  \"Você já consegue ótimas fotos e de forma consciente. Com esse nível de conhecimento,o fator \\n\" +\n",
        "                                                                                \"sorte já está quase eliminado.\"),\n",
        "                                           AnaliseRespostaCategoria(2, 81, 100, \"Você já é capaz de fazer excelentes fotografias e, embora a sorte seja uma grande aliada \\n\" +\n",
        "                                                                                \"do fotógrafo e não deva ser desprezada, suas fotos já têm o potencial de impactar somente \\n\" +\n",
        "                                                                                \"pelos seus conhecimentos.\")]\n",
        "\n",
        "    return self.listaResultadoAnaliseCategoria"
      ],
      "metadata": {
        "id": "UYY2vL1YBKfk"
      },
      "execution_count": 12,
      "outputs": []
    },
    {
      "cell_type": "code",
      "source": [
        "# Classe para ler opções de resposta\n",
        "class Keyboard:\n",
        "  @staticmethod\n",
        "  def input(opcoes_disponiveis):\n",
        "    retorno = input(\"Digite sua resposta (ou 'S' para sair): \").upper()\n",
        "\n",
        "    if (retorno != \"S\") and (retorno not in opcoes_disponiveis):\n",
        "      Display.ShowMessage(\"\", MessageType.mtNormal)\n",
        "      Display.ShowMessage(\"A sua resposta deve estar entre as opções {opcoes_disponiveis} ou \"\"S\"\" para sair\", MessageType.mtErro)\n",
        "      Display.ShowMessage(\"\", MessageType.mtNormal)\n",
        "\n",
        "      retorno = Keyboard.input(opcoes_disponiveis)\n",
        "\n",
        "    return retorno"
      ],
      "metadata": {
        "id": "RAJMDxs-tVUa"
      },
      "execution_count": 13,
      "outputs": []
    },
    {
      "cell_type": "code",
      "source": [
        "# Classe para análise das respostas dadas em cada categoria\n",
        "class AnaliseRespostas:\n",
        "  def AnalisarRespostas(self, Respostas: list[RespostaParaAnalise]):\n",
        "    self.listaCategoriaParaAnalises = []\n",
        "    Display.ShowMessage(\"\", MessageType.mtNormal)\n",
        "\n",
        "    if len(Respostas) > 0:\n",
        "\n",
        "      Display.ShowMessage(\"Análise das Respostas Dadas\", MessageType.mtCabecalho)\n",
        "\n",
        "      categoriaControle = 0\n",
        "\n",
        "      for resposta in Respostas:\n",
        "        if resposta.Categoria != categoriaControle:\n",
        "          categoriaControle = resposta.Categoria\n",
        "          self.listaCategoriaParaAnalises.append(CategoriaParaAnalise(resposta.Categoria,\n",
        "                                                                      resposta.CaptionCategoria,\n",
        "                                                                      resposta.PesoCategoria,\n",
        "                                                                      sum(resposta.MaximoPontos for resposta in Respostas if resposta.Categoria == categoriaControle),\n",
        "                                                                      sum(resposta.Ponto for resposta in Respostas if resposta.Categoria == categoriaControle)))\n",
        "\n",
        "      listaRespostas = ResultadosAnaliseBuilder.Build(self);\n",
        "\n",
        "      #TO DO: Colocar as respostas em uma lista, contendo:\n",
        "      #         1: Título para o tópico de resposta (Categoria, considerações finais...)\n",
        "      #         2: Mensagem de resposta\n",
        "      #TO DO: Criar uma classe para respostas de considerações finais, baseadas no peso e pontuação em cada categoria\n",
        "      #TO DO: Mostrar a lista final de respostas\n",
        "\n",
        "      for categoriaParaAnalise in self.listaCategoriaParaAnalises:\n",
        "        Display.ShowMessage(categoriaParaAnalise.CaptionCategoria, MessageType.mtPergunta)\n",
        "        resposta = next((itemResposta.Resposta for itemResposta in listaRespostas if (itemResposta.Minimo <= categoriaParaAnalise.PercentualAcerto <= itemResposta.Maximo) and itemResposta.Categoria == categoriaParaAnalise.Categoria), \"<não identificado>\")\n",
        "        Display.ShowMessage(resposta, MessageType.mtNormal)\n",
        "        Display.ShowMessage(\"\", MessageType.mtNormal)\n",
        "\n",
        "\n",
        "      Display.ShowMessage(\"\", MessageType.mtNormal)\n",
        "\n",
        "      Display.ShowMessage(\"Respostas por Categoria\", MessageType.mtPergunta)\n",
        "      for resposta in Respostas:\n",
        "        Display.ShowMessage(f\"Categoria: {resposta.Categoria}, Peso da Categoria: {resposta.PesoCategoria}, Máximo Possível de Pontos: {resposta.MaximoPontos}, Pontos de Resposta: {resposta.Ponto}\", MessageType.mtNormal)\n",
        "\n",
        "      Display.ShowMessage(\"\", MessageType.mtNormal)\n",
        "\n",
        "      Display.ShowMessage(\"Análise de Categorias Respondidas\", MessageType.mtPergunta)\n",
        "      for categoriaParaAnalise in self.listaCategoriaParaAnalises:\n",
        "        Display.ShowMessage(f\"Categoria: {categoriaParaAnalise.Categoria}, Peso da Categoria: {categoriaParaAnalise.PesoCategoria}, Máximo de Pontos Possíveis: {categoriaParaAnalise.MaximoPontos}, Pontos Obtidos: {categoriaParaAnalise.PontosObtidos}\", MessageType.mtNormal)\n",
        "\n",
        "    else:\n",
        "      Display.ShowMessage(\"Nenhuma resposta foi fornecida para análise!\", MessageType.mtErro)"
      ],
      "metadata": {
        "id": "gR7Jwv_oRq-2"
      },
      "execution_count": 14,
      "outputs": []
    },
    {
      "cell_type": "code",
      "source": [
        "# Exibe o questionário e recolhe as respostas a cada pergunta\n",
        "\n",
        "class AvaliacaoFotografo:\n",
        "  def __init__(self):\n",
        "    self.finalizarExecucao = False;\n",
        "    self.respostasAnalise = []\n",
        "    self.listaPerguntas = PerguntasBuilder.Build(self)\n",
        "\n",
        "    #display(HTML(f'Introdução'))\n",
        "    Display.ShowMessage(\"Introdução\", MessageType.mtCabecalho)\n",
        "    Display.ShowMessage(\"Você está prestes a fazer uma avaliação dos seus conhecimentos sobre fotografia.\", MessageType.mtNormal)\n",
        "    Display.ShowMessage(\"Leia atentamente as perguntas e as respostas e indique a que melhor responde às questões propostas.\", MessageType.mtNormal)\n",
        "    Display.ShowMessage(\"\", MessageType.mtNormal)\n",
        "    Display.ShowMessage(\"Vamos começar.\", MessageType.mtNormal)\n",
        "    Display.ShowMessage(\"\", MessageType.mtNormal)\n",
        "\n",
        "  #-----------------------------------------------------------------------------\n",
        "  def Le_Resposta(self, opcoes_disponiveis):\n",
        "    if self.finalizarExecucao:\n",
        "      return\n",
        "\n",
        "    retorno = Keyboard.input(opcoes_disponiveis)\n",
        "\n",
        "    if retorno == \"S\":\n",
        "      self.finalizarExecucao = True\n",
        "\n",
        "    return retorno\n",
        "  #-----------------------------------------------------------------------------\n",
        "\n",
        "  def IniciarAvaliacao(self):\n",
        "    # Mostra a categoria da pergunta\n",
        "    for categoria in self.listaPerguntas:\n",
        "      Display.ShowMessage(categoria.Caption, MessageType.mtCabecalho)\n",
        "\n",
        "      # Mostra a pergunta da vez\n",
        "      for pergunta in categoria.Perguntas:\n",
        "        Display.ShowMessage(pergunta.Caption, MessageType.mtPergunta)\n",
        "\n",
        "        # Mostra as opções de resposta à pergunta da vez\n",
        "        for resposta in pergunta.Respostas:\n",
        "          Display.ShowMessage(f\"\\t{resposta.Index} - {resposta.Caption}\", MessageType.mtNormal)\n",
        "\n",
        "        Display.ShowMessage(chr(175) * 42, MessageType.mtPergunta)\n",
        "\n",
        "        # Espera que o usuário responda\n",
        "        resposta_dada = self.Le_Resposta([\"1\", \"2\", \"3\", \"4\"])\n",
        "\n",
        "        # Sai da aplicação caso o usuário decida\n",
        "        if self.finalizarExecucao:\n",
        "          break\n",
        "        else:\n",
        "          Display.ShowMessage(\"\", MessageType.mtNormal)\n",
        "\n",
        "        # Valida e pega o peso da resposta dada\n",
        "        for resposta in pergunta.Respostas:\n",
        "           if int(resposta_dada) == resposta.Index:\n",
        "              self.respostasAnalise.append(RespostaParaAnalise(categoria.Index, categoria.Caption, categoria.Peso, max(resposta.Grade for resposta in pergunta.Respostas), resposta.Grade))\n",
        "              break\n",
        "\n",
        "      if self.finalizarExecucao:\n",
        "        break\n",
        "      else:\n",
        "        Display.ShowMessage(\"\", MessageType.mtNormal)\n",
        "\n",
        "    if self.finalizarExecucao:\n",
        "      Display.ShowMessage(\"\", MessageType.mtNormal)\n",
        "      Display.ShowMessage(\"O usuário solicitou a finalização da avaliação!\", MessageType.mtErro)\n",
        "\n",
        "    AnaliseRespostas().AnalisarRespostas(self.respostasAnalise)"
      ],
      "metadata": {
        "id": "EOE1Iwa3OB0Z"
      },
      "execution_count": 17,
      "outputs": []
    },
    {
      "cell_type": "code",
      "source": [
        "# Executando a aplicação\n",
        "AvaliacaoFotografo().IniciarAvaliacao()"
      ],
      "metadata": {
        "colab": {
          "base_uri": "https://localhost:8080/",
          "height": 661
        },
        "id": "x_xM-6TYySDg",
        "outputId": "0ad9d4c1-ed6c-4c8c-b120-4b27650c9682"
      },
      "execution_count": 18,
      "outputs": [
        {
          "output_type": "display_data",
          "data": {
            "text/plain": [
              "<IPython.core.display.HTML object>"
            ],
            "text/html": [
              "<span style=\"font-size:16px; font-weight:bold; color:#C6E5FF; text-decoration: underline; line-height: 2;\">Introdução</span>"
            ]
          },
          "metadata": {}
        },
        {
          "output_type": "stream",
          "name": "stdout",
          "text": [
            "Você está prestes a fazer uma avaliação dos seus conhecimentos sobre fotografia.\n",
            "Leia atentamente as perguntas e as respostas e indique a que melhor responde às questões propostas.\n",
            "\n",
            "Vamos começar.\n",
            "\n"
          ]
        },
        {
          "output_type": "display_data",
          "data": {
            "text/plain": [
              "<IPython.core.display.HTML object>"
            ],
            "text/html": [
              "<span style=\"font-size:16px; font-weight:bold; color:#C6E5FF; text-decoration: underline; line-height: 2;\">Conceitos Básicos</span>"
            ]
          },
          "metadata": {}
        },
        {
          "output_type": "display_data",
          "data": {
            "text/plain": [
              "<IPython.core.display.HTML object>"
            ],
            "text/html": [
              "<span style=\"color: #AAD3FF; line-height: 1.5;\">Sobre o foco em fotografias de pessoas, qual das opções você considera a mais pertinente?</span>"
            ]
          },
          "metadata": {}
        },
        {
          "output_type": "stream",
          "name": "stdout",
          "text": [
            "\t1 - Deve sempre abranger todo o rosto da pessoa\n",
            "\t2 - Deve estar sempre cravado nos olhos da pessoa\n",
            "\t3 - Deve estar sempre na região mais próxima da câmera, evidenciando a profundidade de campo\n",
            "\t4 - Pode estar em qualquer lugar da foto\n"
          ]
        },
        {
          "output_type": "display_data",
          "data": {
            "text/plain": [
              "<IPython.core.display.HTML object>"
            ],
            "text/html": [
              "<span style=\"color: #AAD3FF; line-height: 1.5;\">¯¯¯¯¯¯¯¯¯¯¯¯¯¯¯¯¯¯¯¯¯¯¯¯¯¯¯¯¯¯¯¯¯¯¯¯¯¯¯¯¯¯</span>"
            ]
          },
          "metadata": {}
        },
        {
          "output_type": "error",
          "ename": "KeyboardInterrupt",
          "evalue": "Interrupted by user",
          "traceback": [
            "\u001b[0;31m---------------------------------------------------------------------------\u001b[0m",
            "\u001b[0;31mKeyboardInterrupt\u001b[0m                         Traceback (most recent call last)",
            "\u001b[0;32m<ipython-input-18-470720af61a3>\u001b[0m in \u001b[0;36m<cell line: 2>\u001b[0;34m()\u001b[0m\n\u001b[1;32m      1\u001b[0m \u001b[0;31m# Executando a aplicação\u001b[0m\u001b[0;34m\u001b[0m\u001b[0;34m\u001b[0m\u001b[0m\n\u001b[0;32m----> 2\u001b[0;31m \u001b[0mAvaliacaoFotografo\u001b[0m\u001b[0;34m(\u001b[0m\u001b[0;34m)\u001b[0m\u001b[0;34m.\u001b[0m\u001b[0mIniciarAvaliacao\u001b[0m\u001b[0;34m(\u001b[0m\u001b[0;34m)\u001b[0m\u001b[0;34m\u001b[0m\u001b[0;34m\u001b[0m\u001b[0m\n\u001b[0m",
            "\u001b[0;32m<ipython-input-17-f1f320b56871>\u001b[0m in \u001b[0;36mIniciarAvaliacao\u001b[0;34m(self)\u001b[0m\n\u001b[1;32m     44\u001b[0m \u001b[0;34m\u001b[0m\u001b[0m\n\u001b[1;32m     45\u001b[0m         \u001b[0;31m# Espera que o usuário responda\u001b[0m\u001b[0;34m\u001b[0m\u001b[0;34m\u001b[0m\u001b[0m\n\u001b[0;32m---> 46\u001b[0;31m         \u001b[0mresposta_dada\u001b[0m \u001b[0;34m=\u001b[0m \u001b[0mself\u001b[0m\u001b[0;34m.\u001b[0m\u001b[0mLe_Resposta\u001b[0m\u001b[0;34m(\u001b[0m\u001b[0;34m[\u001b[0m\u001b[0;34m\"1\"\u001b[0m\u001b[0;34m,\u001b[0m \u001b[0;34m\"2\"\u001b[0m\u001b[0;34m,\u001b[0m \u001b[0;34m\"3\"\u001b[0m\u001b[0;34m,\u001b[0m \u001b[0;34m\"4\"\u001b[0m\u001b[0;34m]\u001b[0m\u001b[0;34m)\u001b[0m\u001b[0;34m\u001b[0m\u001b[0;34m\u001b[0m\u001b[0m\n\u001b[0m\u001b[1;32m     47\u001b[0m \u001b[0;34m\u001b[0m\u001b[0m\n\u001b[1;32m     48\u001b[0m         \u001b[0;31m# Sai da aplicação caso o usuário decida\u001b[0m\u001b[0;34m\u001b[0m\u001b[0;34m\u001b[0m\u001b[0m\n",
            "\u001b[0;32m<ipython-input-17-f1f320b56871>\u001b[0m in \u001b[0;36mLe_Resposta\u001b[0;34m(self, opcoes_disponiveis)\u001b[0m\n\u001b[1;32m     20\u001b[0m       \u001b[0;32mreturn\u001b[0m\u001b[0;34m\u001b[0m\u001b[0;34m\u001b[0m\u001b[0m\n\u001b[1;32m     21\u001b[0m \u001b[0;34m\u001b[0m\u001b[0m\n\u001b[0;32m---> 22\u001b[0;31m     \u001b[0mretorno\u001b[0m \u001b[0;34m=\u001b[0m \u001b[0mKeyboard\u001b[0m\u001b[0;34m.\u001b[0m\u001b[0minput\u001b[0m\u001b[0;34m(\u001b[0m\u001b[0mopcoes_disponiveis\u001b[0m\u001b[0;34m)\u001b[0m\u001b[0;34m\u001b[0m\u001b[0;34m\u001b[0m\u001b[0m\n\u001b[0m\u001b[1;32m     23\u001b[0m \u001b[0;34m\u001b[0m\u001b[0m\n\u001b[1;32m     24\u001b[0m     \u001b[0;32mif\u001b[0m \u001b[0mretorno\u001b[0m \u001b[0;34m==\u001b[0m \u001b[0;34m\"S\"\u001b[0m\u001b[0;34m:\u001b[0m\u001b[0;34m\u001b[0m\u001b[0;34m\u001b[0m\u001b[0m\n",
            "\u001b[0;32m<ipython-input-13-d434b1d1b26c>\u001b[0m in \u001b[0;36minput\u001b[0;34m(opcoes_disponiveis)\u001b[0m\n\u001b[1;32m      3\u001b[0m   \u001b[0;34m@\u001b[0m\u001b[0mstaticmethod\u001b[0m\u001b[0;34m\u001b[0m\u001b[0;34m\u001b[0m\u001b[0m\n\u001b[1;32m      4\u001b[0m   \u001b[0;32mdef\u001b[0m \u001b[0minput\u001b[0m\u001b[0;34m(\u001b[0m\u001b[0mopcoes_disponiveis\u001b[0m\u001b[0;34m)\u001b[0m\u001b[0;34m:\u001b[0m\u001b[0;34m\u001b[0m\u001b[0;34m\u001b[0m\u001b[0m\n\u001b[0;32m----> 5\u001b[0;31m     \u001b[0mretorno\u001b[0m \u001b[0;34m=\u001b[0m \u001b[0minput\u001b[0m\u001b[0;34m(\u001b[0m\u001b[0;34m\"Digite sua resposta (ou 'S' para sair): \"\u001b[0m\u001b[0;34m)\u001b[0m\u001b[0;34m.\u001b[0m\u001b[0mupper\u001b[0m\u001b[0;34m(\u001b[0m\u001b[0;34m)\u001b[0m\u001b[0;34m\u001b[0m\u001b[0;34m\u001b[0m\u001b[0m\n\u001b[0m\u001b[1;32m      6\u001b[0m \u001b[0;34m\u001b[0m\u001b[0m\n\u001b[1;32m      7\u001b[0m     \u001b[0;32mif\u001b[0m \u001b[0;34m(\u001b[0m\u001b[0mretorno\u001b[0m \u001b[0;34m!=\u001b[0m \u001b[0;34m\"S\"\u001b[0m\u001b[0;34m)\u001b[0m \u001b[0;32mand\u001b[0m \u001b[0;34m(\u001b[0m\u001b[0mretorno\u001b[0m \u001b[0;32mnot\u001b[0m \u001b[0;32min\u001b[0m \u001b[0mopcoes_disponiveis\u001b[0m\u001b[0;34m)\u001b[0m\u001b[0;34m:\u001b[0m\u001b[0;34m\u001b[0m\u001b[0;34m\u001b[0m\u001b[0m\n",
            "\u001b[0;32m/usr/local/lib/python3.10/dist-packages/ipykernel/kernelbase.py\u001b[0m in \u001b[0;36mraw_input\u001b[0;34m(self, prompt)\u001b[0m\n\u001b[1;32m    849\u001b[0m                 \u001b[0;34m\"raw_input was called, but this frontend does not support input requests.\"\u001b[0m\u001b[0;34m\u001b[0m\u001b[0;34m\u001b[0m\u001b[0m\n\u001b[1;32m    850\u001b[0m             )\n\u001b[0;32m--> 851\u001b[0;31m         return self._input_request(str(prompt),\n\u001b[0m\u001b[1;32m    852\u001b[0m             \u001b[0mself\u001b[0m\u001b[0;34m.\u001b[0m\u001b[0m_parent_ident\u001b[0m\u001b[0;34m,\u001b[0m\u001b[0;34m\u001b[0m\u001b[0;34m\u001b[0m\u001b[0m\n\u001b[1;32m    853\u001b[0m             \u001b[0mself\u001b[0m\u001b[0;34m.\u001b[0m\u001b[0m_parent_header\u001b[0m\u001b[0;34m,\u001b[0m\u001b[0;34m\u001b[0m\u001b[0;34m\u001b[0m\u001b[0m\n",
            "\u001b[0;32m/usr/local/lib/python3.10/dist-packages/ipykernel/kernelbase.py\u001b[0m in \u001b[0;36m_input_request\u001b[0;34m(self, prompt, ident, parent, password)\u001b[0m\n\u001b[1;32m    893\u001b[0m             \u001b[0;32mexcept\u001b[0m \u001b[0mKeyboardInterrupt\u001b[0m\u001b[0;34m:\u001b[0m\u001b[0;34m\u001b[0m\u001b[0;34m\u001b[0m\u001b[0m\n\u001b[1;32m    894\u001b[0m                 \u001b[0;31m# re-raise KeyboardInterrupt, to truncate traceback\u001b[0m\u001b[0;34m\u001b[0m\u001b[0;34m\u001b[0m\u001b[0m\n\u001b[0;32m--> 895\u001b[0;31m                 \u001b[0;32mraise\u001b[0m \u001b[0mKeyboardInterrupt\u001b[0m\u001b[0;34m(\u001b[0m\u001b[0;34m\"Interrupted by user\"\u001b[0m\u001b[0;34m)\u001b[0m \u001b[0;32mfrom\u001b[0m \u001b[0;32mNone\u001b[0m\u001b[0;34m\u001b[0m\u001b[0;34m\u001b[0m\u001b[0m\n\u001b[0m\u001b[1;32m    896\u001b[0m             \u001b[0;32mexcept\u001b[0m \u001b[0mException\u001b[0m \u001b[0;32mas\u001b[0m \u001b[0me\u001b[0m\u001b[0;34m:\u001b[0m\u001b[0;34m\u001b[0m\u001b[0;34m\u001b[0m\u001b[0m\n\u001b[1;32m    897\u001b[0m                 \u001b[0mself\u001b[0m\u001b[0;34m.\u001b[0m\u001b[0mlog\u001b[0m\u001b[0;34m.\u001b[0m\u001b[0mwarning\u001b[0m\u001b[0;34m(\u001b[0m\u001b[0;34m\"Invalid Message:\"\u001b[0m\u001b[0;34m,\u001b[0m \u001b[0mexc_info\u001b[0m\u001b[0;34m=\u001b[0m\u001b[0;32mTrue\u001b[0m\u001b[0;34m)\u001b[0m\u001b[0;34m\u001b[0m\u001b[0;34m\u001b[0m\u001b[0m\n",
            "\u001b[0;31mKeyboardInterrupt\u001b[0m: Interrupted by user"
          ]
        }
      ]
    }
  ]
}