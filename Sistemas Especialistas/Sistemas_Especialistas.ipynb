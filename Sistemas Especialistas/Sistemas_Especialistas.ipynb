{
  "nbformat": 4,
  "nbformat_minor": 0,
  "metadata": {
    "colab": {
      "provenance": [],
      "authorship_tag": "ABX9TyOLGzPhwYcFR/xfiPU3ZQhk",
      "include_colab_link": true
    },
    "kernelspec": {
      "name": "python3",
      "display_name": "Python 3"
    },
    "language_info": {
      "name": "python"
    }
  },
  "cells": [
    {
      "cell_type": "markdown",
      "metadata": {
        "id": "view-in-github",
        "colab_type": "text"
      },
      "source": [
        "<a href=\"https://colab.research.google.com/github/claudioquevedo/Pos-Graduacao-em-IA/blob/master/Sistemas%20Especialistas/Sistemas_Especialistas.ipynb\" target=\"_parent\"><img src=\"https://colab.research.google.com/assets/colab-badge.svg\" alt=\"Open In Colab\"/></a>"
      ]
    },
    {
      "cell_type": "markdown",
      "source": [
        "# **Avaliação de Conhecimentos Fotográficos**"
      ],
      "metadata": {
        "id": "p5KNTjBLF7nm"
      }
    },
    {
      "cell_type": "markdown",
      "source": [],
      "metadata": {
        "id": "XMUCwssbSTI1"
      }
    },
    {
      "cell_type": "code",
      "source": [
        "# @title\n",
        "!pip install IPython\n",
        "import IPython\n",
        "from IPython.display import display, HTML, clear_output\n",
        "\n",
        "input(\"teste: \")\n",
        "display(HTML(f'<span style=\"font-size:18px; font-weight:bold; color:#C6E5FF; text-decoration: underline; line-height: 3;\">Teste</span>'))\n",
        "input(\"Teste: \")"
      ],
      "metadata": {
        "cellView": "form",
        "id": "iXXz7IL4Lnga"
      },
      "execution_count": null,
      "outputs": []
    },
    {
      "cell_type": "code",
      "source": [
        "# @title\n",
        "# Instala os frtameworks necessários\n",
        "!pip install IPython\n",
        "#!pip install --upgrade IPython\n",
        "\n",
        "\n",
        "# Realiza as importações dos frameworks necessários\n",
        "import IPython\n",
        "from IPython.display import display\n",
        "from IPython.display import HTML\n",
        "from enum import Enum"
      ],
      "metadata": {
        "colab": {
          "base_uri": "https://localhost:8080/"
        },
        "id": "5bch7PwidYwt",
        "outputId": "d057d9a8-8935-4441-f07d-8a97104c029b",
        "collapsed": true,
        "cellView": "code"
      },
      "execution_count": 1,
      "outputs": [
        {
          "output_type": "stream",
          "name": "stdout",
          "text": [
            "Requirement already satisfied: IPython in /usr/local/lib/python3.10/dist-packages (7.34.0)\n",
            "Requirement already satisfied: setuptools>=18.5 in /usr/local/lib/python3.10/dist-packages (from IPython) (67.7.2)\n",
            "Collecting jedi>=0.16 (from IPython)\n",
            "  Downloading jedi-0.19.1-py2.py3-none-any.whl (1.6 MB)\n",
            "\u001b[2K     \u001b[90m━━━━━━━━━━━━━━━━━━━━━━━━━━━━━━━━━━━━━━━━\u001b[0m \u001b[32m1.6/1.6 MB\u001b[0m \u001b[31m10.1 MB/s\u001b[0m eta \u001b[36m0:00:00\u001b[0m\n",
            "\u001b[?25hRequirement already satisfied: decorator in /usr/local/lib/python3.10/dist-packages (from IPython) (4.4.2)\n",
            "Requirement already satisfied: pickleshare in /usr/local/lib/python3.10/dist-packages (from IPython) (0.7.5)\n",
            "Requirement already satisfied: traitlets>=4.2 in /usr/local/lib/python3.10/dist-packages (from IPython) (5.7.1)\n",
            "Requirement already satisfied: prompt-toolkit!=3.0.0,!=3.0.1,<3.1.0,>=2.0.0 in /usr/local/lib/python3.10/dist-packages (from IPython) (3.0.43)\n",
            "Requirement already satisfied: pygments in /usr/local/lib/python3.10/dist-packages (from IPython) (2.16.1)\n",
            "Requirement already satisfied: backcall in /usr/local/lib/python3.10/dist-packages (from IPython) (0.2.0)\n",
            "Requirement already satisfied: matplotlib-inline in /usr/local/lib/python3.10/dist-packages (from IPython) (0.1.6)\n",
            "Requirement already satisfied: pexpect>4.3 in /usr/local/lib/python3.10/dist-packages (from IPython) (4.9.0)\n",
            "Requirement already satisfied: parso<0.9.0,>=0.8.3 in /usr/local/lib/python3.10/dist-packages (from jedi>=0.16->IPython) (0.8.3)\n",
            "Requirement already satisfied: ptyprocess>=0.5 in /usr/local/lib/python3.10/dist-packages (from pexpect>4.3->IPython) (0.7.0)\n",
            "Requirement already satisfied: wcwidth in /usr/local/lib/python3.10/dist-packages (from prompt-toolkit!=3.0.0,!=3.0.1,<3.1.0,>=2.0.0->IPython) (0.2.13)\n",
            "Installing collected packages: jedi\n",
            "Successfully installed jedi-0.19.1\n"
          ]
        }
      ]
    },
    {
      "cell_type": "code",
      "source": [
        "# Classe para escrever texto formatado\n",
        "class MessageType(Enum):\n",
        "  mtTitulo    = \"font-size:18px; font-weight:bold; color:#C6E5FF; text-decoration: underline; line-height: 3;\"\n",
        "  mtCabecalho = \"font-size:16px; font-weight:bold; color:#C6E5FF; text-decoration: underline; line-height: 2;\"\n",
        "  mtPergunta  = \"color: #AAD3FF; line-height: 1.5;\"\n",
        "  mtErro      = \"color:#EB564B; \"\n",
        "  mtNormal    = \"\"\n",
        "\n",
        "class Display:\n",
        "  @staticmethod\n",
        "  def ShowMessage(Message: str, MessageType: MessageType):\n",
        "    if MessageType == MessageType.mtNormal:\n",
        "      print(Message)\n",
        "    else:\n",
        "      display(HTML(f'<span style=\"{MessageType.value}\">{Message}</span>'))"
      ],
      "metadata": {
        "id": "3I6qvIPci3Vz"
      },
      "execution_count": 2,
      "outputs": []
    },
    {
      "cell_type": "code",
      "source": [
        "# @title Texto de título padrão\n",
        "# Classe de tipo de questionário\n",
        "class Questionario:\n",
        "  def __init__(self, titulo: str, introducao: str):\n",
        "    self.Titulo = titulo\n",
        "    self.Introducao = introducao\n",
        "\n",
        "  def __repr__(self):\n",
        "    return f\"Questionario(Titulo={self.Titulo}, Introducao={self.Introducao})\"\n",
        "#------------------------------------------------------------------------\n",
        "\n",
        "# Classe que conterá as respostas dadas pelo usuário\n",
        "class RespostaParaAnalise:\n",
        "  def __init__(self, categoria: int, CaptionCategoria: str, pesoCategoria: float, maximoPontos: float, ponto: float):\n",
        "    self.Categoria = categoria\n",
        "    self.CaptionCategoria = CaptionCategoria\n",
        "    self.PesoCategoria = pesoCategoria\n",
        "    self.MaximoPontos = maximoPontos\n",
        "    self.Ponto = ponto\n",
        "\n",
        "  def __repr__(self):\n",
        "    return f\"RespostaParaAnalise(Categoria={self.Categoria}, CaptionCategoria={self.CaptionCategoria}, PesoCategoria={self.PesoCategoria}, MaximoPontos={self.MaximoPontos}, Ponto={self.Ponto})\"\n",
        "#------------------------------------------------------------------------\n",
        "\n",
        "# Classe que conterá o resumo da pontuação do usuário, agregado por categoria\n",
        "class CategoriaParaAnalise:\n",
        "  def __init__(self, categoria: int,  captionCategoria: str, pesoCategoria: float, maximoPontos: float, pontosObtidos: float):\n",
        "    self.Categoria = categoria\n",
        "    self.CaptionCategoria = captionCategoria\n",
        "    self.PesoCategoria = pesoCategoria\n",
        "    self.MaximoPontos = maximoPontos\n",
        "    self.PontosObtidos = pontosObtidos\n",
        "\n",
        "  @property\n",
        "  def PercentualAcerto(self):\n",
        "      return self.PontosObtidos * 100 / self.MaximoPontos\n",
        "\n",
        "  def __repr__(self):\n",
        "    return f\"CategoriaParaAnalise(CaptionCategoria={self.CaptionCategoria}, categoria={self.Categoria}, pesoCategoria={self.PesoCategoria}, máximo de pontos={self.MaximoPontos}, pontos obtidos: {self.PontosObtidos})\"\n",
        "#------------------------------------------------------------------------\n",
        "\n",
        "class AnaliseRespostaCategoria:\n",
        "  def __init__(self, categoria: int, minimo: float, maximo: float, resposta: str):\n",
        "    self.Categoria = categoria\n",
        "    self.Minimo = minimo\n",
        "    self.Maximo = maximo\n",
        "    self.Resposta = resposta\n",
        "\n",
        "  def __repr__(self):\n",
        "    return f\"AnaliseRespostaCategoria(Categoria={self.Categoria}, Minimo={self.Minimo}, maximo={self.Maximo}, Resposta={self.Resposta})\"\n",
        "#------------------------------------------------------------------------\n",
        "\n",
        "\n",
        "class RespostaItem:\n",
        "  def __init__(self, index: int, caption: str, grade: float):\n",
        "    self.Index = index\n",
        "    self.Caption = caption\n",
        "    self.Grade = grade\n",
        "\n",
        "  def __repr__(self):\n",
        "    return f\"RespostaItem(Index={self.Index}, Caption={self.Caption}, Grade={self.Grade})\"\n",
        "#------------------------------------------------------------------------\n",
        "\n",
        "class PerguntaItem:\n",
        "  def __init__(self, index: int, caption: str, respostas: list[RespostaItem]):\n",
        "    self.Index = index\n",
        "    self.Caption = caption\n",
        "    self.Respostas = respostas\n",
        "\n",
        "  def __repr__(self):\n",
        "    return f\"PerguntaItem(Index={self.index}, Caption={self.Caption}, Respostas={self.Respostas})\"\n",
        "#------------------------------------------------------------------------\n",
        "\n",
        "class CategoriaPergunteItem:\n",
        "  def __init__(self, index: int, caption: str, peso: float, perguntas: list[PerguntaItem]):\n",
        "    self.Index = index\n",
        "    self.Caption = caption\n",
        "    self.Peso = peso\n",
        "    self.Perguntas = perguntas\n",
        "\n",
        "  def __repr__(self):\n",
        "    return f\"CategoriaPergunteItem(Index={self.Index}, Caption={self.Caption}, Peso={self.Peso}, Perguntas={self.Perguntas})\"\n",
        "#------------------------------------------------------------------------"
      ],
      "metadata": {
        "id": "DibQ6_f09fXu"
      },
      "execution_count": 3,
      "outputs": []
    },
    {
      "cell_type": "code",
      "source": [
        "#Builder para criar o título e a descrição do questionário\n",
        "class QuestionarioBuilder:\n",
        "  @staticmethod\n",
        "  def Build(self):\n",
        "    self.DescicaoQuestionario = Questionario(\"Avaliação de Conhecimentos Básicos de Fotografia\",\n",
        "                                             \"Com o intuito de avaliar suas capacidades fotográficas e o que conseguiu apreender durante\\n\" +\n",
        "                                             \"o curso básico de fotografia, além de guiá-lo no desenvolvimento de suas capacidades e ajudá-lo\\n\" +\n",
        "                                             \"a identificar seus pontos fortes e fracos, apresentamos a avaliação abaixo.\\n\\n\" +\n",
        "                                             \"Leia atentamente as perguntas e as respostas e indique a que melhor responde às questões propostas.\\n\" +\n",
        "                                             \"Em tempo, não pense que todas as questões são feitas de \"\"certo/errado\"\", pois em alguns casos podem \\n\" +\n",
        "                                             \"existir várias respostas certas, de acordo com o seu nível de conhecimento. Nesse caso, escolha a que\\n\" +\n",
        "                                             \"achar a mais completa ou mais correta.\\n\\n\" +\n",
        "                                             \"Vamos começar.\")\n",
        "\n",
        "    return self.DescicaoQuestionario\n",
        "#------------------------------------------------------------------------\n",
        "\n",
        "# Builder para criar a estrutura de perguntas\n",
        "class PerguntasBuilder:\n",
        "  @staticmethod\n",
        "  def Build(self):\n",
        "    self.listaPeguntas = [\n",
        "        CategoriaPergunteItem(1, \"Conceitos Básicos\", 3,\n",
        "                              [PerguntaItem(1, \"Sobre o foco em fotografias de pessoas, qual das opções você considera a mais pertinente?\",\n",
        "                                            [RespostaItem(1, \"Deve sempre abranger todo o rosto da pessoa\", 2),\n",
        "                                             RespostaItem(2, \"Deve estar sempre cravado nos olhos da pessoa\", 3),\n",
        "                                             RespostaItem(3, \"Deve estar sempre na região mais próxima da câmera, evidenciando a profundidade de campo\", 1),\n",
        "                                             RespostaItem(4, \"Pode estar em qualquer lugar da foto\", 0)]),\n",
        "                              PerguntaItem(2, \"Sobre profundidade de campo, qual das opções é a correta?\",\n",
        "                                            [RespostaItem(1, \"Quanto mais aberto o diafragma, maior a profundidade de campo\", 0),\n",
        "                                             RespostaItem(2, \"Quanto maior a velocidade do obturador, maior a profundidade de campo\", 0),\n",
        "                                             RespostaItem(3, \"Quanto mais fechado o diafragma, maior a profundidade de campo\", 3),\n",
        "                                             RespostaItem(4, \"Quanto maior o ISO, maior a profundidade de campo\", 0)]),\n",
        "                              PerguntaItem(3, \"Sobre ISO, qual das opções é a correta?\",\n",
        "                                            [RespostaItem(1, \"Determina a sensibilidade do sensor à luz que chega até ele\", 3),\n",
        "                                             RespostaItem(2, \"Determina a quantidade de luz que chega ao sensor\", 0),\n",
        "                                             RespostaItem(3, \"Determina a velocidade com que o obturador abre e fecha\", 0),\n",
        "                                             RespostaItem(4, \"Determina se a fotografia ficará ou não no foco\", 0)]),\n",
        "                               PerguntaItem(7, \"Sobre os efeitos da velocidade do obturador no resultado da foto, pode-se afirmar que:\",\n",
        "                                            [RespostaItem(1, \"Permite que o sensor \"\"perceba\"\" mais ou menos luz\", 0),\n",
        "                                             RespostaItem(2, \"Aumenta a profundidade de campo da cena\", 0),\n",
        "                                             RespostaItem(3, \"Possui como unidade de medida a letra \"\"f\"\" e quanto maior o valor, maior a quantidade de luz que chega ao sensor\", 0),\n",
        "                                             RespostaItem(4, \"É representada em segundos e suas frações e tem a capacidade de \"\"congelar\"\" a cena quando alta o suficiente\", 3)]),\n",
        "                               PerguntaItem(8, \"Sobre a abertura do diafragma, qual das opções é a mais completa?\",\n",
        "                                            [RespostaItem(1, \"Permite que o sensor \"\"perceba\"\" mais ou menos luz\", 1),\n",
        "                                             RespostaItem(2, \"Pode interferir no foco da foto, uma vez que que influencia a profundidade de campo\", 2),\n",
        "                                             RespostaItem(3, \"Além da opção anterior, possui como unidade de medida a letra \"\"f\"\" e quanto menor seu valor, mais luz chega ao sensor\", 3),\n",
        "                                             RespostaItem(4, \"Está intimamente ligada à câmera e ao tamanho do sensor\", 0)])\n",
        "                              ]),\n",
        "        CategoriaPergunteItem(2, \"Composição\", 2,\n",
        "                              [PerguntaItem(4, \"Sobre a regra dos terços, qual das opções você considera a mais pertinente?\",\n",
        "                                            [RespostaItem(1, \"É a melhor forma de posicionar os componentes da foto no quadro\", 1),\n",
        "                                             RespostaItem(2, \"Não deve ser usada, de forma alguma, por fotógrafos com conhecimentos avançados ou profissionais\", 0),\n",
        "                                             RespostaItem(3, \"É mais usada em fotografias de paisagem\", 0),\n",
        "                                             RespostaItem(4, \"É uma entre muitas formas que o fotógrafo tem para compor a cena\", 0)]),\n",
        "                               PerguntaItem(5, \"Sobre a técnica de composição utilizando \"\"linhas guia\"\", escolha a melhor opção:\",\n",
        "                                            [RespostaItem(1, \"São linhas na cena onde os pontos de atenção devem estar posicionados\", 1),\n",
        "                                             RespostaItem(2, \"São linhas imaginárias na cena que dão simetria à composição\", 2),\n",
        "                                             RespostaItem(3, \"São representadas pelos contornos dos objetos da cena\", 0),\n",
        "                                             RespostaItem(4, \"São melhor utilizadas quando sugerem inconscientemente ao observador o caminho que leva ao ponto de interesse da foto\", 3)]),\n",
        "                               PerguntaItem(6, \"Indique a melhor descrição para o uso da técnica da simetria:\",\n",
        "                                            [RespostaItem(1, \"O assunto da foto deve sempre estar centralizado e o formato da foto deve ser quadrado\", 1),\n",
        "                                             RespostaItem(2, \"Pelo menos dois lados da foto devem ser simétricos, não importando a orientação e nem o formato da foto\", 3),\n",
        "                                             RespostaItem(3, \"Os resultados de fotografias simétricas não são muito agradáveis aos olhos do observador\", 0),\n",
        "                                             RespostaItem(4, \"Nunca pode ser utilizado em fotos de retrato porque o rosto humano nunca é simétrico\", 0)])\n",
        "                              ])\n",
        "    ]\n",
        "    return self.listaPeguntas\n",
        "#------------------------------------------------------------------------\n",
        "\n",
        "# Builder para criar a estrutura de análise de respostas\n",
        "class ResultadosAnaliseBuilder:\n",
        "  @staticmethod\n",
        "  def Build(self):\n",
        "    self.listaResultadoAnaliseCategoria = [AnaliseRespostaCategoria(1, 0, 30,   \"Você ainda precisa estudar muito. Todas as suas boas fotos são, de uma forma geral, \\n\" +\n",
        "                                                                                \"obra da sorte.\"),\n",
        "                                           AnaliseRespostaCategoria(1, 31, 50,  \"Você já tem um conhecimento básico e pode tirar boas fotos, mas ainda conta muito \\n\" +\n",
        "                                                                                \"com o fator \"\"sorte\"\" para conseguir fotos com alguma qualidade.\"),\n",
        "                                           AnaliseRespostaCategoria(1, 51, 80,  \"Você possui um bom conhecimento dos conceitos básicos de fotografia, o que lhe permite \\n\" +\n",
        "                                                                                \"um bom aproveitamento das fotos tiradas.\"),\n",
        "                                           AnaliseRespostaCategoria(1, 81, 100, \"Você possui todos os conhecimentos básicos necessários para garantir uma boa fotografia, \\n\" +\n",
        "                                                                                \"embora somente esses conhecimentos não garantam uma foto sem as técnicas de composição \\n\" +\n",
        "                                                                                \"adequadas.\"),\n",
        "                                           AnaliseRespostaCategoria(2, 0, 30,   \"Você não consegue, de forma consciente, obter boas fotografias. Ainda depende muito da sorte.\"),\n",
        "                                           AnaliseRespostaCategoria(2, 31, 50,  \"Você consegue fazer boas fotos, mas mais estudo pode garantir a sua independência da sorte.\"),\n",
        "                                           AnaliseRespostaCategoria(2, 51, 80,  \"Você já consegue ótimas fotos e de forma consciente. Com esse nível de conhecimento,o fator \\n\" +\n",
        "                                                                                \"sorte já está quase eliminado.\"),\n",
        "                                           AnaliseRespostaCategoria(2, 81, 100, \"Você já é capaz de fazer excelentes fotografias e, embora a sorte seja uma grande aliada \\n\" +\n",
        "                                                                                \"do fotógrafo e não deva ser desprezada, suas fotos já têm o potencial de impactar somente \\n\" +\n",
        "                                                                                \"pelos seus conhecimentos.\")]\n",
        "\n",
        "    return self.listaResultadoAnaliseCategoria"
      ],
      "metadata": {
        "id": "UYY2vL1YBKfk"
      },
      "execution_count": 4,
      "outputs": []
    },
    {
      "cell_type": "code",
      "source": [
        "# Classe para ler opções de resposta\n",
        "class Keyboard:\n",
        "  @staticmethod\n",
        "  def input(opcoes_disponiveis):\n",
        "    retorno = input(\"Digite sua resposta (ou 'S' para sair): \").upper()\n",
        "\n",
        "    if (retorno != \"S\") and (retorno not in opcoes_disponiveis):\n",
        "      Display.ShowMessage(\"\", MessageType.mtNormal)\n",
        "      Display.ShowMessage(\"A sua resposta deve estar entre as opções {opcoes_disponiveis} ou \"\"S\"\" para sair\", MessageType.mtErro)\n",
        "      Display.ShowMessage(\"\", MessageType.mtNormal)\n",
        "\n",
        "      retorno = Keyboard.input(opcoes_disponiveis)\n",
        "\n",
        "    return retorno"
      ],
      "metadata": {
        "id": "RAJMDxs-tVUa"
      },
      "execution_count": 5,
      "outputs": []
    },
    {
      "cell_type": "code",
      "source": [
        "# Classe para análise das respostas dadas em cada categoria\n",
        "class AnaliseRespostas:\n",
        "  def AnalisarRespostas(self, Respostas: list[RespostaParaAnalise]):\n",
        "    self.listaCategoriaParaAnalises = []\n",
        "    Display.ShowMessage(\"\", MessageType.mtNormal)\n",
        "\n",
        "    if len(Respostas) > 0:\n",
        "\n",
        "      Display.ShowMessage(\"Análise das Respostas Dadas\", MessageType.mtCabecalho)\n",
        "\n",
        "      categoriaControle = 0\n",
        "\n",
        "      for resposta in Respostas:\n",
        "        if resposta.Categoria != categoriaControle:\n",
        "          categoriaControle = resposta.Categoria\n",
        "          self.listaCategoriaParaAnalises.append(CategoriaParaAnalise(resposta.Categoria,\n",
        "                                                                      resposta.CaptionCategoria,\n",
        "                                                                      resposta.PesoCategoria,\n",
        "                                                                      sum(resposta.MaximoPontos for resposta in Respostas if resposta.Categoria == categoriaControle),\n",
        "                                                                      sum(resposta.Ponto for resposta in Respostas if resposta.Categoria == categoriaControle)))\n",
        "\n",
        "      listaRespostas = ResultadosAnaliseBuilder.Build(self);\n",
        "\n",
        "      #TO DO: Colocar as respostas em uma lista, contendo:\n",
        "      #         1: Título para o tópico de resposta (Categoria, considerações finais...)\n",
        "      #         2: Mensagem de resposta\n",
        "      #TO DO: Criar uma classe para respostas de considerações finais, baseadas no peso e pontuação em cada categoria\n",
        "      #TO DO: Mostrar a lista final de respostas\n",
        "\n",
        "      for categoriaParaAnalise in self.listaCategoriaParaAnalises:\n",
        "        Display.ShowMessage(categoriaParaAnalise.CaptionCategoria, MessageType.mtPergunta)\n",
        "        resposta = next((itemResposta.Resposta for itemResposta in listaRespostas if (itemResposta.Minimo <= categoriaParaAnalise.PercentualAcerto <= itemResposta.Maximo) and itemResposta.Categoria == categoriaParaAnalise.Categoria), \"<não identificado>\")\n",
        "        Display.ShowMessage(resposta, MessageType.mtNormal)\n",
        "        Display.ShowMessage(\"\", MessageType.mtNormal)\n",
        "\n",
        "\n",
        "      Display.ShowMessage(\"\", MessageType.mtNormal)\n",
        "\n",
        "      Display.ShowMessage(\"Respostas por Categoria\", MessageType.mtPergunta)\n",
        "      for resposta in Respostas:\n",
        "        Display.ShowMessage(f\"Categoria: {resposta.Categoria}, Peso da Categoria: {resposta.PesoCategoria}, Máximo Possível de Pontos: {resposta.MaximoPontos}, Pontos de Resposta: {resposta.Ponto}\", MessageType.mtNormal)\n",
        "\n",
        "      Display.ShowMessage(\"\", MessageType.mtNormal)\n",
        "\n",
        "      Display.ShowMessage(\"Análise de Categorias Respondidas\", MessageType.mtPergunta)\n",
        "      for categoriaParaAnalise in self.listaCategoriaParaAnalises:\n",
        "        Display.ShowMessage(f\"Categoria: {categoriaParaAnalise.Categoria}, Peso da Categoria: {categoriaParaAnalise.PesoCategoria}, Máximo de Pontos Possíveis: {categoriaParaAnalise.MaximoPontos}, Pontos Obtidos: {categoriaParaAnalise.PontosObtidos}\", MessageType.mtNormal)\n",
        "\n",
        "    else:\n",
        "      Display.ShowMessage(\"Nenhuma resposta foi fornecida para análise!\", MessageType.mtErro)"
      ],
      "metadata": {
        "id": "gR7Jwv_oRq-2"
      },
      "execution_count": 6,
      "outputs": []
    },
    {
      "cell_type": "code",
      "source": [
        "# Exibe o questionário e recolhe as respostas a cada pergunta\n",
        "\n",
        "class AvaliacaoFotografo:\n",
        "  def __init__(self):\n",
        "    self.finalizarExecucao = False;\n",
        "    self.respostasAnalise = []\n",
        "    self.listaPerguntas = PerguntasBuilder.Build(self)\n",
        "\n",
        "    #display(HTML(f'Introdução'))\n",
        "    Display.ShowMessage(\"Introdução\", MessageType.mtCabecalho)\n",
        "    Display.ShowMessage(\"Você está prestes a fazer uma avaliação dos seus conhecimentos sobre fotografia.\", MessageType.mtNormal)\n",
        "    Display.ShowMessage(\"Leia atentamente as perguntas e as respostas e indique a que melhor responde às questões propostas.\", MessageType.mtNormal)\n",
        "    Display.ShowMessage(\"\", MessageType.mtNormal)\n",
        "    Display.ShowMessage(\"Vamos começar.\", MessageType.mtNormal)\n",
        "    Display.ShowMessage(\"\", MessageType.mtNormal)\n",
        "\n",
        "  #-----------------------------------------------------------------------------\n",
        "  def Le_Resposta(self, opcoes_disponiveis):\n",
        "    if self.finalizarExecucao:\n",
        "      return\n",
        "\n",
        "    retorno = Keyboard.input(opcoes_disponiveis)\n",
        "\n",
        "    if retorno == \"S\":\n",
        "      self.finalizarExecucao = True\n",
        "\n",
        "    return retorno\n",
        "  #-----------------------------------------------------------------------------\n",
        "\n",
        "  def IniciarAvaliacao(self):\n",
        "    # Mostra a categoria da pergunta\n",
        "    for categoria in self.listaPerguntas:\n",
        "      Display.ShowMessage(categoria.Caption, MessageType.mtCabecalho)\n",
        "\n",
        "      # Mostra a pergunta da vez\n",
        "      for pergunta in categoria.Perguntas:\n",
        "        Display.ShowMessage(pergunta.Caption, MessageType.mtPergunta)\n",
        "\n",
        "        # Mostra as opções de resposta à pergunta da vez\n",
        "        for resposta in pergunta.Respostas:\n",
        "          Display.ShowMessage(f\"\\t{resposta.Index} - {resposta.Caption}\", MessageType.mtNormal)\n",
        "\n",
        "        Display.ShowMessage(chr(175) * 42, MessageType.mtPergunta)\n",
        "\n",
        "        # Espera que o usuário responda\n",
        "        resposta_dada = self.Le_Resposta([\"1\", \"2\", \"3\", \"4\"])\n",
        "\n",
        "        # Sai da aplicação caso o usuário decida\n",
        "        if self.finalizarExecucao:\n",
        "          break\n",
        "        else:\n",
        "          Display.ShowMessage(\"\", MessageType.mtNormal)\n",
        "\n",
        "        # Valida e pega o peso da resposta dada\n",
        "        for resposta in pergunta.Respostas:\n",
        "           if int(resposta_dada) == resposta.Index:\n",
        "              self.respostasAnalise.append(RespostaParaAnalise(categoria.Index, categoria.Caption, categoria.Peso, max(resposta.Grade for resposta in pergunta.Respostas), resposta.Grade))\n",
        "              break\n",
        "\n",
        "      if self.finalizarExecucao:\n",
        "        break\n",
        "      else:\n",
        "        Display.ShowMessage(\"\", MessageType.mtNormal)\n",
        "\n",
        "    if self.finalizarExecucao:\n",
        "      Display.ShowMessage(\"\", MessageType.mtNormal)\n",
        "      Display.ShowMessage(\"O usuário solicitou a finalização da avaliação!\", MessageType.mtErro)\n",
        "\n",
        "    AnaliseRespostas().AnalisarRespostas(self.respostasAnalise)"
      ],
      "metadata": {
        "id": "EOE1Iwa3OB0Z"
      },
      "execution_count": 7,
      "outputs": []
    },
    {
      "cell_type": "code",
      "source": [
        "# Executando a aplicação\n",
        "AvaliacaoFotografo().IniciarAvaliacao()"
      ],
      "metadata": {
        "colab": {
          "base_uri": "https://localhost:8080/",
          "height": 1000
        },
        "id": "x_xM-6TYySDg",
        "outputId": "0240cb03-0726-4813-bb94-63f2e5dc9636"
      },
      "execution_count": 8,
      "outputs": [
        {
          "output_type": "display_data",
          "data": {
            "text/plain": [
              "<IPython.core.display.HTML object>"
            ],
            "text/html": [
              "<span style=\"font-size:16px; font-weight:bold; color:#C6E5FF; text-decoration: underline; line-height: 2;\">Introdução</span>"
            ]
          },
          "metadata": {}
        },
        {
          "output_type": "stream",
          "name": "stdout",
          "text": [
            "Você está prestes a fazer uma avaliação dos seus conhecimentos sobre fotografia.\n",
            "Leia atentamente as perguntas e as respostas e indique a que melhor responde às questões propostas.\n",
            "\n",
            "Vamos começar.\n",
            "\n"
          ]
        },
        {
          "output_type": "display_data",
          "data": {
            "text/plain": [
              "<IPython.core.display.HTML object>"
            ],
            "text/html": [
              "<span style=\"font-size:16px; font-weight:bold; color:#C6E5FF; text-decoration: underline; line-height: 2;\">Conceitos Básicos</span>"
            ]
          },
          "metadata": {}
        },
        {
          "output_type": "display_data",
          "data": {
            "text/plain": [
              "<IPython.core.display.HTML object>"
            ],
            "text/html": [
              "<span style=\"color: #AAD3FF; line-height: 1.5;\">Sobre o foco em fotografias de pessoas, qual das opções você considera a mais pertinente?</span>"
            ]
          },
          "metadata": {}
        },
        {
          "output_type": "stream",
          "name": "stdout",
          "text": [
            "\t1 - Deve sempre abranger todo o rosto da pessoa\n",
            "\t2 - Deve estar sempre cravado nos olhos da pessoa\n",
            "\t3 - Deve estar sempre na região mais próxima da câmera, evidenciando a profundidade de campo\n",
            "\t4 - Pode estar em qualquer lugar da foto\n"
          ]
        },
        {
          "output_type": "display_data",
          "data": {
            "text/plain": [
              "<IPython.core.display.HTML object>"
            ],
            "text/html": [
              "<span style=\"color: #AAD3FF; line-height: 1.5;\">¯¯¯¯¯¯¯¯¯¯¯¯¯¯¯¯¯¯¯¯¯¯¯¯¯¯¯¯¯¯¯¯¯¯¯¯¯¯¯¯¯¯</span>"
            ]
          },
          "metadata": {}
        },
        {
          "output_type": "stream",
          "name": "stdout",
          "text": [
            "Digite sua resposta (ou 'S' para sair): 1\n",
            "\n"
          ]
        },
        {
          "output_type": "display_data",
          "data": {
            "text/plain": [
              "<IPython.core.display.HTML object>"
            ],
            "text/html": [
              "<span style=\"color: #AAD3FF; line-height: 1.5;\">Sobre profundidade de campo, qual das opções é a correta?</span>"
            ]
          },
          "metadata": {}
        },
        {
          "output_type": "stream",
          "name": "stdout",
          "text": [
            "\t1 - Quanto mais aberto o diafragma, maior a profundidade de campo\n",
            "\t2 - Quanto maior a velocidade do obturador, maior a profundidade de campo\n",
            "\t3 - Quanto mais fechado o diafragma, maior a profundidade de campo\n",
            "\t4 - Quanto maior o ISO, maior a profundidade de campo\n"
          ]
        },
        {
          "output_type": "display_data",
          "data": {
            "text/plain": [
              "<IPython.core.display.HTML object>"
            ],
            "text/html": [
              "<span style=\"color: #AAD3FF; line-height: 1.5;\">¯¯¯¯¯¯¯¯¯¯¯¯¯¯¯¯¯¯¯¯¯¯¯¯¯¯¯¯¯¯¯¯¯¯¯¯¯¯¯¯¯¯</span>"
            ]
          },
          "metadata": {}
        },
        {
          "output_type": "stream",
          "name": "stdout",
          "text": [
            "Digite sua resposta (ou 'S' para sair): 1\n",
            "\n"
          ]
        },
        {
          "output_type": "display_data",
          "data": {
            "text/plain": [
              "<IPython.core.display.HTML object>"
            ],
            "text/html": [
              "<span style=\"color: #AAD3FF; line-height: 1.5;\">Sobre ISO, qual das opções é a correta?</span>"
            ]
          },
          "metadata": {}
        },
        {
          "output_type": "stream",
          "name": "stdout",
          "text": [
            "\t1 - Determina a sensibilidade do sensor à luz que chega até ele\n",
            "\t2 - Determina a quantidade de luz que chega ao sensor\n",
            "\t3 - Determina a velocidade com que o obturador abre e fecha\n",
            "\t4 - Determina se a fotografia ficará ou não no foco\n"
          ]
        },
        {
          "output_type": "display_data",
          "data": {
            "text/plain": [
              "<IPython.core.display.HTML object>"
            ],
            "text/html": [
              "<span style=\"color: #AAD3FF; line-height: 1.5;\">¯¯¯¯¯¯¯¯¯¯¯¯¯¯¯¯¯¯¯¯¯¯¯¯¯¯¯¯¯¯¯¯¯¯¯¯¯¯¯¯¯¯</span>"
            ]
          },
          "metadata": {}
        },
        {
          "output_type": "stream",
          "name": "stdout",
          "text": [
            "Digite sua resposta (ou 'S' para sair): 1\n",
            "\n"
          ]
        },
        {
          "output_type": "display_data",
          "data": {
            "text/plain": [
              "<IPython.core.display.HTML object>"
            ],
            "text/html": [
              "<span style=\"color: #AAD3FF; line-height: 1.5;\">Sobre os efeitos da velocidade do obturador no resultado da foto, pode-se afirmar que:</span>"
            ]
          },
          "metadata": {}
        },
        {
          "output_type": "stream",
          "name": "stdout",
          "text": [
            "\t1 - Permite que o sensor perceba mais ou menos luz\n",
            "\t2 - Aumenta a profundidade de campo da cena\n",
            "\t3 - Possui como unidade de medida a letra f e quanto maior o valor, maior a quantidade de luz que chega ao sensor\n",
            "\t4 - É representada em segundos e suas frações e tem a capacidade de congelar a cena quando alta o suficiente\n"
          ]
        },
        {
          "output_type": "display_data",
          "data": {
            "text/plain": [
              "<IPython.core.display.HTML object>"
            ],
            "text/html": [
              "<span style=\"color: #AAD3FF; line-height: 1.5;\">¯¯¯¯¯¯¯¯¯¯¯¯¯¯¯¯¯¯¯¯¯¯¯¯¯¯¯¯¯¯¯¯¯¯¯¯¯¯¯¯¯¯</span>"
            ]
          },
          "metadata": {}
        },
        {
          "output_type": "stream",
          "name": "stdout",
          "text": [
            "Digite sua resposta (ou 'S' para sair): 1\n",
            "\n"
          ]
        },
        {
          "output_type": "display_data",
          "data": {
            "text/plain": [
              "<IPython.core.display.HTML object>"
            ],
            "text/html": [
              "<span style=\"color: #AAD3FF; line-height: 1.5;\">Sobre a abertura do diafragma, qual das opções é a mais completa?</span>"
            ]
          },
          "metadata": {}
        },
        {
          "output_type": "stream",
          "name": "stdout",
          "text": [
            "\t1 - Permite que o sensor perceba mais ou menos luz\n",
            "\t2 - Pode interferir no foco da foto, uma vez que que influencia a profundidade de campo\n",
            "\t3 - Além da opção anterior, possui como unidade de medida a letra f e quanto menor seu valor, mais luz chega ao sensor\n",
            "\t4 - Está intimamente ligada à câmera e ao tamanho do sensor\n"
          ]
        },
        {
          "output_type": "display_data",
          "data": {
            "text/plain": [
              "<IPython.core.display.HTML object>"
            ],
            "text/html": [
              "<span style=\"color: #AAD3FF; line-height: 1.5;\">¯¯¯¯¯¯¯¯¯¯¯¯¯¯¯¯¯¯¯¯¯¯¯¯¯¯¯¯¯¯¯¯¯¯¯¯¯¯¯¯¯¯</span>"
            ]
          },
          "metadata": {}
        },
        {
          "output_type": "stream",
          "name": "stdout",
          "text": [
            "Digite sua resposta (ou 'S' para sair): 1\n",
            "\n",
            "\n"
          ]
        },
        {
          "output_type": "display_data",
          "data": {
            "text/plain": [
              "<IPython.core.display.HTML object>"
            ],
            "text/html": [
              "<span style=\"font-size:16px; font-weight:bold; color:#C6E5FF; text-decoration: underline; line-height: 2;\">Composição</span>"
            ]
          },
          "metadata": {}
        },
        {
          "output_type": "display_data",
          "data": {
            "text/plain": [
              "<IPython.core.display.HTML object>"
            ],
            "text/html": [
              "<span style=\"color: #AAD3FF; line-height: 1.5;\">Sobre a regra dos terços, qual das opções você considera a mais pertinente?</span>"
            ]
          },
          "metadata": {}
        },
        {
          "output_type": "stream",
          "name": "stdout",
          "text": [
            "\t1 - É a melhor forma de posicionar os componentes da foto no quadro\n",
            "\t2 - Não deve ser usada, de forma alguma, por fotógrafos com conhecimentos avançados ou profissionais\n",
            "\t3 - É mais usada em fotografias de paisagem\n",
            "\t4 - É uma entre muitas formas que o fotógrafo tem para compor a cena\n"
          ]
        },
        {
          "output_type": "display_data",
          "data": {
            "text/plain": [
              "<IPython.core.display.HTML object>"
            ],
            "text/html": [
              "<span style=\"color: #AAD3FF; line-height: 1.5;\">¯¯¯¯¯¯¯¯¯¯¯¯¯¯¯¯¯¯¯¯¯¯¯¯¯¯¯¯¯¯¯¯¯¯¯¯¯¯¯¯¯¯</span>"
            ]
          },
          "metadata": {}
        },
        {
          "output_type": "stream",
          "name": "stdout",
          "text": [
            "Digite sua resposta (ou 'S' para sair): 1\n",
            "\n"
          ]
        },
        {
          "output_type": "display_data",
          "data": {
            "text/plain": [
              "<IPython.core.display.HTML object>"
            ],
            "text/html": [
              "<span style=\"color: #AAD3FF; line-height: 1.5;\">Sobre a técnica de composição utilizando linhas guia, escolha a melhor opção:</span>"
            ]
          },
          "metadata": {}
        },
        {
          "output_type": "stream",
          "name": "stdout",
          "text": [
            "\t1 - São linhas na cena onde os pontos de atenção devem estar posicionados\n",
            "\t2 - São linhas imaginárias na cena que dão simetria à composição\n",
            "\t3 - São representadas pelos contornos dos objetos da cena\n",
            "\t4 - São melhor utilizadas quando sugerem inconscientemente ao observador o caminho que leva ao ponto de interesse da foto\n"
          ]
        },
        {
          "output_type": "display_data",
          "data": {
            "text/plain": [
              "<IPython.core.display.HTML object>"
            ],
            "text/html": [
              "<span style=\"color: #AAD3FF; line-height: 1.5;\">¯¯¯¯¯¯¯¯¯¯¯¯¯¯¯¯¯¯¯¯¯¯¯¯¯¯¯¯¯¯¯¯¯¯¯¯¯¯¯¯¯¯</span>"
            ]
          },
          "metadata": {}
        },
        {
          "output_type": "stream",
          "name": "stdout",
          "text": [
            "Digite sua resposta (ou 'S' para sair): 1\n",
            "\n"
          ]
        },
        {
          "output_type": "display_data",
          "data": {
            "text/plain": [
              "<IPython.core.display.HTML object>"
            ],
            "text/html": [
              "<span style=\"color: #AAD3FF; line-height: 1.5;\">Indique a melhor descrição para o uso da técnica da simetria:</span>"
            ]
          },
          "metadata": {}
        },
        {
          "output_type": "stream",
          "name": "stdout",
          "text": [
            "\t1 - O assunto da foto deve sempre estar centralizado e o formato da foto deve ser quadrado\n",
            "\t2 - Pelo menos dois lados da foto devem ser simétricos, não importando a orientação e nem o formato da foto\n",
            "\t3 - Os resultados de fotografias simétricas não são muito agradáveis aos olhos do observador\n",
            "\t4 - Nunca pode ser utilizado em fotos de retrato porque o rosto humano nunca é simétrico\n"
          ]
        },
        {
          "output_type": "display_data",
          "data": {
            "text/plain": [
              "<IPython.core.display.HTML object>"
            ],
            "text/html": [
              "<span style=\"color: #AAD3FF; line-height: 1.5;\">¯¯¯¯¯¯¯¯¯¯¯¯¯¯¯¯¯¯¯¯¯¯¯¯¯¯¯¯¯¯¯¯¯¯¯¯¯¯¯¯¯¯</span>"
            ]
          },
          "metadata": {}
        },
        {
          "output_type": "stream",
          "name": "stdout",
          "text": [
            "Digite sua resposta (ou 'S' para sair): 1\n",
            "\n",
            "\n",
            "\n"
          ]
        },
        {
          "output_type": "display_data",
          "data": {
            "text/plain": [
              "<IPython.core.display.HTML object>"
            ],
            "text/html": [
              "<span style=\"font-size:16px; font-weight:bold; color:#C6E5FF; text-decoration: underline; line-height: 2;\">Análise das Respostas Dadas</span>"
            ]
          },
          "metadata": {}
        },
        {
          "output_type": "display_data",
          "data": {
            "text/plain": [
              "<IPython.core.display.HTML object>"
            ],
            "text/html": [
              "<span style=\"color: #AAD3FF; line-height: 1.5;\">Conceitos Básicos</span>"
            ]
          },
          "metadata": {}
        },
        {
          "output_type": "stream",
          "name": "stdout",
          "text": [
            "Você já tem um conhecimento básico e pode tirar boas fotos, mas ainda conta muito \n",
            "com o fator sorte para conseguir fotos com alguma qualidade.\n",
            "\n"
          ]
        },
        {
          "output_type": "display_data",
          "data": {
            "text/plain": [
              "<IPython.core.display.HTML object>"
            ],
            "text/html": [
              "<span style=\"color: #AAD3FF; line-height: 1.5;\">Composição</span>"
            ]
          },
          "metadata": {}
        },
        {
          "output_type": "stream",
          "name": "stdout",
          "text": [
            "Você consegue fazer boas fotos, mas mais estudo pode garantir a sua independência da sorte.\n",
            "\n",
            "\n"
          ]
        },
        {
          "output_type": "display_data",
          "data": {
            "text/plain": [
              "<IPython.core.display.HTML object>"
            ],
            "text/html": [
              "<span style=\"color: #AAD3FF; line-height: 1.5;\">Respostas por Categoria</span>"
            ]
          },
          "metadata": {}
        },
        {
          "output_type": "stream",
          "name": "stdout",
          "text": [
            "Categoria: 1, Peso da Categoria: 3, Máximo Possível de Pontos: 3, Pontos de Resposta: 2\n",
            "Categoria: 1, Peso da Categoria: 3, Máximo Possível de Pontos: 3, Pontos de Resposta: 0\n",
            "Categoria: 1, Peso da Categoria: 3, Máximo Possível de Pontos: 3, Pontos de Resposta: 3\n",
            "Categoria: 1, Peso da Categoria: 3, Máximo Possível de Pontos: 3, Pontos de Resposta: 0\n",
            "Categoria: 1, Peso da Categoria: 3, Máximo Possível de Pontos: 3, Pontos de Resposta: 1\n",
            "Categoria: 2, Peso da Categoria: 2, Máximo Possível de Pontos: 1, Pontos de Resposta: 1\n",
            "Categoria: 2, Peso da Categoria: 2, Máximo Possível de Pontos: 3, Pontos de Resposta: 1\n",
            "Categoria: 2, Peso da Categoria: 2, Máximo Possível de Pontos: 3, Pontos de Resposta: 1\n",
            "\n"
          ]
        },
        {
          "output_type": "display_data",
          "data": {
            "text/plain": [
              "<IPython.core.display.HTML object>"
            ],
            "text/html": [
              "<span style=\"color: #AAD3FF; line-height: 1.5;\">Análise de Categorias Respondidas</span>"
            ]
          },
          "metadata": {}
        },
        {
          "output_type": "stream",
          "name": "stdout",
          "text": [
            "Categoria: 1, Peso da Categoria: 3, Máximo de Pontos Possíveis: 15, Pontos Obtidos: 6\n",
            "Categoria: 2, Peso da Categoria: 2, Máximo de Pontos Possíveis: 7, Pontos Obtidos: 3\n"
          ]
        }
      ]
    }
  ]
}