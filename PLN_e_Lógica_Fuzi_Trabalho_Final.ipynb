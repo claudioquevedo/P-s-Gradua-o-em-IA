{
  "nbformat": 4,
  "nbformat_minor": 0,
  "metadata": {
    "colab": {
      "provenance": [],
      "authorship_tag": "ABX9TyNXIE5KPc2VQk+gP8mOpjGw",
      "include_colab_link": true
    },
    "kernelspec": {
      "name": "python3",
      "display_name": "Python 3"
    },
    "language_info": {
      "name": "python"
    }
  },
  "cells": [
    {
      "cell_type": "markdown",
      "metadata": {
        "id": "view-in-github",
        "colab_type": "text"
      },
      "source": [
        "<a href=\"https://colab.research.google.com/github/claudioquevedo/Pos-Graduacao-em-IA/blob/master/PLN_e_L%C3%B3gica_Fuzi_Trabalho_Final.ipynb\" target=\"_parent\"><img src=\"https://colab.research.google.com/assets/colab-badge.svg\" alt=\"Open In Colab\"/></a>"
      ]
    },
    {
      "cell_type": "markdown",
      "source": [
        "# ***Projeto Final PLN e Lógica Fuzzy***\n",
        "---\n",
        "<br>\n",
        "\n",
        "## <i>Equipe:</i>\n",
        "- Claudio Peres Quevedo\n",
        "<br> (https://www.linkedin.com/in/claudioquevedo)\n",
        "\n",
        "<br>\n",
        "\n",
        "- Daniel Hudson\n",
        "<br> (https://www.linkedin.com/in/daniel-hudson-0893761b4)\n",
        "\n",
        "<br>\n",
        "\n",
        "- Eric Mencarini\n",
        " <br>(https://www.linkedin.com/in/ericmencarini)\n",
        "<br><br>\n",
        "\n",
        "## *Repositórios*\n",
        "#### Colab\n",
        "- https://colab.research.google.com/drive/1v1jJEaXQKsyLcTeKauS6nfX0Zp-PAiHo#scrollTo=7V0n0ijI6u4T\n",
        "\n",
        "#### Github\n",
        "- https://github.com/claudioquevedo/Pos-Graduacao-em-IA/blob/master/PLN_e_Lógica_Fuzi_Trabalho_Final.ipynb\n"
      ],
      "metadata": {
        "id": "p5KNTjBLF7nm"
      }
    },
    {
      "cell_type": "markdown",
      "source": [
        "# **Avaliação de Conhecimentos Fotográficos**\n"
      ],
      "metadata": {
        "id": "7V0n0ijI6u4T"
      }
    },
    {
      "cell_type": "markdown",
      "source": [
        "\n",
        "<font color=\"#AAD3FF\" size=5><b>Objetivos:</b></font>\n",
        "\n",
        "Demonstrar a utilização de processamento de linguagem natural para avaliar respostas à questões propostas, escritas por alunos de um curso fictício, comparando-as com respostas de gabarito.\n",
        "\n",
        "Foram utilizadas funções de permanência fuzzy para posicionar a relevância entre as respostas dadas e o gabarito com grupos de resultados indicativos de progresso no curso, bem como para linearizar as relevâncias obtidas em cada avaliação das respostas.\n",
        "\n",
        "<br>\n",
        "\n",
        "<font color=\"#AAD3FF\" size=5><b>Sistema Especialista:</b></font>\n",
        "\n",
        "Sobre o sistema especialista, as questões e suas respostas estão dispostas em categorias de forma que incluir ou excluir perguntas e categorias, bem como mensagens de resultados para cada categoria, seja uma tarefa simples. A utilização do sistema para avaliação de quaisquer outras áreas do conhecimento humano pode ser facilmente adaptada."
      ],
      "metadata": {
        "id": "ez9-Vdm9knRq"
      }
    },
    {
      "cell_type": "code",
      "source": [
        "# @title Instalação e importação de frameworks\n",
        "#!pip install tensorflow\n",
        "\n",
        "# Realiza as importações dos frameworks necessários\n",
        "import IPython\n",
        "import numpy as np\n",
        "import os\n",
        "import warnings\n",
        "import logging\n",
        "import sys\n",
        "import torch\n",
        "\n",
        "!pip install transformers torch sentence-transformers\n",
        "!pip install sentence-transformers\n",
        "!pip install transformers\n",
        "\n",
        "from IPython.display import display\n",
        "from IPython.display import HTML\n",
        "from enum import Enum\n",
        "from sentence_transformers import SentenceTransformer\n",
        "from sklearn.metrics.pairwise import cosine_similarity\n",
        "\n",
        "\n",
        "warnings.filterwarnings('ignore')"
      ],
      "metadata": {
        "id": "5bch7PwidYwt",
        "collapsed": true,
        "cellView": "form"
      },
      "execution_count": null,
      "outputs": []
    },
    {
      "cell_type": "code",
      "source": [
        "# @title Classe de exibição de textos formatados\n",
        "# Classe para escrever texto formatado\n",
        "class MessageType(Enum):\n",
        "  mtTitulo      = \"font-size:18px; font-weight:bold; color:#C6E5FF; text-decoration: underline; line-height: 3;\"\n",
        "  mtCabecalho   = \"font-size:16px; font-weight:bold; color:#C6E5FF; text-decoration: underline; line-height: 2;\"\n",
        "  mtPergunta    = \"color: #AAD3FF; line-height: 1.5;\"\n",
        "  mtTipPergunta = \"color: #C0C0C0; font-size:10px; font-style: italic\"\n",
        "  mtResultado   = \"color: #AAD3FF; font-style: italic;\"\n",
        "  mtErro        = \"color:#EB564B; \"\n",
        "  mtNormal      = \"\"\n",
        "\n",
        "class Display:\n",
        "  @staticmethod\n",
        "  def ShowMessage(Message: str, MessageType: MessageType):\n",
        "    if MessageType == MessageType.mtNormal:\n",
        "      print(Message)\n",
        "    else:\n",
        "      display(HTML(f'<span style=\"{MessageType.value}\">{Message}</span>'))"
      ],
      "metadata": {
        "id": "3I6qvIPci3Vz",
        "cellView": "form"
      },
      "execution_count": null,
      "outputs": []
    },
    {
      "cell_type": "code",
      "source": [
        "# @title Classes Data Transfer (DTO)\n",
        "# Classe de tipo de questionário\n",
        "class Questionario:\n",
        "  def __init__(self, titulo: str, introducao: str):\n",
        "    self.Titulo = titulo\n",
        "    self.Introducao = introducao\n",
        "\n",
        "  def __repr__(self):\n",
        "    return f\"Questionario(Titulo={self.Titulo}, Introducao={self.Introducao})\"\n",
        "#------------------------------------------------------------------------\n",
        "\n",
        "class RespostaItem:\n",
        "  def __init__(self, caption: str):\n",
        "    self.Caption = caption\n",
        "\n",
        "  def __repr__(self):\n",
        "    return f\"RespostaItem(Caption={self.Caption})\"\n",
        "#------------------------------------------------------------------------\n",
        "\n",
        "class PerguntaItem:\n",
        "  def __init__(self, index: int, caption: str, resposta: RespostaItem):\n",
        "    self.Index = index\n",
        "    self.Caption = caption\n",
        "    self.Resposta = resposta\n",
        "\n",
        "  def __repr__(self):\n",
        "    return f\"PerguntaItem(Index={self.Index}, Caption={self.Caption}, Respostas={self.Resposta})\"\n",
        "#------------------------------------------------------------------------\n",
        "\n",
        "class CategoriaPergunteItem:\n",
        "  def __init__(self, index: int, caption: str, peso: float, perguntas: list[PerguntaItem]):\n",
        "    self.Index = index\n",
        "    self.Caption = caption\n",
        "    self.Peso = peso\n",
        "    self.Perguntas = perguntas\n",
        "\n",
        "  def __repr__(self):\n",
        "    return f\"CategoriaPergunteItem(Index={self.Index}, Caption={self.Caption}, Peso={self.Peso}, Perguntas={self.Perguntas})\"\n",
        "#------------------------------------------------------------------------\n",
        "\n",
        "class RespostaAlunoItem:\n",
        "  def __init__(self, categoria: int, pergunta: int, resposta: str):\n",
        "    self.Categoria = categoria\n",
        "    self.Pergunta = pergunta\n",
        "    self.Resposta = resposta\n",
        "    self.Correspondencia = 0;\n",
        "\n",
        "  def __repr__(self):\n",
        "    return f\"RespostaAlunoItem(Categoria={self.Categoria}, Pergunta={self.Pergunta}, Resposta={self.Resposta}, Correspondencia={self.Correspondencia})\"\n",
        "#------------------------------------------------------------------------\n",
        "\n",
        "class DesempenhoAlunoItem:\n",
        "  def __init__(self, categoria: int, pontuacao: float, pontuacaoMaxima: float):\n",
        "    self.Categoria = categoria\n",
        "    self.Pontuacao = pontuacao\n",
        "    self.PontuacaoMaxima = pontuacaoMaxima\n",
        "\n",
        "  def __repr__(self):\n",
        "    return f\"DesempenhoAlunoItem(Categoria={self.Categoria}, Pontuacao={self.Pontuacao}, Pontuação Máxima={self.PontuacaoMaxima})\"\n",
        "#------------------------------------------------------------------------\n",
        "\n",
        "class AnaliseRespostaCategoria:\n",
        "  def __init__(self, categoria: int, nivel: int, mensagem: str):\n",
        "    self.Categoria = categoria\n",
        "    self.Nivel = nivel\n",
        "    self.Mensagem = mensagem\n",
        "\n",
        "  def __repr__(self):\n",
        "    return f\"AnaliseRespostaCategoria(Categoria={self.Categoria}, Nivel={self.Nivel}, Mensagem={self.Mensagem})\"\n",
        "#------------------------------------------------------------------------\n"
      ],
      "metadata": {
        "id": "if93qXqZLrZ2",
        "cellView": "form"
      },
      "execution_count": null,
      "outputs": []
    },
    {
      "cell_type": "code",
      "source": [
        "# @title Monta questionário e avaliação final\n",
        "#Builder para criar o título e a descrição do questionário\n",
        "class QuestionarioBuilder:\n",
        "  @staticmethod\n",
        "  def Build(self):\n",
        "    self.DescicaoQuestionario = Questionario(\"Avaliação de Conhecimentos Básicos de Fotografia\",\n",
        "                                             \"Com o intuito de avaliar suas capacidades fotográficas e o que conseguiu apreender durante\\n\" +\n",
        "                                             \"o curso básico de fotografia, além de guiá-lo no desenvolvimento de suas capacidades e ajudá-lo\\n\" +\n",
        "                                             \"a identificar seus pontos fortes e fracos, apresentamos a avaliação abaixo.\\n\\n\" +\n",
        "                                             \"Leia atentamente as perguntas e as respostas e responda da melhor forma as questões propostas.\\n\" +\n",
        "                                             \"Em tempo, não pense que as questões são feitas de \"\"certo/errado\"\" ou possuem uma resposta pétrea, pois em alguns casos podem \\n\" +\n",
        "                                             \"existir várias respostas corretas, de acordo com o seu nível de conhecimento.\\n\\n\" +\n",
        "                                             \"Vamos começar.\")\n",
        "\n",
        "    return self.DescicaoQuestionario\n",
        "#------------------------------------------------------------------------\n",
        "\n",
        "# Builder para criar a estrutura de perguntas\n",
        "class PerguntasBuilder:\n",
        "  @staticmethod\n",
        "  def Build():\n",
        "    listaPeguntas = [\n",
        "        CategoriaPergunteItem(1, \"Conceitos Básicos\", 3,\n",
        "                              [PerguntaItem(1, \"Onde deve estar o foco em fotografias de pessoas?\",\n",
        "                                            RespostaItem(\"Deve estar sempre nos olhos da pessoa\")),\n",
        "                              PerguntaItem(2, \"Sobre profundidade de campo, qual o efeito quando se fecha o diafragma?\",\n",
        "                                           RespostaItem(\"Quanto mais fechado o diafragma, maior a profundidade de campo\")),\n",
        "                              PerguntaItem(3, \"O que é ISO?\",\n",
        "                                           RespostaItem(\"Medida da sensibilidade do sensor à luz que chega até ele\")),\n",
        "                              PerguntaItem(4, \"Qual a unidade de medida e quais os efeitos da velocidade do obturador no resultado da foto?\",\n",
        "                                           RespostaItem(\"É representada em segundos e suas frações e tem a capacidade de congelar a cena quando alta o suficiente\")),\n",
        "                              PerguntaItem(5, \"Qual é a letra que representa a unidade de medida da abertura do diafragma e qual o seu efeito sobre a quantidade de luz que chega ao sensor?\",\n",
        "                                           RespostaItem(\"Possui a letra f como unidade de medida e quanto menor seu valor, mais luz chega ao sensor\"))\n",
        "                              ]),\n",
        "        CategoriaPergunteItem(2, \"Composição\", 2,\n",
        "                              [PerguntaItem(1, \"O que é a regra dos terços?\",\n",
        "                                            RespostaItem(\"É a divisão do frame em áreas de três linhas e três colunas. As intersecções das linhas imaginárias dessa divisão determina o posicionamento dos elementos da foto\")),\n",
        "                               PerguntaItem(2, \"Como a técnica de composição utilizando \"\"linhas guia\"\" interfere na percepção do observador da fotografia?\",\n",
        "                                            RespostaItem(\"Elas sugerem inconscientemente ao observador o caminho que leva ao ponto de interesse da foto\")),\n",
        "                               PerguntaItem(3, \"Descreva o uso da técnica da simetria:\",\n",
        "                                            RespostaItem(\"Os elementos da fotografia devem estar dispostos de forma simétrica, não importando a orientação e nem o formato da foto\"))\n",
        "                              ])\n",
        "    ]\n",
        "    return listaPeguntas\n",
        "#------------------------------------------------------------------------\n",
        "\n",
        "# Builder para criar a estrutura de análise de respostas\n",
        "class ResultadosAnaliseBuilder:\n",
        "  @staticmethod\n",
        "  def Build():\n",
        "    listaResultadoAnaliseCategoria = [AnaliseRespostaCategoria(1, 0, \"Você não estudou nada, afinal de contas.\"),\n",
        "                                      AnaliseRespostaCategoria(1, 1, \"Você ainda precisa estudar muito. Todas as suas boas fotos são, de uma forma geral, \\n\" +\n",
        "                                                                     \"obra da sorte.\"),\n",
        "                                      AnaliseRespostaCategoria(1, 2, \"Você já tem um conhecimento básico e pode tirar boas fotos, mas ainda conta muito \\n\" +\n",
        "                                                                     \"com o fator \"\"sorte\"\" para conseguir fotos com alguma qualidade.\"),\n",
        "                                      AnaliseRespostaCategoria(1, 3, \"Você possui um bom conhecimento dos conceitos básicos de fotografia, o que lhe permite \\n\" +\n",
        "                                                                     \"um bom aproveitamento das fotos tiradas.\"),\n",
        "                                      AnaliseRespostaCategoria(1, 4, \"Você possui todos os conhecimentos básicos necessários para garantir uma boa fotografia, \\n\" +\n",
        "                                                                     \"embora somente esses conhecimentos não garantam uma foto sem as técnicas de composição \\n\" +\n",
        "                                                                     \"adequadas.\"),\n",
        "\n",
        "                                      AnaliseRespostaCategoria(2, 0, \"Você não estudou nada, afinal de contas.\"),\n",
        "                                      AnaliseRespostaCategoria(2, 1, \"Você não consegue, de forma consciente, obter boas fotografias. Ainda depende muito da sorte.\"),\n",
        "                                      AnaliseRespostaCategoria(2, 2, \"Você consegue fazer boas fotos, mas mais estudo pode garantir a sua independência da sorte.\"),\n",
        "                                      AnaliseRespostaCategoria(2, 3, \"Você já consegue ótimas fotos e de forma consciente. Com esse nível de conhecimento,o fator \\n\" +\n",
        "                                                                     \"sorte já está quase eliminado.\"),\n",
        "                                      AnaliseRespostaCategoria(2, 4, \"Você já é capaz de fazer excelentes fotografias e, embora a sorte seja uma grande aliada \\n\" +\n",
        "                                                                     \"do fotógrafo e não deva ser desprezada, suas fotos já têm o potencial de impactar somente \\n\" +\n",
        "                                                                     \"pelos seus conhecimentos.\")]\n",
        "\n",
        "    return listaResultadoAnaliseCategoria"
      ],
      "metadata": {
        "id": "UYY2vL1YBKfk",
        "cellView": "form"
      },
      "execution_count": null,
      "outputs": []
    },
    {
      "cell_type": "code",
      "source": [
        "# @title Classe para ler opções de resposta\n",
        "class Keyboard:\n",
        "  @staticmethod\n",
        "  def input():\n",
        "    Display.ShowMessage(\"Digite sua resposta ou deixe a linha em branco para sair:\", MessageType.mtTipPergunta)\n",
        "    retorno = input()\n",
        "    return retorno"
      ],
      "metadata": {
        "id": "RAJMDxs-tVUa",
        "cellView": "form"
      },
      "execution_count": null,
      "outputs": []
    },
    {
      "cell_type": "code",
      "source": [
        "# @title Classe para analisar as respostas do aluno\n",
        "class AnaliseRespostas:\n",
        "\n",
        "  def pertinencia_linear_crescente(x, a, b):\n",
        "      if x <= a:\n",
        "          return 0\n",
        "      elif a < x <= b:\n",
        "          return ((x - a) / (b - a))\n",
        "      else:\n",
        "          return 1\n",
        "\n",
        "  @staticmethod\n",
        "  def AnalisarRespostas(listaRespostasAluno: list[RespostaAlunoItem], listaPerguntas: list[CategoriaPergunteItem]):\n",
        "    model = SentenceTransformer('distiluse-base-multilingual-cased')\n",
        "\n",
        "    for respostaAluno in listaRespostasAluno:\n",
        "      # obtendso a categoria e a pergunta referente à resposta\n",
        "      categoria = next((obj for obj in listaPerguntas if obj.Index == respostaAluno.Categoria), None)\n",
        "      pergunta = next((obj for obj in categoria.Perguntas if obj.Index == respostaAluno.Pergunta), None)\n",
        "\n",
        "      # Obter os embeddings dos textos\n",
        "      embedding_gabarito = model.encode(pergunta.Resposta.Caption, convert_to_tensor = True, batch_size=16).unsqueeze(0)\n",
        "      embedding_resposta = model.encode(respostaAluno.Resposta, convert_to_tensor = True, batch_size=16).unsqueeze(0)\n",
        "\n",
        "      similaridade = cosine_similarity(embedding_gabarito, embedding_resposta).item()\n",
        "      respostaAluno.Correspondencia = AnaliseRespostas.pertinencia_linear_crescente(similaridade, 0, 1)\n"
      ],
      "metadata": {
        "id": "LDuqRGJSQ6xE",
        "cellView": "form"
      },
      "execution_count": null,
      "outputs": []
    },
    {
      "cell_type": "code",
      "source": [
        "# @title Classe para calcular o desempenho do aluno\n",
        "class DesempenhoAluno:\n",
        "  @staticmethod\n",
        "  def Calcular(listaRespostasAluno: list, listaPerguntas: list):\n",
        "    DesempenhoAlunoLista = []\n",
        "\n",
        "    for respostaAluno in listaRespostasAluno:\n",
        "      # obtendso a categoria e a pergunta referente à resposta\n",
        "      categoria = next((obj for obj in listaPerguntas if obj.Index == respostaAluno.Categoria), None)\n",
        "      pergunta = next((obj for obj in categoria.Perguntas if obj.Index == respostaAluno.Pergunta), None)\n",
        "\n",
        "      # Obtém objeto de desempenho da categoria\n",
        "      desempenhoAluno = next((obj for obj in DesempenhoAlunoLista if obj.Categoria == respostaAluno.Categoria), None)\n",
        "\n",
        "      if desempenhoAluno is None:\n",
        "        desempenhoAluno = DesempenhoAlunoItem(respostaAluno.Categoria, 0, len(categoria.Perguntas) * categoria.Peso)\n",
        "        DesempenhoAlunoLista.append(desempenhoAluno)\n",
        "\n",
        "      # Calcula o desempenho do aluno\n",
        "      desempenhoAluno.Pontuacao += respostaAluno.Correspondencia * categoria.Peso\n",
        "\n",
        "    return DesempenhoAlunoLista\n",
        "\n"
      ],
      "metadata": {
        "cellView": "form",
        "id": "akESHDlLUyk-"
      },
      "execution_count": null,
      "outputs": []
    },
    {
      "cell_type": "code",
      "source": [
        "# @title Classe para exibir os resultados da análise final\n",
        "class ResultadosAnalise:\n",
        "  @staticmethod\n",
        "  def pertinenciaCategorica(valor, valorMaximo, numFaixas):\n",
        "    # Dividir o intervalo [0, maximo] em numFaixas partes\n",
        "    faixa = valorMaximo / numFaixas\n",
        "\n",
        "    if valor <= 0:\n",
        "        return 0\n",
        "    for i in range(1, numFaixas + 1):\n",
        "        if valor <= i * faixa:\n",
        "            return i\n",
        "    return numFaixas  # Se o valor for maior que valorMaximo, retorna numFaixas\n",
        "\n",
        "\n",
        "  @staticmethod\n",
        "  def Exibir(listaDesempenhoAluno: list, listaPerguntas: list, listaRespostas: list):\n",
        "    Display.ShowMessage(\"Resultados\", MessageType.mtTitulo)\n",
        "    listaResultados = ResultadosAnaliseBuilder.Build();\n",
        "\n",
        "    for desempenhoAluno in listaDesempenhoAluno:\n",
        "      # Utiliza a função de persistência categórica para encontrar a faixa de pontos relativa à cada resultado\n",
        "      numeroRespostas = sum(1 for resultado in listaResultados if resultado.Categoria == desempenhoAluno.Categoria) - 1\n",
        "      nivelAluno = ResultadosAnalise.pertinenciaCategorica(desempenhoAluno.Pontuacao, desempenhoAluno.PontuacaoMaxima, numeroRespostas)\n",
        "\n",
        "      resultado = next((obj for obj in listaResultados if obj if (obj.Categoria == desempenhoAluno.Categoria) and (obj.Nivel == nivelAluno)), None)\n",
        "\n",
        "      # Caso ocorra algum comportamento não previsto na função de persistência, usa a mensagem 0\n",
        "      if resultado is None:\n",
        "        resultado = next((obj for obj in listaResultados if obj if (obj.Categoria == desempenhoAluno.Categoria) and (obj.Nivel == 0)), None)\n",
        "\n",
        "      categoria = next((obj for obj in listaPerguntas if obj.Index == resultado.Categoria), None)\n",
        "      notaAluno = np.interp(desempenhoAluno.Pontuacao, [0, desempenhoAluno.PontuacaoMaxima], [0, 10])\n",
        "\n",
        "      # Mostra os resultados por categoria\n",
        "      Display.ShowMessage(categoria.Caption, MessageType.mtCabecalho)\n",
        "      Display.ShowMessage(f\"Resultado: {notaAluno:.0f}\", MessageType.mtResultado)\n",
        "      Display.ShowMessage(chr(175) * 45, MessageType.mtPergunta)\n",
        "\n",
        "      Display.ShowMessage(resultado.Mensagem, MessageType.mtNormal)\n",
        "      Display.ShowMessage(\"\", MessageType.mtNormal)\n"
      ],
      "metadata": {
        "id": "82KvezL5yvNI",
        "cellView": "form"
      },
      "execution_count": 304,
      "outputs": []
    },
    {
      "cell_type": "code",
      "source": [
        "# @title Classe que exibe o questionário e recolhe as respostas a cada pergunta\n",
        "\n",
        "class AvaliacaoFotografo:\n",
        "  def __init__(self):\n",
        "    self.finalizarExecucao = False;\n",
        "    self.respostasAluno = []\n",
        "    self.listaPerguntas = PerguntasBuilder.Build()\n",
        "    self.Introducao = QuestionarioBuilder.Build(self)\n",
        "    self.DesempenhoAluno = []\n",
        "\n",
        "  #-----------------------------------------------------------------------------\n",
        "  def Le_Resposta(self):\n",
        "    if self.finalizarExecucao:\n",
        "      return\n",
        "\n",
        "    retorno = Keyboard.input()\n",
        "\n",
        "    if (retorno == \"\") or (retorno is None):\n",
        "      self.finalizarExecucao = True\n",
        "\n",
        "    return retorno\n",
        "  #-----------------------------------------------------------------------------\n",
        "\n",
        "  def IniciarAvaliacao(self):\n",
        "    #Introdução\n",
        "    Display.ShowMessage(self.Introducao.Titulo, MessageType.mtTitulo)\n",
        "    Display.ShowMessage(\"Introdução\", MessageType.mtCabecalho)\n",
        "    Display.ShowMessage(self.Introducao.Introducao, MessageType.mtNormal)\n",
        "    Display.ShowMessage(\"\", MessageType.mtNormal)\n",
        "\n",
        "    # Mostra a categoria da pergunta\n",
        "    for categoria in self.listaPerguntas:\n",
        "      Display.ShowMessage(categoria.Caption, MessageType.mtCabecalho)\n",
        "\n",
        "      # Mostra a pergunta da vez\n",
        "      for pergunta in categoria.Perguntas:\n",
        "        Display.ShowMessage(pergunta.Caption, MessageType.mtPergunta)\n",
        "\n",
        "        # Espera que o usuário responda\n",
        "        resposta_dada = self.Le_Resposta()\n",
        "\n",
        "        Display.ShowMessage(chr(175) * 45, MessageType.mtPergunta)\n",
        "\n",
        "        # Sai da aplicação caso o usuário decida\n",
        "        if self.finalizarExecucao:\n",
        "          break\n",
        "        else:\n",
        "          Display.ShowMessage(\"\", MessageType.mtNormal)\n",
        "\n",
        "        # Guarda a resposta do aluno\n",
        "        self.respostasAluno.append(RespostaAlunoItem(categoria.Index, pergunta.Index, resposta_dada))\n",
        "\n",
        "      # End for ------------------------------------------------------------------\n",
        "\n",
        "      if self.finalizarExecucao:\n",
        "        break\n",
        "      else:\n",
        "        Display.ShowMessage(\"\", MessageType.mtNormal)\n",
        "\n",
        "    if self.finalizarExecucao:\n",
        "      Display.ShowMessage(\"\", MessageType.mtNormal)\n",
        "      Display.ShowMessage(\"O usuário solicitou a finalização da avaliação!\", MessageType.mtErro)\n",
        "\n",
        "    # Analisa as respostas do aluno\n",
        "    AnaliseRespostas.AnalisarRespostas(self.respostasAluno, self.listaPerguntas)\n",
        "\n",
        "    # Gera desempenho do aluno\n",
        "    self.DesempenhoAluno = DesempenhoAluno.Calcular(self.respostasAluno, self.listaPerguntas)\n",
        "\n",
        "    # Mostra resultados do aluno\n",
        "    ResultadosAnalise.Exibir(self.DesempenhoAluno, self.listaPerguntas, self.respostasAluno)"
      ],
      "metadata": {
        "id": "EOE1Iwa3OB0Z",
        "cellView": "form"
      },
      "execution_count": null,
      "outputs": []
    },
    {
      "cell_type": "code",
      "source": [
        "# @title Executa a aplicação de questionário sobre conhecimentos fotográficos\n",
        "#\n",
        "AvaliacaoFotografo().IniciarAvaliacao()\n"
      ],
      "metadata": {
        "id": "x_xM-6TYySDg",
        "colab": {
          "base_uri": "https://localhost:8080/",
          "height": 1000
        },
        "outputId": "8e71447c-a87b-4925-8230-83047688de4e",
        "collapsed": true,
        "cellView": "form"
      },
      "execution_count": 305,
      "outputs": [
        {
          "output_type": "display_data",
          "data": {
            "text/plain": [
              "<IPython.core.display.HTML object>"
            ],
            "text/html": [
              "<span style=\"font-size:18px; font-weight:bold; color:#C6E5FF; text-decoration: underline; line-height: 3;\">Avaliação de Conhecimentos Básicos de Fotografia</span>"
            ]
          },
          "metadata": {}
        },
        {
          "output_type": "display_data",
          "data": {
            "text/plain": [
              "<IPython.core.display.HTML object>"
            ],
            "text/html": [
              "<span style=\"font-size:16px; font-weight:bold; color:#C6E5FF; text-decoration: underline; line-height: 2;\">Introdução</span>"
            ]
          },
          "metadata": {}
        },
        {
          "output_type": "stream",
          "name": "stdout",
          "text": [
            "Com o intuito de avaliar suas capacidades fotográficas e o que conseguiu apreender durante\n",
            "o curso básico de fotografia, além de guiá-lo no desenvolvimento de suas capacidades e ajudá-lo\n",
            "a identificar seus pontos fortes e fracos, apresentamos a avaliação abaixo.\n",
            "\n",
            "Leia atentamente as perguntas e as respostas e responda da melhor forma as questões propostas.\n",
            "Em tempo, não pense que as questões são feitas de certo/errado ou possuem uma resposta pétrea, pois em alguns casos podem \n",
            "existir várias respostas corretas, de acordo com o seu nível de conhecimento.\n",
            "\n",
            "Vamos começar.\n",
            "\n"
          ]
        },
        {
          "output_type": "display_data",
          "data": {
            "text/plain": [
              "<IPython.core.display.HTML object>"
            ],
            "text/html": [
              "<span style=\"font-size:16px; font-weight:bold; color:#C6E5FF; text-decoration: underline; line-height: 2;\">Conceitos Básicos</span>"
            ]
          },
          "metadata": {}
        },
        {
          "output_type": "display_data",
          "data": {
            "text/plain": [
              "<IPython.core.display.HTML object>"
            ],
            "text/html": [
              "<span style=\"color: #AAD3FF; line-height: 1.5;\">Onde deve estar o foco em fotografias de pessoas?</span>"
            ]
          },
          "metadata": {}
        },
        {
          "output_type": "display_data",
          "data": {
            "text/plain": [
              "<IPython.core.display.HTML object>"
            ],
            "text/html": [
              "<span style=\"color: #C0C0C0; font-size:10px; font-style: italic\">Digite sua resposta ou deixe a linha em branco para sair:</span>"
            ]
          },
          "metadata": {}
        },
        {
          "name": "stdout",
          "output_type": "stream",
          "text": [
            "Deve estar sempre nos olhos da pessoa\n"
          ]
        },
        {
          "output_type": "display_data",
          "data": {
            "text/plain": [
              "<IPython.core.display.HTML object>"
            ],
            "text/html": [
              "<span style=\"color: #AAD3FF; line-height: 1.5;\">¯¯¯¯¯¯¯¯¯¯¯¯¯¯¯¯¯¯¯¯¯¯¯¯¯¯¯¯¯¯¯¯¯¯¯¯¯¯¯¯¯¯¯¯¯</span>"
            ]
          },
          "metadata": {}
        },
        {
          "output_type": "stream",
          "name": "stdout",
          "text": [
            "\n"
          ]
        },
        {
          "output_type": "display_data",
          "data": {
            "text/plain": [
              "<IPython.core.display.HTML object>"
            ],
            "text/html": [
              "<span style=\"color: #AAD3FF; line-height: 1.5;\">Sobre profundidade de campo, qual o efeito quando se fecha o diafragma?</span>"
            ]
          },
          "metadata": {}
        },
        {
          "output_type": "display_data",
          "data": {
            "text/plain": [
              "<IPython.core.display.HTML object>"
            ],
            "text/html": [
              "<span style=\"color: #C0C0C0; font-size:10px; font-style: italic\">Digite sua resposta ou deixe a linha em branco para sair:</span>"
            ]
          },
          "metadata": {}
        },
        {
          "name": "stdout",
          "output_type": "stream",
          "text": [
            "Não sei\n"
          ]
        },
        {
          "output_type": "display_data",
          "data": {
            "text/plain": [
              "<IPython.core.display.HTML object>"
            ],
            "text/html": [
              "<span style=\"color: #AAD3FF; line-height: 1.5;\">¯¯¯¯¯¯¯¯¯¯¯¯¯¯¯¯¯¯¯¯¯¯¯¯¯¯¯¯¯¯¯¯¯¯¯¯¯¯¯¯¯¯¯¯¯</span>"
            ]
          },
          "metadata": {}
        },
        {
          "output_type": "stream",
          "name": "stdout",
          "text": [
            "\n"
          ]
        },
        {
          "output_type": "display_data",
          "data": {
            "text/plain": [
              "<IPython.core.display.HTML object>"
            ],
            "text/html": [
              "<span style=\"color: #AAD3FF; line-height: 1.5;\">O que é ISO?</span>"
            ]
          },
          "metadata": {}
        },
        {
          "output_type": "display_data",
          "data": {
            "text/plain": [
              "<IPython.core.display.HTML object>"
            ],
            "text/html": [
              "<span style=\"color: #C0C0C0; font-size:10px; font-style: italic\">Digite sua resposta ou deixe a linha em branco para sair:</span>"
            ]
          },
          "metadata": {}
        },
        {
          "name": "stdout",
          "output_type": "stream",
          "text": [
            "Não sei\n"
          ]
        },
        {
          "output_type": "display_data",
          "data": {
            "text/plain": [
              "<IPython.core.display.HTML object>"
            ],
            "text/html": [
              "<span style=\"color: #AAD3FF; line-height: 1.5;\">¯¯¯¯¯¯¯¯¯¯¯¯¯¯¯¯¯¯¯¯¯¯¯¯¯¯¯¯¯¯¯¯¯¯¯¯¯¯¯¯¯¯¯¯¯</span>"
            ]
          },
          "metadata": {}
        },
        {
          "output_type": "stream",
          "name": "stdout",
          "text": [
            "\n"
          ]
        },
        {
          "output_type": "display_data",
          "data": {
            "text/plain": [
              "<IPython.core.display.HTML object>"
            ],
            "text/html": [
              "<span style=\"color: #AAD3FF; line-height: 1.5;\">Qual a unidade de medida e quais os efeitos da velocidade do obturador no resultado da foto?</span>"
            ]
          },
          "metadata": {}
        },
        {
          "output_type": "display_data",
          "data": {
            "text/plain": [
              "<IPython.core.display.HTML object>"
            ],
            "text/html": [
              "<span style=\"color: #C0C0C0; font-size:10px; font-style: italic\">Digite sua resposta ou deixe a linha em branco para sair:</span>"
            ]
          },
          "metadata": {}
        },
        {
          "name": "stdout",
          "output_type": "stream",
          "text": [
            "Não sei\n"
          ]
        },
        {
          "output_type": "display_data",
          "data": {
            "text/plain": [
              "<IPython.core.display.HTML object>"
            ],
            "text/html": [
              "<span style=\"color: #AAD3FF; line-height: 1.5;\">¯¯¯¯¯¯¯¯¯¯¯¯¯¯¯¯¯¯¯¯¯¯¯¯¯¯¯¯¯¯¯¯¯¯¯¯¯¯¯¯¯¯¯¯¯</span>"
            ]
          },
          "metadata": {}
        },
        {
          "output_type": "stream",
          "name": "stdout",
          "text": [
            "\n"
          ]
        },
        {
          "output_type": "display_data",
          "data": {
            "text/plain": [
              "<IPython.core.display.HTML object>"
            ],
            "text/html": [
              "<span style=\"color: #AAD3FF; line-height: 1.5;\">Qual é a letra que representa a unidade de medida da abertura do diafragma e qual o seu efeito sobre a quantidade de luz que chega ao sensor?</span>"
            ]
          },
          "metadata": {}
        },
        {
          "output_type": "display_data",
          "data": {
            "text/plain": [
              "<IPython.core.display.HTML object>"
            ],
            "text/html": [
              "<span style=\"color: #C0C0C0; font-size:10px; font-style: italic\">Digite sua resposta ou deixe a linha em branco para sair:</span>"
            ]
          },
          "metadata": {}
        },
        {
          "name": "stdout",
          "output_type": "stream",
          "text": [
            "Não sei\n"
          ]
        },
        {
          "output_type": "display_data",
          "data": {
            "text/plain": [
              "<IPython.core.display.HTML object>"
            ],
            "text/html": [
              "<span style=\"color: #AAD3FF; line-height: 1.5;\">¯¯¯¯¯¯¯¯¯¯¯¯¯¯¯¯¯¯¯¯¯¯¯¯¯¯¯¯¯¯¯¯¯¯¯¯¯¯¯¯¯¯¯¯¯</span>"
            ]
          },
          "metadata": {}
        },
        {
          "output_type": "stream",
          "name": "stdout",
          "text": [
            "\n",
            "\n"
          ]
        },
        {
          "output_type": "display_data",
          "data": {
            "text/plain": [
              "<IPython.core.display.HTML object>"
            ],
            "text/html": [
              "<span style=\"font-size:16px; font-weight:bold; color:#C6E5FF; text-decoration: underline; line-height: 2;\">Composição</span>"
            ]
          },
          "metadata": {}
        },
        {
          "output_type": "display_data",
          "data": {
            "text/plain": [
              "<IPython.core.display.HTML object>"
            ],
            "text/html": [
              "<span style=\"color: #AAD3FF; line-height: 1.5;\">O que é a regra dos terços?</span>"
            ]
          },
          "metadata": {}
        },
        {
          "output_type": "display_data",
          "data": {
            "text/plain": [
              "<IPython.core.display.HTML object>"
            ],
            "text/html": [
              "<span style=\"color: #C0C0C0; font-size:10px; font-style: italic\">Digite sua resposta ou deixe a linha em branco para sair:</span>"
            ]
          },
          "metadata": {}
        },
        {
          "name": "stdout",
          "output_type": "stream",
          "text": [
            "Não sei\n"
          ]
        },
        {
          "output_type": "display_data",
          "data": {
            "text/plain": [
              "<IPython.core.display.HTML object>"
            ],
            "text/html": [
              "<span style=\"color: #AAD3FF; line-height: 1.5;\">¯¯¯¯¯¯¯¯¯¯¯¯¯¯¯¯¯¯¯¯¯¯¯¯¯¯¯¯¯¯¯¯¯¯¯¯¯¯¯¯¯¯¯¯¯</span>"
            ]
          },
          "metadata": {}
        },
        {
          "output_type": "stream",
          "name": "stdout",
          "text": [
            "\n"
          ]
        },
        {
          "output_type": "display_data",
          "data": {
            "text/plain": [
              "<IPython.core.display.HTML object>"
            ],
            "text/html": [
              "<span style=\"color: #AAD3FF; line-height: 1.5;\">Como a técnica de composição utilizando linhas guia interfere na percepção do observador da fotografia?</span>"
            ]
          },
          "metadata": {}
        },
        {
          "output_type": "display_data",
          "data": {
            "text/plain": [
              "<IPython.core.display.HTML object>"
            ],
            "text/html": [
              "<span style=\"color: #C0C0C0; font-size:10px; font-style: italic\">Digite sua resposta ou deixe a linha em branco para sair:</span>"
            ]
          },
          "metadata": {}
        },
        {
          "name": "stdout",
          "output_type": "stream",
          "text": [
            "Não sei\n"
          ]
        },
        {
          "output_type": "display_data",
          "data": {
            "text/plain": [
              "<IPython.core.display.HTML object>"
            ],
            "text/html": [
              "<span style=\"color: #AAD3FF; line-height: 1.5;\">¯¯¯¯¯¯¯¯¯¯¯¯¯¯¯¯¯¯¯¯¯¯¯¯¯¯¯¯¯¯¯¯¯¯¯¯¯¯¯¯¯¯¯¯¯</span>"
            ]
          },
          "metadata": {}
        },
        {
          "output_type": "stream",
          "name": "stdout",
          "text": [
            "\n"
          ]
        },
        {
          "output_type": "display_data",
          "data": {
            "text/plain": [
              "<IPython.core.display.HTML object>"
            ],
            "text/html": [
              "<span style=\"color: #AAD3FF; line-height: 1.5;\">Descreva o uso da técnica da simetria:</span>"
            ]
          },
          "metadata": {}
        },
        {
          "output_type": "display_data",
          "data": {
            "text/plain": [
              "<IPython.core.display.HTML object>"
            ],
            "text/html": [
              "<span style=\"color: #C0C0C0; font-size:10px; font-style: italic\">Digite sua resposta ou deixe a linha em branco para sair:</span>"
            ]
          },
          "metadata": {}
        },
        {
          "name": "stdout",
          "output_type": "stream",
          "text": [
            "Não sei\n"
          ]
        },
        {
          "output_type": "display_data",
          "data": {
            "text/plain": [
              "<IPython.core.display.HTML object>"
            ],
            "text/html": [
              "<span style=\"color: #AAD3FF; line-height: 1.5;\">¯¯¯¯¯¯¯¯¯¯¯¯¯¯¯¯¯¯¯¯¯¯¯¯¯¯¯¯¯¯¯¯¯¯¯¯¯¯¯¯¯¯¯¯¯</span>"
            ]
          },
          "metadata": {}
        },
        {
          "output_type": "stream",
          "name": "stdout",
          "text": [
            "\n",
            "\n"
          ]
        },
        {
          "output_type": "display_data",
          "data": {
            "text/plain": [
              "<IPython.core.display.HTML object>"
            ],
            "text/html": [
              "<span style=\"font-size:18px; font-weight:bold; color:#C6E5FF; text-decoration: underline; line-height: 3;\">Resultados</span>"
            ]
          },
          "metadata": {}
        },
        {
          "output_type": "display_data",
          "data": {
            "text/plain": [
              "<IPython.core.display.HTML object>"
            ],
            "text/html": [
              "<span style=\"font-size:16px; font-weight:bold; color:#C6E5FF; text-decoration: underline; line-height: 2;\">Conceitos Básicos</span>"
            ]
          },
          "metadata": {}
        },
        {
          "output_type": "display_data",
          "data": {
            "text/plain": [
              "<IPython.core.display.HTML object>"
            ],
            "text/html": [
              "<span style=\"color: #AAD3FF; font-style: italic;\">Resultado: 2</span>"
            ]
          },
          "metadata": {}
        },
        {
          "output_type": "display_data",
          "data": {
            "text/plain": [
              "<IPython.core.display.HTML object>"
            ],
            "text/html": [
              "<span style=\"color: #AAD3FF; line-height: 1.5;\">¯¯¯¯¯¯¯¯¯¯¯¯¯¯¯¯¯¯¯¯¯¯¯¯¯¯¯¯¯¯¯¯¯¯¯¯¯¯¯¯¯¯¯¯¯</span>"
            ]
          },
          "metadata": {}
        },
        {
          "output_type": "stream",
          "name": "stdout",
          "text": [
            "Você ainda precisa estudar muito. Todas as suas boas fotos são, de uma forma geral, \n",
            "obra da sorte.\n",
            "\n"
          ]
        },
        {
          "output_type": "display_data",
          "data": {
            "text/plain": [
              "<IPython.core.display.HTML object>"
            ],
            "text/html": [
              "<span style=\"font-size:16px; font-weight:bold; color:#C6E5FF; text-decoration: underline; line-height: 2;\">Composição</span>"
            ]
          },
          "metadata": {}
        },
        {
          "output_type": "display_data",
          "data": {
            "text/plain": [
              "<IPython.core.display.HTML object>"
            ],
            "text/html": [
              "<span style=\"color: #AAD3FF; font-style: italic;\">Resultado: 0</span>"
            ]
          },
          "metadata": {}
        },
        {
          "output_type": "display_data",
          "data": {
            "text/plain": [
              "<IPython.core.display.HTML object>"
            ],
            "text/html": [
              "<span style=\"color: #AAD3FF; line-height: 1.5;\">¯¯¯¯¯¯¯¯¯¯¯¯¯¯¯¯¯¯¯¯¯¯¯¯¯¯¯¯¯¯¯¯¯¯¯¯¯¯¯¯¯¯¯¯¯</span>"
            ]
          },
          "metadata": {}
        },
        {
          "output_type": "stream",
          "name": "stdout",
          "text": [
            "Você não consegue, de forma consciente, obter boas fotografias. Ainda depende muito da sorte.\n",
            "\n"
          ]
        }
      ]
    }
  ]
}